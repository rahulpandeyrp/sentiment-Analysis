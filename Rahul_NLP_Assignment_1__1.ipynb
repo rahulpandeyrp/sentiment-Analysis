{
  "cells": [
    {
      "cell_type": "markdown",
      "metadata": {
        "id": "view-in-github",
        "colab_type": "text"
      },
      "source": [
        "<a href=\"https://colab.research.google.com/github/rahulpandeyrp/sentiment-Analysis/blob/main/Rahul_NLP_Assignment_1__1.ipynb\" target=\"_parent\"><img src=\"https://colab.research.google.com/assets/colab-badge.svg\" alt=\"Open In Colab\"/></a>"
      ]
    },
    {
      "cell_type": "markdown",
      "id": "bc97d6da",
      "metadata": {
        "id": "bc97d6da"
      },
      "source": [
        "## CS 6120: Natural Language Processing - Prof. Ahmad Uzair\n",
        "\n",
        "### Assignment 1: Naive Bayes\n",
        "### Total Points: 100 points\n",
        "\n",
        "You will be dealing with movie review data that includes both positive and negative reviews in this assignment. You will use Sentiment Analysis to assess if a given review is positive or negative using the provided dataset.\n",
        "\n",
        "Therefore, we will make use of Naive Bayes algorithm to perform sentiment analysis on the movie review dataset.\n",
        "\n",
        "## Importing the Libraries"
      ]
    },
    {
      "cell_type": "code",
      "execution_count": null,
      "id": "a03450ac",
      "metadata": {
        "id": "a03450ac"
      },
      "outputs": [],
      "source": [
        "import numpy as np\n",
        "import math\n",
        "import pandas as pd\n",
        "import re\n",
        "import nltk\n",
        "from nltk.corpus import stopwords\n",
        "from nltk.stem import PorterStemmer\n",
        "from nltk.tokenize import word_tokenize\n",
        "import warnings\n",
        "import seaborn as sns\n",
        "import matplotlib.pyplot as plt\n",
        "warnings.filterwarnings(\"ignore\")"
      ]
    },
    {
      "cell_type": "markdown",
      "id": "fc584cc2",
      "metadata": {
        "id": "fc584cc2"
      },
      "source": [
        "## Reading the data\n",
        "\n",
        "When reading the data, ensure that the '.csv' file is in the same location where your jupyter notebook is used. This way the files are organized and easy to read using the pandas library. "
      ]
    },
    {
      "cell_type": "code",
      "execution_count": null,
      "id": "3c9ffbf5",
      "metadata": {
        "id": "3c9ffbf5"
      },
      "outputs": [],
      "source": [
        "## Reading the data and removing columns that are not important. \n",
        "df = pd.read_csv(\"movie_reviews.csv\", sep = ',', encoding = 'latin-1', usecols = lambda col: col not in [\"Unnamed: 2\", \"Unnamed: 3\", \"Unnamed: 4\"])"
      ]
    },
    {
      "cell_type": "code",
      "execution_count": null,
      "id": "f7fa8ac0",
      "metadata": {
        "colab": {
          "base_uri": "https://localhost:8080/",
          "height": 206
        },
        "id": "f7fa8ac0",
        "outputId": "62700f4d-5335-4959-8088-e935cd92f9d9"
      },
      "outputs": [
        {
          "output_type": "execute_result",
          "data": {
            "text/plain": [
              "                                              review sentiment\n",
              "0  One of the other reviewers has mentioned that ...  positive\n",
              "1  A wonderful little production. <br /><br />The...  positive\n",
              "2  I thought this was a wonderful way to spend ti...  positive\n",
              "3  Petter Mattei's \"Love in the Time of Money\" is...  positive\n",
              "4  Probably my all-time favorite movie, a story o...  positive"
            ],
            "text/html": [
              "\n",
              "  <div id=\"df-c4d5fd5b-c064-411a-a19f-1d124f05f17a\">\n",
              "    <div class=\"colab-df-container\">\n",
              "      <div>\n",
              "<style scoped>\n",
              "    .dataframe tbody tr th:only-of-type {\n",
              "        vertical-align: middle;\n",
              "    }\n",
              "\n",
              "    .dataframe tbody tr th {\n",
              "        vertical-align: top;\n",
              "    }\n",
              "\n",
              "    .dataframe thead th {\n",
              "        text-align: right;\n",
              "    }\n",
              "</style>\n",
              "<table border=\"1\" class=\"dataframe\">\n",
              "  <thead>\n",
              "    <tr style=\"text-align: right;\">\n",
              "      <th></th>\n",
              "      <th>review</th>\n",
              "      <th>sentiment</th>\n",
              "    </tr>\n",
              "  </thead>\n",
              "  <tbody>\n",
              "    <tr>\n",
              "      <th>0</th>\n",
              "      <td>One of the other reviewers has mentioned that ...</td>\n",
              "      <td>positive</td>\n",
              "    </tr>\n",
              "    <tr>\n",
              "      <th>1</th>\n",
              "      <td>A wonderful little production. &lt;br /&gt;&lt;br /&gt;The...</td>\n",
              "      <td>positive</td>\n",
              "    </tr>\n",
              "    <tr>\n",
              "      <th>2</th>\n",
              "      <td>I thought this was a wonderful way to spend ti...</td>\n",
              "      <td>positive</td>\n",
              "    </tr>\n",
              "    <tr>\n",
              "      <th>3</th>\n",
              "      <td>Petter Mattei's \"Love in the Time of Money\" is...</td>\n",
              "      <td>positive</td>\n",
              "    </tr>\n",
              "    <tr>\n",
              "      <th>4</th>\n",
              "      <td>Probably my all-time favorite movie, a story o...</td>\n",
              "      <td>positive</td>\n",
              "    </tr>\n",
              "  </tbody>\n",
              "</table>\n",
              "</div>\n",
              "      <button class=\"colab-df-convert\" onclick=\"convertToInteractive('df-c4d5fd5b-c064-411a-a19f-1d124f05f17a')\"\n",
              "              title=\"Convert this dataframe to an interactive table.\"\n",
              "              style=\"display:none;\">\n",
              "        \n",
              "  <svg xmlns=\"http://www.w3.org/2000/svg\" height=\"24px\"viewBox=\"0 0 24 24\"\n",
              "       width=\"24px\">\n",
              "    <path d=\"M0 0h24v24H0V0z\" fill=\"none\"/>\n",
              "    <path d=\"M18.56 5.44l.94 2.06.94-2.06 2.06-.94-2.06-.94-.94-2.06-.94 2.06-2.06.94zm-11 1L8.5 8.5l.94-2.06 2.06-.94-2.06-.94L8.5 2.5l-.94 2.06-2.06.94zm10 10l.94 2.06.94-2.06 2.06-.94-2.06-.94-.94-2.06-.94 2.06-2.06.94z\"/><path d=\"M17.41 7.96l-1.37-1.37c-.4-.4-.92-.59-1.43-.59-.52 0-1.04.2-1.43.59L10.3 9.45l-7.72 7.72c-.78.78-.78 2.05 0 2.83L4 21.41c.39.39.9.59 1.41.59.51 0 1.02-.2 1.41-.59l7.78-7.78 2.81-2.81c.8-.78.8-2.07 0-2.86zM5.41 20L4 18.59l7.72-7.72 1.47 1.35L5.41 20z\"/>\n",
              "  </svg>\n",
              "      </button>\n",
              "      \n",
              "  <style>\n",
              "    .colab-df-container {\n",
              "      display:flex;\n",
              "      flex-wrap:wrap;\n",
              "      gap: 12px;\n",
              "    }\n",
              "\n",
              "    .colab-df-convert {\n",
              "      background-color: #E8F0FE;\n",
              "      border: none;\n",
              "      border-radius: 50%;\n",
              "      cursor: pointer;\n",
              "      display: none;\n",
              "      fill: #1967D2;\n",
              "      height: 32px;\n",
              "      padding: 0 0 0 0;\n",
              "      width: 32px;\n",
              "    }\n",
              "\n",
              "    .colab-df-convert:hover {\n",
              "      background-color: #E2EBFA;\n",
              "      box-shadow: 0px 1px 2px rgba(60, 64, 67, 0.3), 0px 1px 3px 1px rgba(60, 64, 67, 0.15);\n",
              "      fill: #174EA6;\n",
              "    }\n",
              "\n",
              "    [theme=dark] .colab-df-convert {\n",
              "      background-color: #3B4455;\n",
              "      fill: #D2E3FC;\n",
              "    }\n",
              "\n",
              "    [theme=dark] .colab-df-convert:hover {\n",
              "      background-color: #434B5C;\n",
              "      box-shadow: 0px 1px 3px 1px rgba(0, 0, 0, 0.15);\n",
              "      filter: drop-shadow(0px 1px 2px rgba(0, 0, 0, 0.3));\n",
              "      fill: #FFFFFF;\n",
              "    }\n",
              "  </style>\n",
              "\n",
              "      <script>\n",
              "        const buttonEl =\n",
              "          document.querySelector('#df-c4d5fd5b-c064-411a-a19f-1d124f05f17a button.colab-df-convert');\n",
              "        buttonEl.style.display =\n",
              "          google.colab.kernel.accessAllowed ? 'block' : 'none';\n",
              "\n",
              "        async function convertToInteractive(key) {\n",
              "          const element = document.querySelector('#df-c4d5fd5b-c064-411a-a19f-1d124f05f17a');\n",
              "          const dataTable =\n",
              "            await google.colab.kernel.invokeFunction('convertToInteractive',\n",
              "                                                     [key], {});\n",
              "          if (!dataTable) return;\n",
              "\n",
              "          const docLinkHtml = 'Like what you see? Visit the ' +\n",
              "            '<a target=\"_blank\" href=https://colab.research.google.com/notebooks/data_table.ipynb>data table notebook</a>'\n",
              "            + ' to learn more about interactive tables.';\n",
              "          element.innerHTML = '';\n",
              "          dataTable['output_type'] = 'display_data';\n",
              "          await google.colab.output.renderOutput(dataTable, element);\n",
              "          const docLink = document.createElement('div');\n",
              "          docLink.innerHTML = docLinkHtml;\n",
              "          element.appendChild(docLink);\n",
              "        }\n",
              "      </script>\n",
              "    </div>\n",
              "  </div>\n",
              "  "
            ]
          },
          "metadata": {},
          "execution_count": 97
        }
      ],
      "source": [
        "None  # print head of data frame with help of head function\n",
        "df.head()"
      ]
    },
    {
      "cell_type": "markdown",
      "id": "1749da04",
      "metadata": {
        "id": "1749da04"
      },
      "source": [
        "## Count plot of the output categories: positive or negative\n",
        "\n",
        "Feel free to take a look at the output and whether the classes are balanced or imbalanced. "
      ]
    },
    {
      "cell_type": "code",
      "execution_count": null,
      "id": "c152e8a4",
      "metadata": {
        "colab": {
          "base_uri": "https://localhost:8080/",
          "height": 641
        },
        "id": "c152e8a4",
        "outputId": "59bf98fa-f2da-4b19-f3d1-afe80d8cb662"
      },
      "outputs": [
        {
          "output_type": "display_data",
          "data": {
            "text/plain": [
              "<Figure size 720x720 with 1 Axes>"
            ],
            "image/png": "[encoded data removed]"
          },
          "metadata": {
            "needs_background": "light"
          }
        }
      ],
      "source": [
        "\n",
        "\n",
        "\n",
        "plt.figure(figsize = (10,10))\n",
        "sns.countplot(x = \"sentiment\", data = df, order = df['sentiment'].value_counts().index )\n",
        "plt.title(\"Positive Vs. Negative reviews count\", fontsize = 38)\n",
        "plt.show()"
      ]
    },
    {
      "cell_type": "markdown",
      "id": "9b8549f2",
      "metadata": {
        "id": "9b8549f2"
      },
      "source": [
        "## Upsampling the minority class: (5 points)\n",
        "\n",
        "It is known that Naive bayes is not robust to class imbalance. It could be seen above that the data is little imbalanced. Therefore, class balancing can be done before giving it to the Naive Bayes model for prediction. \n",
        "\n",
        "Feel free to use 'resample' library from sklearn. "
      ]
    },
    {
      "cell_type": "code",
      "source": [
        "## hint: use resample from sklearn.utils\n",
        "from sklearn.utils import resample\n",
        "\n",
        "df_majority = df[df[\"sentiment\"] == \"positive\"]\n",
        "df_minority = df[df[\"sentiment\"] == \"negative\"]\n",
        "\n",
        "negative_upsample = resample(df_minority, replace = True, \n",
        "                        n_samples = df_majority.shape[0],\n",
        "                        random_state = 101)\n",
        "\n",
        "\n",
        "df_upsampled = pd.concat([df_majority, negative_upsample])  # concat two data frames i,e majority class data set and upsampled minority class data set\n",
        "df_upsampled = df_upsampled.sample(frac = 1)\n"
      ],
      "metadata": {
        "id": "yHJTAqrW7XMN"
      },
      "id": "yHJTAqrW7XMN",
      "execution_count": null,
      "outputs": []
    },
    {
      "cell_type": "code",
      "execution_count": null,
      "id": "6a9329bb",
      "metadata": {
        "id": "6a9329bb",
        "colab": {
          "base_uri": "https://localhost:8080/"
        },
        "outputId": "7d38d872-799a-4c8c-bee9-7f1ecc89acf7"
      },
      "outputs": [
        {
          "output_type": "execute_result",
          "data": {
            "text/plain": [
              "(12474, 2)"
            ]
          },
          "metadata": {},
          "execution_count": 100
        }
      ],
      "source": [
        "## Just to ensure that upsampling was done successfully, take a look at the shape of the data in \n",
        "## this cell. \n",
        "\n",
        "# print the shape of data set with the help of shape function having \"negative\" as class label\n",
        "\n",
        "\n",
        "upsample_negative = df_upsampled[df_upsampled[\"sentiment\"] == \"negative\"]\n",
        "upsample_negative.shape\n"
      ]
    },
    {
      "cell_type": "markdown",
      "id": "6f8bf6e7",
      "metadata": {
        "id": "6f8bf6e7"
      },
      "source": [
        "### Expected Output : \n",
        "(12474, 2)"
      ]
    },
    {
      "cell_type": "markdown",
      "id": "626f01d5",
      "metadata": {
        "id": "626f01d5"
      },
      "source": [
        "### Expected Output : \n",
        "(12474, 2)"
      ]
    },
    {
      "cell_type": "code",
      "source": [
        "## In this cell, we are going to be dividing the data into train and test points\n",
        "## Ensure that you store the upsampled data in a variable called 'df_upsampled' \n",
        "## so that the below operations are performed successfully\n",
        "\n",
        "\n",
        "## Considering 10000 positive and 10000 negative data points\n",
        "negative_data_points_train = df_upsampled[df_upsampled[\"sentiment\"] == \"negative\"].iloc[:10000]\n",
        "positive_data_points_train = df_upsampled[df_upsampled[\"sentiment\"] == \"positive\"].iloc[:10000]\n",
        "\n",
        "## Considering the remaining data points for test\n",
        "negative_data_points_test = df_upsampled[df_upsampled[\"sentiment\"] == \"negative\"].iloc[10000:]\n",
        "positive_data_points_test = df_upsampled[df_upsampled[\"sentiment\"] == \"positive\"].iloc[10000:]\n",
        "\n",
        "## Concatenate the training positive and negative reviews\n",
        "X_train = pd.concat([positive_data_points_train[\"review\"] , negative_data_points_train[\"review\"]])\n",
        "## Concatenating the training positive and negative outputs\n",
        "y_train = pd.concat([positive_data_points_train[\"sentiment\"] , negative_data_points_train[\"sentiment\"]])\n",
        "\n",
        "## Concatenating the test positive and negative reviews\n",
        "X_test = pd.concat([positive_data_points_test[\"review\"], negative_data_points_test[\"review\"]])\n",
        "## Concatenating the test positive and negative outputs\n",
        "y_test = pd.concat([positive_data_points_test[\"sentiment\"], negative_data_points_test[\"sentiment\"]])\n"
      ],
      "metadata": {
        "id": "NoW5z6SzAeP8"
      },
      "execution_count": null,
      "outputs": [],
      "id": "NoW5z6SzAeP8"
    },
    {
      "cell_type": "code",
      "execution_count": null,
      "id": "6428047d",
      "metadata": {
        "colab": {
          "base_uri": "https://localhost:8080/"
        },
        "id": "6428047d",
        "outputId": "28c4e798-750c-4f4c-f9ea-724788ea24b5"
      },
      "outputs": [
        {
          "output_type": "execute_result",
          "data": {
            "text/plain": [
              "positive    10000\n",
              "negative    10000\n",
              "Name: sentiment, dtype: int64"
            ]
          },
          "metadata": {},
          "execution_count": 102
        }
      ],
      "source": [
        "## Take a look at the total number of classes and their count using '.value_counts()' for y_train and y_test.\n",
        "## Ensure that there are equal number of positive and negative reviews. \n",
        "y_train.value_counts()"
      ]
    },
    {
      "cell_type": "markdown",
      "id": "7dfe6517",
      "metadata": {
        "id": "7dfe6517"
      },
      "source": [
        "### Expected Output:\n",
        "negative    10000<br>\n",
        "positive    10000<br>\n",
        "Name: sentiment, dtype: int64"
      ]
    },
    {
      "cell_type": "code",
      "execution_count": null,
      "id": "2beae1d6",
      "metadata": {
        "colab": {
          "base_uri": "https://localhost:8080/"
        },
        "id": "2beae1d6",
        "outputId": "89b20ad1-ccb9-4edc-88b5-9c8fadef56a6"
      },
      "outputs": [
        {
          "output_type": "execute_result",
          "data": {
            "text/plain": [
              "positive    2474\n",
              "negative    2474\n",
              "Name: sentiment, dtype: int64"
            ]
          },
          "metadata": {},
          "execution_count": 103
        }
      ],
      "source": [
        "y_test.value_counts()"
      ]
    },
    {
      "cell_type": "markdown",
      "id": "9163f897",
      "metadata": {
        "id": "9163f897"
      },
      "source": [
        "### Expected Output : \n",
        "negative    2474<br>\n",
        "positive    2474<br>\n",
        "Name: sentiment, dtype: int64"
      ]
    },
    {
      "cell_type": "markdown",
      "id": "6501699b",
      "metadata": {
        "id": "6501699b"
      },
      "source": [
        "## Q1. Pre-process the reviews: (10 points)\n",
        "\n",
        "We know that a review contains links, punctuation, stopwords and many other words that don't give a lot of meaning for the Naive Bayes model for prediction. \n",
        "\n",
        "In the cell below, one must implement text-preprocessing and remove links, punctuations and stopwords. It is also important to lowercase the letters so that 'Admire' and 'admire' are not treated as different words. \n",
        "\n",
        "In addition to this, perform stemming operation so that similar words are reduced. To know more about stemming, feel free to take a look at this link.\n",
        "\n",
        "https://nlp.stanford.edu/IR-book/html/htmledition/stemming-and-lemmatization-1.html"
      ]
    },
    {
      "cell_type": "code",
      "source": [
        "\n",
        "def removeURLs(text):\n",
        "\n",
        "    #text = re.sub(r\"http\\S+\", \"\", text) # replaces URLs starting with http \n",
        "   \n",
        "\n",
        "    text = re.sub(r'http\\S+', \"\", text) # replaces URLs starting with http \n",
        "    text = re.sub(r'www.\\S+', \"\", text) # replaces URLs starting with wwe\n",
        "    return text\n",
        "\n",
        "\n",
        "\n",
        "\n"
      ],
      "metadata": {
        "id": "a0YxT1OYknXD"
      },
      "id": "a0YxT1OYknXD",
      "execution_count": null,
      "outputs": []
    },
    {
      "cell_type": "code",
      "source": [
        "\n"
      ],
      "metadata": {
        "id": "VpTDQQ5VzdTY"
      },
      "id": "VpTDQQ5VzdTY",
      "execution_count": null,
      "outputs": []
    },
    {
      "cell_type": "code",
      "source": [
        "import string\n",
        "def removePunctuation(text):\n",
        "    #return \"\".join([char for char in text if char not in string.punctuation])\n",
        "    #Using regex\n",
        "    text = re.sub(r'[^\\w\\s]', '', text)\n",
        "    return text\n",
        "\n",
        "    "
      ],
      "metadata": {
        "id": "-LOyz7N1H9Og"
      },
      "id": "-LOyz7N1H9Og",
      "execution_count": null,
      "outputs": []
    },
    {
      "cell_type": "code",
      "source": [
        "\n",
        "def toLowerCase(text):\n",
        "    return text.lower()"
      ],
      "metadata": {
        "id": "fUPlqEyPziRF"
      },
      "id": "fUPlqEyPziRF",
      "execution_count": null,
      "outputs": []
    },
    {
      "cell_type": "code",
      "source": [
        "def Stopwords(text):\n",
        "    stopword = nltk.corpus.stopwords.words('english')\n",
        "    return \" \".join([word for word in re.split('\\W+', text)\n",
        "        if word not in stopword])"
      ],
      "metadata": {
        "id": "bz9Pqbxdzl9l"
      },
      "id": "bz9Pqbxdzl9l",
      "execution_count": null,
      "outputs": []
    },
    {
      "cell_type": "code",
      "source": [
        "def Stemming(text):\n",
        "  ps = nltk.PorterStemmer()\n",
        "  return\" \".join([ps.stem(word) for word in re.split('\\W+', text)])  \n",
        "    \n"
      ],
      "metadata": {
        "id": "_4nPrchszpq6"
      },
      "id": "_4nPrchszpq6",
      "execution_count": null,
      "outputs": []
    },
    {
      "cell_type": "code",
      "source": [],
      "metadata": {
        "id": "8nB1kYlcHmav"
      },
      "id": "8nB1kYlcHmav",
      "execution_count": null,
      "outputs": []
    },
    {
      "cell_type": "code",
      "source": [
        "\n",
        "\n",
        "# TASK CELL\n",
        "\n",
        "def clean_review(review):\n",
        "        '''\n",
        "        Input:\n",
        "            review: a string containing a review.\n",
        "        Output:\n",
        "            review_cleaned: a processed review. \n",
        "\n",
        "        '''\n",
        "        # Remove Links\n",
        "        review_cleaned = removeURLs(review)\n",
        "        # Remove Punctuation\n",
        "        review_cleaned = removePunctuation(review_cleaned)\n",
        "        # Lower Case\n",
        "        review_cleaned = toLowerCase(review_cleaned)\n",
        "        # Removal of stop words\n",
        "        review_cleaned = Stopwords(review_cleaned)\n",
        "        #Stemming\n",
        "        review_cleaned = Stemming(review_cleaned)\n",
        "        \n",
        "        return review_cleaned\n"
      ],
      "metadata": {
        "id": "CirLN9-ddQ1r"
      },
      "id": "CirLN9-ddQ1r",
      "execution_count": null,
      "outputs": []
    },
    {
      "cell_type": "markdown",
      "id": "a7632fe5",
      "metadata": {
        "id": "a7632fe5"
      },
      "source": [
        "## Q2. Implement a find_occurrence function (5 points):\n",
        "\n",
        "In this function, we find the total occurrence of a word giving information such as label, word and frequency dictionary.\n",
        "\n",
        "Note that this function is used later in the code when we are going to be predicting the output using Naive Bayes. "
      ]
    },
    {
      "cell_type": "code",
      "execution_count": null,
      "id": "eb282b81",
      "metadata": {
        "id": "eb282b81"
      },
      "outputs": [],
      "source": [
        "# TASK CELL\n",
        "def find_occurrence(frequency, word, label):\n",
        "    '''\n",
        "    Params:\n",
        "        frequency: a dictionary with the frequency of each pair (or tuple)\n",
        "        word: the word to look up\n",
        "        label: the label corresponding to the word\n",
        "    Return:\n",
        "        n: the number of times the word with its corresponding label appears.\n",
        "    '''\n",
        "    f= (word,label) #()\n",
        "    if f in frequency:\n",
        "        n = frequency[f]\n",
        "    else:\n",
        "        n = 0\n",
        "    return n"
      ]
    },
    {
      "cell_type": "markdown",
      "id": "29a2249d",
      "metadata": {
        "id": "29a2249d"
      },
      "source": [
        "### Converting output to numerical format:\n",
        "\n",
        "We have outputs as 'positive' or 'negative'. In the cell below, we convert it to a numerical format. "
      ]
    },
    {
      "cell_type": "code",
      "execution_count": null,
      "id": "bcdc2b2c",
      "metadata": {
        "id": "bcdc2b2c"
      },
      "outputs": [],
      "source": [
        "## With the use of mapping function, we replace\n",
        "## the label in the form of string to an integer.\n",
        "\n",
        "output_map = {'positive': 0, 'negative': 1}\n",
        "y_train = y_train.map(output_map)\n",
        "y_test = y_test.map(output_map)"
      ]
    },
    {
      "cell_type": "code",
      "execution_count": null,
      "id": "3dde0bbd",
      "metadata": {
        "colab": {
          "base_uri": "https://localhost:8080/"
        },
        "id": "3dde0bbd",
        "outputId": "4645f080-2189-4a81-bbbf-f3b464f507d0"
      },
      "outputs": [
        {
          "output_type": "execute_result",
          "data": {
            "text/plain": [
              "0    10000\n",
              "1    10000\n",
              "Name: sentiment, dtype: int64"
            ]
          },
          "metadata": {},
          "execution_count": 112
        }
      ],
      "source": [
        "## Ensuring that there are equal number of classes on the training data. \n",
        "y_train.value_counts()"
      ]
    },
    {
      "cell_type": "code",
      "execution_count": null,
      "id": "f2959b85",
      "metadata": {
        "colab": {
          "base_uri": "https://localhost:8080/",
          "height": 140
        },
        "id": "f2959b85",
        "outputId": "5e11ba3c-1577-435b-d030-cd2049696ed7"
      },
      "outputs": [
        {
          "output_type": "execute_result",
          "data": {
            "text/plain": [
              "\"I can understand how fans of filmmaker Roman Polanski could love this movie- and I could understand how some could totally hate it (Ebert was one of the few who couldn't understand why people weren't running out of the theater). After a first viewing, I'm not sure I could fall into either category, however as someone who can't get enough of Kafka and bizarre dark comedies of paranoia The Tenant is effective enough for its running time. Or maybe not- this is one of those cases where it might have been more of a masterwork if it were a half-hour Twilight Zone episode, with Serling delivering the coda as Terkovsky (or whomever it might be(?)) writhes in his bed in bandages. It's very similar in the treatment of the doomed protagonist as Repulsion was, however it could be argued that there was more ambiguity, more of a sense of the surreal coming out through a sustained disintegration of character and location (and, quite frankly, a better lead performance) than the Tenant.<br /><br />As it stands, The Tenant does have an intriguing premise, the kind that one doesn't tire telling about to other people: Polanski is a Polish Ã©migrÃ© to Paris who takes an apartment that was most recently acquired by Simone Choule, who jumped to her near death out of the window and died soon after. But the other tenants are conservative to the max in terms of noise; after a Saturday night at Terkovsky's with a few friends, there are complaints of too much noise. It won't happen again, Polanski's good-natured but slightly nervous tenant says, but there is no peace even in moving a cabinet or a chair. Soon complaints get registered against another tenant, but from him? Can he register complaints? This is a case of not so much mistaken identity but of there being a lack of peace of mind with oneself and the surrounding people. As the downward spiral goes on, Polanski ratchets up tension (and, dare I say, black-comedic laughs) by showing Terkovsky in the midst of a horrible dream- one of Polanski's strongest scenes from the period- and in finding teeth in the wall, not to mention the bathroom across the way (which, I might add, is always a cinematic lynch-pin of horror and surreal madness).<br /><br />But somehow, the film never really feels all that significant aside from its excessive design as a would-be mind-f*** machine, with Terkovsky's tenants only seeming to not be what they seem for a little while: there's not as much suspense when finding out that they really aren't out to get him, which makes the paranoia more self-fulfilling. At least once or twice I thought to myself as well 'why did Polanski take the title role for himself?' It's not that he's at all a bad actor, and he has appeared in several films and plays that aren't of his own direction. But aside from being great at looking awkward and tense, like in the church, or in his moments of sort of flipping out when thinking that they really are out to get him to kill himself, his transformation is less creepy than tongue-in-cheek, a test of himself to see if he can pull it off, which he doesn't entirely do. Despite Polanski working at it well to look like the meek and frazzled Terkovsky, I could see at least a few other actors who could pull it off with more subtlety and affecting personality. By the time one sees him in drag, it goes between cringe-worthy and true camp, particularly when he goes for the double-climax at the end (which, of course, is of little surprise).<br /><br />And yet there is pleasure for the film-buff and Polanski fan to see the supporting cast try and dig into the much more ambiguous characters (Winters and Douglas do this the best, even as they have to strain through limited characters), and the unexpected moments like Polanski and Adjani getting hot and heavy during a Bruce Lee movie, or when he gets really drunk, or in one almost random scene where he slaps a kid near a fountain, are rather brilliant in and of themselves. It's a very good film, and one that could maybe stick my attention up when on too many coffees after midnight. But an essential film? Not exactly.\""
            ],
            "application/vnd.google.colaboratory.intrinsic+json": {
              "type": "string"
            }
          },
          "metadata": {},
          "execution_count": 113
        }
      ],
      "source": [
        "## Choosing a random review and taking a look at it.\n",
        "X_train.iloc[0]"
      ]
    },
    {
      "cell_type": "markdown",
      "id": "ed5e43c9",
      "metadata": {
        "id": "ed5e43c9"
      },
      "source": [
        "From the above cell output, it could be seen that there are a lot of words that don't add a lot of meaning to the text. \n",
        "\n",
        "Therefore, those words would be removed. It also reduces the computation time. \n",
        "\n",
        "Therefore, it is a good practice we are following."
      ]
    },
    {
      "cell_type": "code",
      "source": [
        "import nltk\n",
        "nltk.download('stopwords')"
      ],
      "metadata": {
        "colab": {
          "base_uri": "https://localhost:8080/"
        },
        "id": "9d7c5mRPtnPk",
        "outputId": "61cdbb27-705e-4b4f-f379-34190bd8f880"
      },
      "id": "9d7c5mRPtnPk",
      "execution_count": null,
      "outputs": [
        {
          "output_type": "stream",
          "name": "stderr",
          "text": [
            "[nltk_data] Downloading package stopwords to /root/nltk_data...\n",
            "[nltk_data]   Package stopwords is already up-to-date!\n"
          ]
        },
        {
          "output_type": "execute_result",
          "data": {
            "text/plain": [
              "True"
            ]
          },
          "metadata": {},
          "execution_count": 114
        }
      ]
    },
    {
      "cell_type": "code",
      "execution_count": null,
      "id": "ad3937ea",
      "metadata": {
        "id": "ad3937ea"
      },
      "outputs": [],
      "source": [
        "custom_review = X_train.iloc[0]\n",
        "\n"
      ]
    },
    {
      "cell_type": "code",
      "source": [
        "# print cleaned review\n",
        "print(clean_review(custom_review))"
      ],
      "metadata": {
        "colab": {
          "base_uri": "https://localhost:8080/"
        },
        "id": "D6CTKGztyfHJ",
        "outputId": "5c1c2475-6975-462f-991d-3e2b87aac1d3"
      },
      "id": "D6CTKGztyfHJ",
      "execution_count": null,
      "outputs": [
        {
          "output_type": "stream",
          "name": "stdout",
          "text": [
            "understand fan filmmak roman polanski could love movi could understand could total hate ebert one couldnt understand peopl werent run theater first view im sure could fall either categori howev someon cant get enough kafka bizarr dark comedi paranoia tenant effect enough run time mayb one case might masterwork halfhour twilight zone episod serl deliv coda terkovski whomev might writh bed bandag similar treatment doom protagonist repuls howev could argu ambigu sens surreal come sustain disintegr charact locat quit frankli better lead perform tenantbr br stand tenant intrigu premis kind one doesnt tire tell peopl polanski polish ãmigrã pari take apart recent acquir simon choul jump near death window die soon tenant conserv max term nois saturday night terkovski friend complaint much nois wont happen polanski goodnatur slightli nervou tenant say peac even move cabinet chair soon complaint get regist anoth tenant regist complaint case much mistaken ident lack peac mind oneself surround peopl downward spiral goe polanski ratchet tension dare say blackcomed laugh show terkovski midst horribl dream one polanski strongest scene period find teeth wall mention bathroom across way might add alway cinemat lynchpin horror surreal madnessbr br somehow film never realli feel signific asid excess design wouldb mindf machin terkovski tenant seem seem littl there much suspens find realli arent get make paranoia selffulfil least twice thought well polanski take titl role he bad actor appear sever film play arent direct asid great look awkward tens like church moment sort flip think realli get kill transform less creepi tongueincheek test see pull doesnt entir despit polanski work well look like meek frazzl terkovski could see least actor could pull subtleti affect person time one see drag goe cringeworthi true camp particularli goe doubleclimax end cours littl surprisebr br yet pleasur filmbuff polanski fan see support cast tri dig much ambigu charact winter dougla best even strain limit charact unexpect moment like polanski adjani get hot heavi bruce lee movi get realli drunk one almost random scene slap kid near fountain rather brilliant good film one could mayb stick attent mani coffe midnight essenti film exactli\n"
          ]
        }
      ]
    },
    {
      "cell_type": "markdown",
      "id": "3e6cc440",
      "metadata": {
        "id": "3e6cc440"
      },
      "source": [
        "We now use this function to pre-process the review and remove words that don't add a lot of meaning in our model. "
      ]
    },
    {
      "cell_type": "markdown",
      "id": "5a762960",
      "metadata": {
        "id": "5a762960"
      },
      "source": [
        "## Q3. Implementing review counter function: (5 points)\n",
        "\n",
        "It is now time to implement the count function for the reviews. \n",
        "\n",
        "In this function, we count the occurrence of words and get the probabilities \n",
        "for the words based on the training data. \n",
        "\n",
        "In other words, we get the probability of occurrence of a word, given that the output is 'positive'.\n",
        "\n",
        "Similarly, we also compute the probability of occurence of a word, given that the output is 'negative'.\n",
        "\n"
      ]
    },
    {
      "cell_type": "code",
      "execution_count": null,
      "id": "5de61f77",
      "metadata": {
        "id": "5de61f77"
      },
      "outputs": [],
      "source": [
        "# TASK CELL\n",
        "def review_counter(output_occurrence, reviews, positive_or_negative):\n",
        "    '''\n",
        "    Params:\n",
        "        output_occurrence: a dictionary that will be used to map each pair to its frequency\n",
        "        reviews: a list of reviews\n",
        "        positive_or_negative: a list corresponding to the sentiment of each review (either 0 or 1)\n",
        "    Return:\n",
        "        output: a dictionary mapping each pair to its frequency\n",
        "    '''\n",
        "    ## Steps :\n",
        "    # define the key, which is the word and label tuple\n",
        "    # if the key exists in the dictionary, increment the count\n",
        "    # else, if the key is new, add it to the dictionary and set the count to 1\n",
        "    \n",
        "    for label, review in zip(positive_or_negative, reviews):\n",
        "      split_review = clean_review(review).split()\n",
        "      for word in split_review:\n",
        "        # Your code here\\\n",
        "        x= (word,label)\n",
        "        if x in output_occurrence:\n",
        "            output_occurrence[x] += 1\n",
        "        else:\n",
        "            k = 1\n",
        "            output_occurrence[x] = k\n",
        "   \n",
        "    return output_occurrence\n",
        "\n",
        "\n",
        "\n",
        "\n",
        "  \n",
        "   \n"
      ]
    },
    {
      "cell_type": "markdown",
      "id": "18238223",
      "metadata": {
        "id": "18238223"
      },
      "source": [
        "### Test your function with example reviews:\n",
        "\n",
        "Feel free to run the cell below and understand whether the above function that you have defined is producing the optimum results. "
      ]
    },
    {
      "cell_type": "code",
      "execution_count": null,
      "id": "07a4c58a",
      "metadata": {
        "colab": {
          "base_uri": "https://localhost:8080/"
        },
        "id": "07a4c58a",
        "outputId": "f8ce22b0-92d4-47c4-8b21-0a5f1f1f53f9"
      },
      "outputs": [
        {
          "output_type": "execute_result",
          "data": {
            "text/plain": [
              "{('got', 1): 1,\n",
              " ('bore', 1): 2,\n",
              " ('throught', 1): 1,\n",
              " ('moview', 1): 1,\n",
              " ('movi', 0): 2,\n",
              " ('fantast', 0): 1,\n",
              " ('watch', 1): 1,\n",
              " ('complet', 1): 1,\n",
              " ('wast', 1): 1,\n",
              " ('time', 1): 1,\n",
              " ('money', 1): 1,\n",
              " ('enjoy', 0): 1,\n",
              " ('fullest', 0): 1}"
            ]
          },
          "metadata": {},
          "execution_count": 118
        }
      ],
      "source": [
        "# Testing your function\n",
        "result = {}\n",
        "reviews = ['got bored throught the moview', 'The movie was fantastic', 'Will not watch it again', 'Was bored, it was a complete waste of time and money', 'Enjoyed the movie to the fullest']\n",
        "ys = [1, 0, 1, 1, 0]\n",
        "#dict(sorted(review_counter(result,reviews, ys).items(), key=lambda item: item[0]))\n",
        "review_counter(result,reviews, ys)\n"
      ]
    },
    {
      "cell_type": "markdown",
      "id": "927f89bb",
      "metadata": {
        "id": "927f89bb"
      },
      "source": [
        "### Expected Output:\n",
        " {('bored', 1): 2, <br>\n",
        " ('complete', 1): 1, <br>\n",
        " ('enjoyed', 0): 1, <br>\n",
        " ('fantastic', 0): 1, <br>\n",
        " ('fullest', 0): 1, <br>\n",
        " ('got', 1): 1, <br>\n",
        " ('money', 1): 1, <br>\n",
        " ('movie', 0): 2, <br>\n",
        " ('moview', 1): 1, <br>\n",
        " ('throught', 1): 1, <br>\n",
        " ('time', 1): 1, <br>\n",
        " ('waste', 1): 1, <br>\n",
        " ('watch', 1): 1}"
      ]
    },
    {
      "cell_type": "code",
      "execution_count": null,
      "id": "9bc62e13",
      "metadata": {
        "id": "9bc62e13"
      },
      "outputs": [],
      "source": [
        "# Build the freqs dictionary for later uses\n",
        "\n",
        "freqs = review_counter({}, X_train, y_train)"
      ]
    },
    {
      "cell_type": "code",
      "execution_count": null,
      "id": "0eddf420",
      "metadata": {
        "id": "0eddf420",
        "colab": {
          "base_uri": "https://localhost:8080/"
        },
        "outputId": "1484df90-be46-447f-d498-c6bc04926551"
      },
      "outputs": [
        {
          "output_type": "execute_result",
          "data": {
            "text/plain": [
              "{('understand', 0): 884,\n",
              " ('fan', 0): 1361,\n",
              " ('filmmak', 0): 411,\n",
              " ('roman', 0): 63,\n",
              " ('polanski', 0): 56,\n",
              " ('could', 0): 2425,\n",
              " ('love', 0): 4813,\n",
              " ('movi', 0): 17427,\n",
              " ('total', 0): 602,\n",
              " ('hate', 0): 435,\n",
              " ('ebert', 0): 30,\n",
              " ('one', 0): 10929,\n",
              " ('couldnt', 0): 367,\n",
              " ('peopl', 0): 3503,\n",
              " ('werent', 0): 129,\n",
              " ('run', 0): 887,\n",
              " ('theater', 0): 373,\n",
              " ('first', 0): 3515,\n",
              " ('view', 0): 1026,\n",
              " ('im', 0): 1534,\n",
              " ('sure', 0): 1145,\n",
              " ('fall', 0): 732,\n",
              " ('either', 0): 511,\n",
              " ('categori', 0): 68,\n",
              " ('howev', 0): 1408,\n",
              " ('someon', 0): 698,\n",
              " ('cant', 0): 1199,\n",
              " ('get', 0): 4997,\n",
              " ('enough', 0): 1120,\n",
              " ('kafka', 0): 6,\n",
              " ('bizarr', 0): 199,\n",
              " ('dark', 0): 685,\n",
              " ('comedi', 0): 1473,\n",
              " ('paranoia', 0): 60,\n",
              " ('tenant', 0): 53,\n",
              " ('effect', 0): 1316,\n",
              " ('time', 0): 6229,\n",
              " ('mayb', 0): 765,\n",
              " ('case', 0): 572,\n",
              " ('might', 0): 995,\n",
              " ('masterwork', 0): 11,\n",
              " ('halfhour', 0): 12,\n",
              " ('twilight', 0): 36,\n",
              " ('zone', 0): 47,\n",
              " ('episod', 0): 1120,\n",
              " ('serl', 0): 9,\n",
              " ('deliv', 0): 441,\n",
              " ('coda', 0): 6,\n",
              " ('terkovski', 0): 5,\n",
              " ('whomev', 0): 3,\n",
              " ('writh', 0): 5,\n",
              " ('bed', 0): 196,\n",
              " ('bandag', 0): 5,\n",
              " ('similar', 0): 444,\n",
              " ('treatment', 0): 91,\n",
              " ('doom', 0): 80,\n",
              " ('protagonist', 0): 195,\n",
              " ('repuls', 0): 33,\n",
              " ('argu', 0): 86,\n",
              " ('ambigu', 0): 88,\n",
              " ('sens', 0): 874,\n",
              " ('surreal', 0): 143,\n",
              " ('come', 0): 2662,\n",
              " ('sustain', 0): 40,\n",
              " ('disintegr', 0): 14,\n",
              " ('charact', 0): 5515,\n",
              " ('locat', 0): 330,\n",
              " ('quit', 0): 1717,\n",
              " ('frankli', 0): 76,\n",
              " ('better', 0): 1833,\n",
              " ('lead', 0): 1118,\n",
              " ('perform', 0): 2779,\n",
              " ('tenantbr', 0): 3,\n",
              " ('br', 0): 22485,\n",
              " ('stand', 0): 564,\n",
              " ('intrigu', 0): 236,\n",
              " ('premis', 0): 191,\n",
              " ('kind', 0): 1060,\n",
              " ('doesnt', 0): 1488,\n",
              " ('tire', 0): 151,\n",
              " ('tell', 0): 1253,\n",
              " ('polish', 0): 83,\n",
              " ('ãmigrã', 0): 5,\n",
              " ('pari', 0): 226,\n",
              " ('take', 0): 2756,\n",
              " ('apart', 0): 375,\n",
              " ('recent', 0): 506,\n",
              " ('acquir', 0): 30,\n",
              " ('simon', 0): 105,\n",
              " ('choul', 0): 3,\n",
              " ('jump', 0): 190,\n",
              " ('near', 0): 311,\n",
              " ('death', 0): 878,\n",
              " ('window', 0): 113,\n",
              " ('die', 0): 713,\n",
              " ('soon', 0): 474,\n",
              " ('conserv', 0): 54,\n",
              " ('max', 0): 119,\n",
              " ('term', 0): 264,\n",
              " ('nois', 0): 59,\n",
              " ('saturday', 0): 82,\n",
              " ('night', 0): 906,\n",
              " ('friend', 0): 1431,\n",
              " ('complaint', 0): 113,\n",
              " ('much', 0): 3660,\n",
              " ('wont', 0): 528,\n",
              " ('happen', 0): 1241,\n",
              " ('goodnatur', 0): 16,\n",
              " ('slightli', 0): 236,\n",
              " ('nervou', 0): 46,\n",
              " ('say', 0): 2602,\n",
              " ('peac', 0): 134,\n",
              " ('even', 0): 3818,\n",
              " ('move', 0): 1102,\n",
              " ('cabinet', 0): 12,\n",
              " ('chair', 0): 68,\n",
              " ('regist', 0): 24,\n",
              " ('anoth', 0): 1622,\n",
              " ('mistaken', 0): 49,\n",
              " ('ident', 0): 163,\n",
              " ('lack', 0): 481,\n",
              " ('mind', 0): 863,\n",
              " ('oneself', 0): 18,\n",
              " ('surround', 0): 181,\n",
              " ('downward', 0): 9,\n",
              " ('spiral', 0): 46,\n",
              " ('goe', 0): 890,\n",
              " ('ratchet', 0): 5,\n",
              " ('tension', 0): 204,\n",
              " ('dare', 0): 156,\n",
              " ('blackcomed', 0): 1,\n",
              " ('laugh', 0): 1026,\n",
              " ('show', 0): 4319,\n",
              " ('midst', 0): 27,\n",
              " ('horribl', 0): 147,\n",
              " ('dream', 0): 455,\n",
              " ('strongest', 0): 37,\n",
              " ('scene', 0): 4008,\n",
              " ('period', 0): 369,\n",
              " ('find', 0): 2370,\n",
              " ('teeth', 0): 51,\n",
              " ('wall', 0): 183,\n",
              " ('mention', 0): 518,\n",
              " ('bathroom', 0): 41,\n",
              " ('across', 0): 407,\n",
              " ('way', 0): 3446,\n",
              " ('add', 0): 476,\n",
              " ('alway', 0): 1650,\n",
              " ('cinemat', 0): 180,\n",
              " ('lynchpin', 0): 2,\n",
              " ('horror', 0): 1210,\n",
              " ('madnessbr', 0): 2,\n",
              " ('somehow', 0): 223,\n",
              " ('film', 0): 19735,\n",
              " ('never', 0): 2497,\n",
              " ('realli', 0): 4271,\n",
              " ('feel', 0): 2218,\n",
              " ('signific', 0): 114,\n",
              " ('asid', 0): 189,\n",
              " ('excess', 0): 71,\n",
              " ('design', 0): 267,\n",
              " ('wouldb', 0): 29,\n",
              " ('mindf', 0): 1,\n",
              " ('machin', 0): 174,\n",
              " ('seem', 0): 2474,\n",
              " ('littl', 0): 2638,\n",
              " ('there', 0): 953,\n",
              " ('suspens', 0): 401,\n",
              " ('arent', 0): 283,\n",
              " ('make', 0): 5231,\n",
              " ('selffulfil', 0): 1,\n",
              " ('least', 0): 843,\n",
              " ('twice', 0): 142,\n",
              " ('thought', 0): 1391,\n",
              " ('well', 0): 4704,\n",
              " ('titl', 0): 611,\n",
              " ('role', 0): 1913,\n",
              " ('he', 0): 1026,\n",
              " ('bad', 0): 1438,\n",
              " ('actor', 0): 2448,\n",
              " ('appear', 0): 938,\n",
              " ('sever', 0): 738,\n",
              " ('play', 0): 3974,\n",
              " ('direct', 0): 1392,\n",
              " ('great', 0): 5066,\n",
              " ('look', 0): 3184,\n",
              " ('awkward', 0): 97,\n",
              " ('tens', 0): 94,\n",
              " ('like', 0): 7992,\n",
              " ('church', 0): 138,\n",
              " ('moment', 0): 1154,\n",
              " ('sort', 0): 548,\n",
              " ('flip', 0): 46,\n",
              " ('think', 0): 3343,\n",
              " ('kill', 0): 1071,\n",
              " ('transform', 0): 143,\n",
              " ('less', 0): 636,\n",
              " ('creepi', 0): 257,\n",
              " ('tongueincheek', 0): 15,\n",
              " ('test', 0): 150,\n",
              " ('see', 0): 5772,\n",
              " ('pull', 0): 411,\n",
              " ('entir', 0): 683,\n",
              " ('despit', 0): 568,\n",
              " ('work', 0): 2867,\n",
              " ('meek', 0): 15,\n",
              " ('frazzl', 0): 2,\n",
              " ('subtleti', 0): 68,\n",
              " ('affect', 0): 252,\n",
              " ('person', 0): 1445,\n",
              " ('drag', 0): 150,\n",
              " ('cringeworthi', 0): 4,\n",
              " ('true', 0): 1134,\n",
              " ('camp', 0): 204,\n",
              " ('particularli', 0): 454,\n",
              " ('doubleclimax', 0): 1,\n",
              " ('end', 0): 3470,\n",
              " ('cours', 0): 1102,\n",
              " ('surprisebr', 0): 9,\n",
              " ('yet', 0): 1146,\n",
              " ('pleasur', 0): 184,\n",
              " ('filmbuff', 0): 1,\n",
              " ('support', 0): 716,\n",
              " ('cast', 0): 1820,\n",
              " ('tri', 0): 1954,\n",
              " ('dig', 0): 89,\n",
              " ('winter', 0): 103,\n",
              " ('dougla', 0): 136,\n",
              " ('best', 0): 3397,\n",
              " ('strain', 0): 44,\n",
              " ('limit', 0): 233,\n",
              " ('unexpect', 0): 142,\n",
              " ('adjani', 0): 11,\n",
              " ('hot', 0): 237,\n",
              " ('heavi', 0): 155,\n",
              " ('bruce', 0): 151,\n",
              " ('lee', 0): 246,\n",
              " ('drunk', 0): 78,\n",
              " ('almost', 0): 1242,\n",
              " ('random', 0): 81,\n",
              " ('slap', 0): 47,\n",
              " ('kid', 0): 1086,\n",
              " ('fountain', 0): 7,\n",
              " ('rather', 0): 1027,\n",
              " ('brilliant', 0): 726,\n",
              " ('good', 0): 5836,\n",
              " ('stick', 0): 181,\n",
              " ('attent', 0): 383,\n",
              " ('mani', 0): 3103,\n",
              " ('coffe', 0): 35,\n",
              " ('midnight', 0): 82,\n",
              " ('essenti', 0): 186,\n",
              " ('exactli', 0): 386,\n",
              " ('salli', 0): 66,\n",
              " ('field', 0): 134,\n",
              " ('whoopi', 0): 30,\n",
              " ('goldberg', 0): 29,\n",
              " ('go', 0): 3273,\n",
              " ('mall', 0): 22,\n",
              " ('reviv', 0): 46,\n",
              " ('flag', 0): 34,\n",
              " ('spirit', 0): 316,\n",
              " ('reason', 0): 890,\n",
              " ('alon', 0): 382,\n",
              " ('enjoy', 0): 2166,\n",
              " ('wait', 0): 487,\n",
              " ('crackl', 0): 9,\n",
              " ('sendup', 0): 12,\n",
              " ('daytim', 0): 11,\n",
              " ('tv', 0): 1076,\n",
              " ('star', 0): 1561,\n",
              " ('robert', 0): 590,\n",
              " ('downey', 0): 19,\n",
              " ('jr', 0): 132,\n",
              " ('lighter', 0): 31,\n",
              " ('side', 0): 648,\n",
              " ('geniu', 0): 248,\n",
              " ('cathi', 0): 12,\n",
              " ('moriarti', 0): 38,\n",
              " ('splendid', 0): 70,\n",
              " ('dialogu', 0): 492,\n",
              " ('witti', 0): 156,\n",
              " ('physic', 0): 262,\n",
              " ('humor', 0): 706,\n",
              " ('done', 0): 1226,\n",
              " ('consumm', 0): 22,\n",
              " ('skill', 0): 214,\n",
              " ('appeal', 0): 284,\n",
              " ('art', 0): 674,\n",
              " ('act', 0): 2697,\n",
              " ('write', 0): 617,\n",
              " ('shame', 0): 268,\n",
              " ('seri', 0): 1443,\n",
              " ('hasnt', 0): 163,\n",
              " ('remast', 0): 11,\n",
              " ('produc', 0): 591,\n",
              " ('video', 0): 543,\n",
              " ('warner', 0): 103,\n",
              " ('profession', 0): 184,\n",
              " ('housebr', 0): 11,\n",
              " ('copi', 0): 345,\n",
              " ('avail', 0): 256,\n",
              " ('usual', 0): 772,\n",
              " ('poor', 0): 311,\n",
              " ('qualiti', 0): 523,\n",
              " ('copiesbr', 0): 1,\n",
              " ('92', 0): 7,\n",
              " ('15', 0): 170,\n",
              " ('note', 0): 449,\n",
              " ('herebr', 0): 57,\n",
              " ('writer', 0): 422,\n",
              " ('richard', 0): 365,\n",
              " ('matheson', 0): 8,\n",
              " ('went', 0): 503,\n",
              " ('becom', 0): 1343,\n",
              " ('authorsbr', 0): 1,\n",
              " ('excel', 0): 1496,\n",
              " ('written', 0): 521,\n",
              " ('stage', 0): 417,\n",
              " ('producedbr', 0): 5,\n",
              " ('michael', 0): 550,\n",
              " ('weldonbr', 0): 1,\n",
              " ('udon', 0): 1,\n",
              " ('thani', 0): 1,\n",
              " ('thailand', 0): 13,\n",
              " ('frownland', 0): 2,\n",
              " ('intens', 0): 332,\n",
              " ('embarrass', 0): 60,\n",
              " ('situat', 0): 565,\n",
              " ('loud', 0): 127,\n",
              " ('wrong', 0): 538,\n",
              " ('realiz', 0): 530,\n",
              " ('shouldnt', 0): 134,\n",
              " ('youv', 0): 255,\n",
              " ('alreadi', 0): 490,\n",
              " ('reach', 0): 223,\n",
              " ('pinnacl', 0): 12,\n",
              " ('voic', 0): 566,\n",
              " ('resound', 0): 11,\n",
              " ('around', 0): 1260,\n",
              " ('ghostli', 0): 11,\n",
              " ('white', 0): 501,\n",
              " ('face', 0): 865,\n",
              " ('gape', 0): 9,\n",
              " ('wideopen', 0): 4,\n",
              " ('mouth', 0): 106,\n",
              " ('glazen', 0): 1,\n",
              " ('eye', 0): 877,\n",
              " ('pierc', 0): 42,\n",
              " ('ach', 0): 19,\n",
              " ('begin', 0): 1168,\n",
              " ('pit', 0): 43,\n",
              " ('stomach', 0): 48,\n",
              " ('suddenli', 0): 168,\n",
              " ('rush', 0): 138,\n",
              " ('throat', 0): 50,\n",
              " ('pointbr', 0): 25,\n",
              " ('unpleas', 0): 40,\n",
              " ('punch', 0): 102,\n",
              " ('remark', 0): 273,\n",
              " ('piec', 0): 668,\n",
              " ('inarticul', 0): 2,\n",
              " ('mess', 0): 117,\n",
              " ('main', 0): 837,\n",
              " ('pathet', 0): 58,\n",
              " ('troubl', 0): 336,\n",
              " ('mishap', 0): 13,\n",
              " ('want', 0): 2274,\n",
              " ('scratch', 0): 44,\n",
              " ('sickenli', 0): 1,\n",
              " ('sorri', 0): 153,\n",
              " ('himbr', 0): 112,\n",
              " ('would', 0): 4184,\n",
              " ('lot', 0): 1922,\n",
              " ('easier', 0): 56,\n",
              " ('simpli', 0): 701,\n",
              " ('walk', 0): 366,\n",
              " ('ronald', 0): 28,\n",
              " ('bronstein', 0): 2,\n",
              " ('insan', 0): 153,\n",
              " ('felt', 0): 491,\n",
              " ('unwav', 0): 7,\n",
              " ('determin', 0): 134,\n",
              " ('stay', 0): 417,\n",
              " ('experi', 0): 701,\n",
              " ('graini', 0): 20,\n",
              " ('irrit', 0): 68,\n",
              " ('offer', 0): 453,\n",
              " ('set', 0): 1627,\n",
              " ('fire', 0): 272,\n",
              " ('typic', 0): 430,\n",
              " ('put', 0): 1195,\n",
              " ('stop', 0): 489,\n",
              " ('drop', 0): 143,\n",
              " ('roll', 0): 243,\n",
              " ('watch', 0): 4999,\n",
              " ('flame', 0): 33,\n",
              " ('slowli', 0): 184,\n",
              " ('engulf', 0): 17,\n",
              " ('bodi', 0): 432,\n",
              " ('endur', 0): 59,\n",
              " ('painperhap', 0): 1,\n",
              " ('spite', 0): 88,\n",
              " ('unknown', 0): 141,\n",
              " ('masochist', 0): 7,\n",
              " ('curios', 0): 38,\n",
              " ('attempt', 0): 498,\n",
              " ('explainbr', 0): 2,\n",
              " ('unfortun', 0): 395,\n",
              " ('mainstream', 0): 107,\n",
              " ('cinema', 0): 658,\n",
              " ('let', 0): 963,\n",
              " ('chanc', 0): 524,\n",
              " ('catch', 0): 285,\n",
              " ('prepar', 0): 161,\n",
              " ('bring', 0): 824,\n",
              " ('doggi', 0): 8,\n",
              " ('bag', 0): 53,\n",
              " ('documentari', 0): 523,\n",
              " ('amãlia', 0): 4,\n",
              " ('rodrigu', 0): 5,\n",
              " ('togeth', 0): 983,\n",
              " ('inform', 0): 283,\n",
              " ('know', 0): 2828,\n",
              " ('highli', 0): 655,\n",
              " ('recommend', 0): 1196,\n",
              " ('rodriguesbr', 0): 1,\n",
              " ('bedroom', 0): 41,\n",
              " ('hallway', 0): 15,\n",
              " ('give', 0): 2386,\n",
              " ('audienc', 0): 1011,\n",
              " ('man', 0): 2465,\n",
              " ('found', 0): 1040,\n",
              " ('right', 0): 1421,\n",
              " ('guy', 0): 1415,\n",
              " ('gay', 0): 229,\n",
              " ('check', 0): 376,\n",
              " ('although', 0): 1155,\n",
              " ('without', 0): 1366,\n",
              " ('resolut', 0): 59,\n",
              " ('hilari', 0): 562,\n",
              " ('onelin', 0): 54,\n",
              " ('peculiar', 0): 37,\n",
              " ('quirki', 0): 97,\n",
              " ('satisfi', 0): 191,\n",
              " ('recal', 0): 150,\n",
              " ('startl', 0): 43,\n",
              " ('amus', 0): 252,\n",
              " ('refer', 0): 267,\n",
              " ('import', 0): 542,\n",
              " ('id', 0): 461,\n",
              " ('seen', 0): 2673,\n",
              " ('ten', 0): 302,\n",
              " ('year', 0): 2917,\n",
              " ('bump', 0): 41,\n",
              " ('said', 0): 797,\n",
              " ('thing', 0): 2695,\n",
              " ('bernhard', 0): 12,\n",
              " ('unusu', 0): 209,\n",
              " ('percept', 0): 44,\n",
              " ('behavior', 0): 108,\n",
              " ('notebook', 0): 9,\n",
              " ('shape', 0): 102,\n",
              " ('bitter', 0): 95,\n",
              " ('adolesc', 0): 45,\n",
              " ('corros', 0): 5,\n",
              " ('adult', 0): 381,\n",
              " ('worldview', 0): 4,\n",
              " ('two', 0): 2776,\n",
              " ('provid', 0): 488,\n",
              " ('mix', 0): 328,\n",
              " ('may', 0): 1535,\n",
              " ('edgi', 0): 30,\n",
              " ('viewer', 0): 888,\n",
              " ('hi', 0): 19,\n",
              " ('skip', 0): 84,\n",
              " ('wish', 0): 504,\n",
              " ('brother', 0): 673,\n",
              " ('search', 0): 248,\n",
              " ('return', 0): 550,\n",
              " ('la', 0): 246,\n",
              " ('new', 0): 1827,\n",
              " ('york', 0): 380,\n",
              " ('result', 0): 403,\n",
              " ('immers', 0): 28,\n",
              " ('tryingon', 0): 1,\n",
              " ('variou', 0): 274,\n",
              " ('persona', 0): 59,\n",
              " ('fit', 0): 387,\n",
              " ('poorli', 0): 58,\n",
              " ('involv', 0): 779,\n",
              " ('black', 0): 835,\n",
              " ('imper', 0): 6,\n",
              " ('valu', 0): 336,\n",
              " ('system', 0): 191,\n",
              " ('real', 0): 1920,\n",
              " ('baromet', 0): 1,\n",
              " ('resitu', 0): 1,\n",
              " ('whether', 0): 367,\n",
              " ('cultur', 0): 334,\n",
              " ('accept', 0): 367,\n",
              " ('nina', 0): 32,\n",
              " ('impress', 0): 692,\n",
              " ('solidlybuilt', 0): 1,\n",
              " ('lover', 0): 289,\n",
              " ('pretti', 0): 1192,\n",
              " ('girl', 0): 1356,\n",
              " ('attend', 0): 119,\n",
              " ('author', 0): 199,\n",
              " ('sandra', 0): 73,\n",
              " ('fauxblack', 0): 1,\n",
              " ('ultim', 0): 328,\n",
              " ('reject', 0): 95,\n",
              " ('herbr', 0): 64,\n",
              " ('cathol', 0): 37,\n",
              " ('deem', 0): 22,\n",
              " ('lucki', 0): 112,\n",
              " ('suffer', 0): 273,\n",
              " ('christ', 0): 45,\n",
              " ('depict', 0): 345,\n",
              " ('hand', 0): 730,\n",
              " ('crave', 0): 29,\n",
              " ('place', 0): 1162,\n",
              " ('cherish', 0): 26,\n",
              " ('worthi', 0): 123,\n",
              " ('implic', 0): 40,\n",
              " ('world', 0): 1827,\n",
              " ('outsid', 0): 278,\n",
              " ('arti', 0): 15,\n",
              " ('confusionbr', 0): 4,\n",
              " ('nation', 0): 231,\n",
              " ('whose', 0): 452,\n",
              " ('chief', 0): 122,\n",
              " ('issu', 0): 364,\n",
              " ('racism', 0): 64,\n",
              " ('money', 0): 530,\n",
              " ('refresh', 0): 145,\n",
              " ('2', 0): 591,\n",
              " ('topic', 0): 119,\n",
              " ('dealt', 0): 73,\n",
              " ('atyp', 0): 17,\n",
              " ('short', 0): 906,\n",
              " ('ive', 0): 1265,\n",
              " ('ever', 0): 2086,\n",
              " ('point', 0): 1335,\n",
              " ('major', 0): 458,\n",
              " ('festiv', 0): 224,\n",
              " ('especi', 0): 1203,\n",
              " ('industri', 0): 188,\n",
              " ('consid', 0): 637,\n",
              " ('monaghan', 0): 13,\n",
              " ('gener', 0): 774,\n",
              " ('tend', 0): 179,\n",
              " ('overdon', 0): 40,\n",
              " ('uninterest', 0): 26,\n",
              " ('decent', 0): 252,\n",
              " ('lost', 0): 548,\n",
              " ('avoid', 0): 180,\n",
              " ('back', 0): 1916,\n",
              " ('complet', 0): 921,\n",
              " ('awe', 0): 51,\n",
              " ('director', 0): 1701,\n",
              " ('she', 0): 545,\n",
              " ('troll', 0): 6,\n",
              " ('ignor', 0): 206,\n",
              " ('dont', 0): 2691,\n",
              " ('constitut', 0): 32,\n",
              " ('rip', 0): 84,\n",
              " ('low', 0): 361,\n",
              " ('budget', 0): 447,\n",
              " ('idea', 0): 762,\n",
              " ('luckili', 0): 59,\n",
              " ('minor', 0): 228,\n",
              " ('gembr', 0): 7,\n",
              " ('deni', 0): 108,\n",
              " ('coupl', 0): 695,\n",
              " ('still', 0): 2594,\n",
              " ('use', 0): 1933,\n",
              " ('that', 0): 1172,\n",
              " ('certainli', 0): 701,\n",
              " ('product', 0): 875,\n",
              " ('expect', 0): 1053,\n",
              " ('high', 0): 728,\n",
              " ('school', 0): 628,\n",
              " ('pretend', 0): 69,\n",
              " ('matter', 0): 587,\n",
              " ('away', 0): 1006,\n",
              " ('bit', 0): 1418,\n",
              " ('sound', 0): 747,\n",
              " ('actual', 0): 1676,\n",
              " ('wasnt', 0): 661,\n",
              " ('fault', 0): 106,\n",
              " ('saw', 0): 1363,\n",
              " ('finei', 0): 1,\n",
              " ('guarante', 0): 67,\n",
              " ('whoever', 0): 56,\n",
              " ('made', 0): 2849,\n",
              " ('dvd', 0): 1209,\n",
              " ('screw', 0): 52,\n",
              " ('fact', 0): 1297,\n",
              " ('shot', 0): 1047,\n",
              " ('minidv', 0): 2,\n",
              " ('left', 0): 714,\n",
              " ('stori', 0): 5448,\n",
              " ('visual', 0): 532,\n",
              " ('composit', 0): 54,\n",
              " ('soul', 0): 253,\n",
              " ('indisput', 0): 7,\n",
              " ('flawlessbr', 0): 4,\n",
              " ('nanavati', 0): 4,\n",
              " ('clear', 0): 311,\n",
              " ('substanceheavi', 0): 1,\n",
              " ('engag', 0): 255,\n",
              " ('script', 0): 808,\n",
              " ('hollywood', 0): 784,\n",
              " ('creat', 0): 722,\n",
              " ('list', 0): 251,\n",
              " ('perfectli', 0): 392,\n",
              " ('compliment', 0): 38,\n",
              " ('life', 0): 2993,\n",
              " ('fascin', 0): 325,\n",
              " ('creativ', 0): 213,\n",
              " ('higher', 0): 113,\n",
              " ('award', 0): 342,\n",
              " ('experienc', 0): 130,\n",
              " ('postproduct', 0): 5,\n",
              " ('35mm', 0): 4,\n",
              " ('instead', 0): 548,\n",
              " ('complain', 0): 139,\n",
              " ('incred', 0): 497,\n",
              " ('keep', 0): 1131,\n",
              " ('insomniac', 0): 6,\n",
              " ('ago', 0): 451,\n",
              " ('amaz', 0): 888,\n",
              " ('sinc', 0): 1212,\n",
              " ('trailer', 0): 156,\n",
              " ('angel', 0): 185,\n",
              " ('stuff', 0): 409,\n",
              " ('910', 0): 122,\n",
              " ('hell', 0): 353,\n",
              " ('extrem', 0): 641,\n",
              " ('interest', 0): 1854,\n",
              " ('david', 0): 495,\n",
              " ('lynch', 0): 131,\n",
              " ('quot', 0): 132,\n",
              " ('liter', 0): 217,\n",
              " ('presenc', 0): 179,\n",
              " ('red', 0): 254,\n",
              " ('curtain', 0): 25,\n",
              " ('novel', 0): 471,\n",
              " ('franz', 0): 15,\n",
              " ('hous', 0): 709,\n",
              " ('keeper', 0): 21,\n",
              " ('call', 0): 918,\n",
              " ('mr', 0): 782,\n",
              " ('grubach', 0): 1,\n",
              " ('der', 0): 33,\n",
              " ('prozess', 0): 1,\n",
              " ('clearli', 0): 303,\n",
              " ('present', 0): 686,\n",
              " ('accompani', 0): 113,\n",
              " ('coloni', 0): 38,\n",
              " ('past', 0): 565,\n",
              " ('belgium', 0): 10,\n",
              " ('africa', 0): 82,\n",
              " ('exact', 0): 74,\n",
              " ('content', 0): 148,\n",
              " ('describ', 0): 283,\n",
              " ('part', 0): 2022,\n",
              " ('inabl', 0): 28,\n",
              " ('cope', 0): 61,\n",
              " ('memori', 0): 305,\n",
              " ('central', 0): 188,\n",
              " ('quest', 0): 87,\n",
              " ('social', 0): 293,\n",
              " ('contact', 0): 97,\n",
              " ('symbol', 0): 180,\n",
              " ('theme', 0): 586,\n",
              " ('deduc', 0): 2,\n",
              " ('theyr', 0): 372,\n",
              " ('impressionsbr', 0): 1,\n",
              " ('follow', 0): 956,\n",
              " ('linear', 0): 15,\n",
              " ('background', 0): 281,\n",
              " ('discov', 0): 418,\n",
              " ('fill', 0): 336,\n",
              " ('imageri', 0): 95,\n",
              " ('beauti', 0): 1892,\n",
              " ('close', 0): 629,\n",
              " ('up', 0): 61,\n",
              " ('beatl', 0): 41,\n",
              " ('larva', 0): 4,\n",
              " ('nasti', 0): 127,\n",
              " ('insect', 0): 26,\n",
              " ('altern', 0): 105,\n",
              " ('sequenc', 0): 657,\n",
              " ('also', 0): 4225,\n",
              " ('atmospher', 0): 430,\n",
              " ('lend', 0): 64,\n",
              " ('extra', 0): 209,\n",
              " ('style', 0): 747,\n",
              " ('didnt', 0): 1351,\n",
              " ('hypnothis', 0): 1,\n",
              " ('hour', 0): 587,\n",
              " ('deepli', 0): 165,\n",
              " ('mysterios', 0): 1,\n",
              " ('tenaci', 0): 15,\n",
              " ('pick', 0): 404,\n",
              " ('destini', 0): 55,\n",
              " ('fiction', 0): 270,\n",
              " ('tale', 0): 452,\n",
              " ('format', 0): 92,\n",
              " ('band', 0): 281,\n",
              " ('guitar', 0): 38,\n",
              " ('supernatur', 0): 74,\n",
              " ('power', 0): 897,\n",
              " ('tooth', 0): 11,\n",
              " ('satan', 0): 45,\n",
              " ('dave', 0): 83,\n",
              " ('grohl', 0): 3,\n",
              " ('jb', 0): 3,\n",
              " ('jack', 0): 403,\n",
              " ('kg', 0): 1,\n",
              " ('kyle', 0): 65,\n",
              " ('gass', 0): 6,\n",
              " ('join', 0): 168,\n",
              " ('fate', 0): 151,\n",
              " ('must', 0): 1317,\n",
              " ('travel', 0): 270,\n",
              " ('rock', 0): 396,\n",
              " ('n', 0): 58,\n",
              " ('museum', 0): 54,\n",
              " ('steal', 0): 281,\n",
              " ('greatest', 0): 427,\n",
              " ('earth', 0): 288,\n",
              " ('nonstop', 0): 52,\n",
              " ('cowork', 0): 36,\n",
              " ('20', 0): 223,\n",
              " ('music', 0): 2069,\n",
              " ('song', 0): 926,\n",
              " ('materi', 0): 292,\n",
              " ('classic', 0): 1087,\n",
              " ('soundtrack', 0): 422,\n",
              " ('definit', 0): 970,\n",
              " ('worth', 0): 1013,\n",
              " ('mostli', 0): 368,\n",
              " ('appreci', 0): 452,\n",
              " ('isnt', 0): 1010,\n",
              " ('crude', 0): 56,\n",
              " ('anyon', 0): 1017,\n",
              " ('sock', 0): 25,\n",
              " ('hard', 0): 913,\n",
              " ('long', 0): 1331,\n",
              " ('cameo', 0): 162,\n",
              " ('ronni', 0): 28,\n",
              " ('jame', 0): 502,\n",
              " ('dio', 0): 2,\n",
              " ('meatloaf', 0): 3,\n",
              " ('ben', 0): 213,\n",
              " ('stiller', 0): 33,\n",
              " ('ami', 0): 40,\n",
              " ('poehler', 0): 3,\n",
              " ('tim', 0): 140,\n",
              " ('robbin', 0): 24,\n",
              " ('john', 0): 1029,\n",
              " ('c', 0): 90,\n",
              " ('reilli', 0): 8,\n",
              " ('neil', 0): 50,\n",
              " ('hamburg', 0): 8,\n",
              " ('tune', 0): 149,\n",
              " ('credit', 0): 489,\n",
              " ('babysitt', 0): 16,\n",
              " ('bci', 0): 1,\n",
              " ('eclips', 0): 11,\n",
              " ('drivein', 0): 24,\n",
              " ('cult', 0): 174,\n",
              " ('featur', 0): 785,\n",
              " ('crown', 0): 32,\n",
              " ('intern', 0): 174,\n",
              " ('pictur', 0): 850,\n",
              " ('releas', 0): 883,\n",
              " ('filmbr', 0): 329,\n",
              " ('pack', 0): 143,\n",
              " ('hippi', 0): 55,\n",
              " ('biker', 0): 26,\n",
              " ('lesbian', 0): 80,\n",
              " ('sexual', 0): 373,\n",
              " ('improprieti', 0): 1,\n",
              " ('blackmail', 0): 37,\n",
              " ('murder', 0): 879,\n",
              " ('spot', 0): 226,\n",
              " ('credibl', 0): 85,\n",
              " ('job', 0): 1175,\n",
              " ('intric', 0): 32,\n",
              " ('woven', 0): 36,\n",
              " ('plot', 0): 1959,\n",
              " ('believ', 0): 1460,\n",
              " ('interestingbr', 0): 22,\n",
              " ('primarili', 0): 54,\n",
              " ('stilt', 0): 20,\n",
              " ('ask', 0): 525,\n",
              " ('line', 0): 1102,\n",
              " ('word', 0): 691,\n",
              " ('perhap', 0): 650,\n",
              " ('particular', 0): 345,\n",
              " ('except', 0): 612,\n",
              " ('believablebr', 0): 14,\n",
              " ('score', 0): 605,\n",
              " ('absolut', 0): 686,\n",
              " ('spoton', 0): 17,\n",
              " ('tempo', 0): 14,\n",
              " ('forward', 0): 210,\n",
              " ('treat', 0): 327,\n",
              " ('notic', 0): 354,\n",
              " ('open', 0): 870,\n",
              " ('food', 0): 127,\n",
              " ('googl', 0): 6,\n",
              " ('anythingbr', 0): 10,\n",
              " ('georg', 0): 375,\n",
              " ('e', 0): 46,\n",
              " ('carey', 0): 34,\n",
              " ('wrote', 0): 184,\n",
              " ('wayward', 0): 11,\n",
              " ('marri', 0): 442,\n",
              " ('brought', 0): 372,\n",
              " ('redempt', 0): 82,\n",
              " ('trial', 0): 107,\n",
              " ('tribul', 0): 19,\n",
              " ('help', 0): 1186,\n",
              " ('weekend', 0): 83,\n",
              " ('lifeforc', 0): 21,\n",
              " ('moviebr', 0): 263,\n",
              " ('averag', 0): 237,\n",
              " ('compel', 0): 223,\n",
              " ('storylin', 0): 264,\n",
              " ('mathilda', 0): 10,\n",
              " ('favorit', 0): 867,\n",
              " ('sfhorror', 0): 3,\n",
              " ('flick', 0): 477,\n",
              " ('simpl', 0): 573,\n",
              " ('scienc', 0): 182,\n",
              " ('space', 0): 259,\n",
              " ('vampir', 0): 214,\n",
              " ('often', 0): 773,\n",
              " ('alien', 0): 228,\n",
              " ('unreason', 0): 5,\n",
              " ('worldbr', 0): 66,\n",
              " ('success', 0): 602,\n",
              " ('massiv', 0): 70,\n",
              " ('ensembl', 0): 87,\n",
              " ('hooper', 0): 16,\n",
              " ('collect', 0): 249,\n",
              " ('track', 0): 258,\n",
              " ('focu', 0): 202,\n",
              " ('villian', 0): 14,\n",
              " ('road', 0): 217,\n",
              " ('tripsbr', 0): 1,\n",
              " ('honest', 0): 206,\n",
              " ('candi', 0): 78,\n",
              " ('fun', 0): 1206,\n",
              " ('potenti', 0): 165,\n",
              " ('superior', 0): 148,\n",
              " ('remak', 0): 207,\n",
              " ('hold', 0): 488,\n",
              " ('strong', 0): 568,\n",
              " ('scari', 0): 281,\n",
              " ('demand', 0): 148,\n",
              " ('stephen', 0): 126,\n",
              " ('king', 0): 410,\n",
              " ('rememb', 0): 919,\n",
              " ('childhood', 0): 180,\n",
              " ('terror', 0): 142,\n",
              " ('opposit', 0): 150,\n",
              " ('friendli', 0): 77,\n",
              " ('jostl', 0): 4,\n",
              " ('forgiven', 0): 18,\n",
              " ('angst', 0): 33,\n",
              " ('embed', 0): 11,\n",
              " ('particip', 0): 73,\n",
              " ('later', 0): 968,\n",
              " ('relationship', 0): 663,\n",
              " ('young', 0): 1773,\n",
              " ('grown', 0): 83,\n",
              " ('basic', 0): 413,\n",
              " ('matur', 0): 156,\n",
              " ('structuresbr', 0): 1,\n",
              " ('grow', 0): 309,\n",
              " ('rel', 0): 172,\n",
              " ('unharm', 0): 3,\n",
              " ('convent', 0): 140,\n",
              " ('friendship', 0): 220,\n",
              " ('last', 0): 1302,\n",
              " ('respect', 0): 401,\n",
              " ('tini', 0): 110,\n",
              " ('pearl', 0): 60,\n",
              " ('assum', 0): 132,\n",
              " ('intent', 0): 198,\n",
              " ('portrait', 0): 93,\n",
              " ('unforc', 0): 1,\n",
              " ('emot', 0): 940,\n",
              " ('bind', 0): 17,\n",
              " ('portray', 0): 978,\n",
              " ('violent', 0): 233,\n",
              " ('inhibit', 0): 5,\n",
              " ('bowl', 0): 43,\n",
              " ('combin', 0): 271,\n",
              " ('easili', 0): 370,\n",
              " ('spring', 0): 70,\n",
              " ('mid', 0): 49,\n",
              " ('80i', 0): 1,\n",
              " ('along', 0): 811,\n",
              " ('ador', 0): 124,\n",
              " ('children', 0): 680,\n",
              " ('1000', 0): 28,\n",
              " ('commerci', 0): 150,\n",
              " ('anim', 0): 999,\n",
              " ('straight', 0): 241,\n",
              " ('abus', 0): 157,\n",
              " ('loneli', 0): 47,\n",
              " ('push', 0): 183,\n",
              " ('twist', 0): 530,\n",
              " ('mindsbr', 0): 6,\n",
              " ('possibl', 0): 636,\n",
              " ('happi', 0): 525,\n",
              " ('lookaherebr', 0): 1,\n",
              " ('thank', 0): 512,\n",
              " ('counterweight', 0): 2,\n",
              " ('illus', 0): 34,\n",
              " ('810', 0): 155,\n",
              " ('chori', 0): 4,\n",
              " ('chupk', 0): 4,\n",
              " ('explicit', 0): 63,\n",
              " ('woman', 0): 1028,\n",
              " ('bollywood', 0): 56,\n",
              " ('far', 0): 974,\n",
              " ('jism', 0): 1,\n",
              " ('juli', 0): 152,\n",
              " ('truth', 0): 381,\n",
              " ('clean', 0): 137,\n",
              " ('manner', 0): 251,\n",
              " ('number', 0): 587,\n",
              " ('clichã', 0): 133,\n",
              " ('filmi', 0): 16,\n",
              " ('hole', 0): 145,\n",
              " ('rani', 0): 7,\n",
              " ('miscarriag', 0): 5,\n",
              " ('someth', 0): 1630,\n",
              " ('otherwis', 0): 206,\n",
              " ('whole', 0): 1008,\n",
              " ('famili', 0): 1547,\n",
              " ('salman', 0): 33,\n",
              " ('khan', 0): 60,\n",
              " ('sometim', 0): 619,\n",
              " ('gave', 0): 463,\n",
              " ('top', 0): 732,\n",
              " ('applaud', 0): 38,\n",
              " ('everi', 0): 1596,\n",
              " ('solv', 0): 91,\n",
              " ('problem', 0): 777,\n",
              " ('mukherje', 0): 4,\n",
              " ('adequ', 0): 43,\n",
              " ('throughout', 0): 575,\n",
              " ('overshadow', 0): 29,\n",
              " ('preiti', 0): 7,\n",
              " ('zinta', 0): 3,\n",
              " ('perfect', 0): 1054,\n",
              " ('three', 0): 949,\n",
              " ('everyon', 0): 971,\n",
              " ('surpris', 0): 958,\n",
              " ('convinc', 0): 360,\n",
              " ('innoc', 0): 339,\n",
              " ('trust', 0): 141,\n",
              " ('madhubala', 0): 8,\n",
              " ('next', 0): 631,\n",
              " ('door', 0): 171,\n",
              " ('rate', 0): 735,\n",
              " ('hahk', 0): 2,\n",
              " ('toler', 0): 49,\n",
              " ('nice', 0): 982,\n",
              " ('dil', 0): 8,\n",
              " ('tera', 0): 1,\n",
              " ('mera', 0): 3,\n",
              " ('heart', 0): 728,\n",
              " ('mehndi', 0): 4,\n",
              " ('henna', 0): 1,\n",
              " ('dekhn', 0): 2,\n",
              " ('walon', 0): 2,\n",
              " ('ne', 0): 14,\n",
              " ('sight', 0): 169,\n",
              " ('cabaret', 0): 6,\n",
              " ('diwani', 0): 3,\n",
              " ('crazi', 0): 301,\n",
              " ('couldv', 0): 49,\n",
              " ('shorten', 0): 13,\n",
              " ('1', 0): 289,\n",
              " ('punjabi', 0): 4,\n",
              " ('came', 0): 687,\n",
              " ('bore', 0): 388,\n",
              " ('though', 0): 1818,\n",
              " ('danc', 0): 663,\n",
              " ...}"
            ]
          },
          "metadata": {},
          "execution_count": 120
        }
      ],
      "source": [
        "## Run this cell to get an idea about the corpus of words and their occurrence along with labels. \n",
        "## In this, we are computing the frequency of occurrence of word given that a review is 'positive'.\n",
        "## Similarly, we also compute the frequence of occurence of word given that a review is 'negative'.\n",
        "freqs"
      ]
    },
    {
      "cell_type": "markdown",
      "id": "759c24bc",
      "metadata": {
        "id": "759c24bc"
      },
      "source": [
        "## Q4. Training the Naive Bayes Model: (20 points)\n",
        "\n",
        "Now we are in the training phase of the Naive Bayes algorithm. In this cell, take a look at the ways to calculate the log likelihood and log prior values as these are important for testing in the next few cells. \n",
        "\n",
        "Also calculate the frequency of occurrence of words where the output is negative. In the same way, calculate the word frequency count using the above functions in order to compute the log likelihood.\n",
        "\n",
        "Return the logprior and loglikelihood output by the model from this function. "
      ]
    },
    {
      "cell_type": "code",
      "execution_count": null,
      "id": "a7f280e3",
      "metadata": {
        "id": "a7f280e3"
      },
      "outputs": [],
      "source": [
        "def train_naive_bayes(freqs, train_x, train_y):\n",
        "    '''\n",
        "    Input:\n",
        "        freqs: dictionary from (word, label) to how often the word appears\n",
        "        train_x: a list of reviews\n",
        "        train_y: a list of labels correponding to the reviews (0,1)\n",
        "    Output:\n",
        "        logprior: the log prior. (equation 3 above)\n",
        "        loglikelihood: the log likelihood of you Naive bayes equation. (equation 6 above)\n",
        "    '''\n",
        "    loglikelihood = {}\n",
        "    logprior = 0\n",
        "\n",
        "\n",
        "    # calculate V, the number of unique words in the vocabulary\n",
        "    w = []\n",
        "    unique = []\n",
        "    for x in freqs:\n",
        "        w.append(x[0])\n",
        "    for y in w:\n",
        "        if y not in unique:\n",
        "            unique.append(y)\n",
        "    vocab = unique\n",
        "    V = len(vocab)\n",
        "\n",
        "\n",
        "    # calculate num_pos and num_neg - the total number of positive and negative words for all documents\n",
        "    num_pos = num_neg = 0\n",
        "    for pair in freqs.keys():\n",
        "        # if the label is positive (equals to 0)\n",
        "        if pair[1] == 0:\n",
        "\n",
        "            # Increment the number of positive words by the count for this (word, label) pair\n",
        "            num_pos += freqs[pair]\n",
        "\n",
        "        # else, the label is negative\n",
        "        else:\n",
        "\n",
        "            # increment the number of negative words by the count for this (word,label) pair\n",
        "            num_neg += freqs[pair]\n",
        "\n",
        "    # Calculate num_doc, the number of documents\n",
        "    #total_length = len(train_x)\n",
        "    num_doc = len(train_x)\n",
        "\n",
        "    # Calculate D_pos, the number of positive documents \n",
        "    pos_num_docs = y_train.value_counts()[0]\n",
        "\n",
        "    # Calculate D_neg, the number of negative documents \n",
        "    neg_num_docs = y_train.value_counts()[1]\n",
        "\n",
        "    # Calculate logprior\n",
        "    logprior = np.log(neg_num_docs) - np.log(pos_num_docs)\n",
        "\n",
        "    # For each word in the vocabulary...\n",
        "    for word in vocab:\n",
        "        # get the positive and negative frequency of the word\n",
        "        positive_label = 0\n",
        "        negative_label = 1\n",
        "        \n",
        "        freq_pos = find_occurrence(freqs, word, positive_label)\n",
        "        freq_neg = find_occurrence(freqs, word, negative_label)\n",
        "\n",
        "        # calculate the probability that each word is positive, and negative\n",
        "        # Addition of a 1 for addative smoothing\n",
        "        p_w_pos = (freq_pos + 1) / (V + num_pos)\n",
        "        p_w_neg = (freq_neg + 1) / (V + num_neg)\n",
        "\n",
        "        # calculate the log likelihood of the word\n",
        "        loglikelihood[word] = np.log(p_w_neg/p_w_pos)\n",
        "        \n",
        "    return logprior, loglikelihood"
      ]
    },
    {
      "cell_type": "code",
      "execution_count": null,
      "id": "1561d892",
      "metadata": {
        "id": "1561d892",
        "colab": {
          "base_uri": "https://localhost:8080/"
        },
        "outputId": "134c5466-ad4c-4b78-bdac-b4c9755b7e1c"
      },
      "outputs": [
        {
          "output_type": "stream",
          "name": "stdout",
          "text": [
            "0.0\n",
            "75539\n"
          ]
        }
      ],
      "source": [
        "# You do not have to input any code in this cell, but it is relevant to grading, so please do not change anything\n",
        "logprior, loglikelihood = train_naive_bayes(freqs, X_train, y_train)\n",
        "print(logprior)\n",
        "print(len(loglikelihood))"
      ]
    },
    {
      "cell_type": "markdown",
      "id": "19d9c882",
      "metadata": {
        "id": "19d9c882"
      },
      "source": [
        "### Expected Output \n",
        "\n",
        "0.0 <br>\n",
        "91425"
      ]
    },
    {
      "cell_type": "markdown",
      "id": "78b51303",
      "metadata": {
        "id": "78b51303"
      },
      "source": [
        "## Q5. Implementing Naive Bayes Predict Function: (10 points)\n",
        "\n",
        "It is now time to make our prediction as to whether a given review is negative or positive respectively. \n",
        "\n",
        "After adding the log likelihood values, ensure that the output is 1 (negative) if the sum of the log likelihood value is greater than 0 and 0 (positive) if the sum of the log likelihood is less than or equal to 0. "
      ]
    },
    {
      "cell_type": "code",
      "execution_count": null,
      "id": "b692c2f9",
      "metadata": {
        "id": "b692c2f9"
      },
      "outputs": [],
      "source": [
        "# TASK 4 CELL\n",
        "\n",
        "def naive_bayes_predict(review, logprior, loglikelihood):\n",
        "    '''\n",
        "    Params:\n",
        "        review: a string\n",
        "        logprior: a number\n",
        "        loglikelihood: a dictionary of words mapping to numbers\n",
        "    Return:\n",
        "        total_prob: the sum of all the loglikelihoods of each word in the review (if found in the dictionary) + logprior (a number)\n",
        "\n",
        "    '''\n",
        "\n",
        "    # process the review to get a list of words\n",
        "    word_l = clean_review(review).split()\n",
        "\n",
        "    # initialize probability to zero\n",
        "    total_prob = 0\n",
        "\n",
        "    # add the logprior\n",
        "    total_prob =  total_prob + logprior\n",
        "\n",
        "    for word in word_l:\n",
        "\n",
        "        # check if the word exists in the loglikelihood dictionary\n",
        "        if word in loglikelihood:\n",
        "            # add the log likelihood of that word to the probability\n",
        "            total_prob = total_prob+loglikelihood[word]\n",
        "      \n",
        "        total_prob=1 if total_prob > 0 else 0\n",
        "\n",
        "        return total_prob\n",
        "\n",
        "\n",
        "        \n",
        "\n",
        "     \n",
        "        "
      ]
    },
    {
      "cell_type": "code",
      "execution_count": null,
      "id": "4b170333",
      "metadata": {
        "id": "4b170333",
        "outputId": "f689a9cc-aee5-4cb0-fd9b-8e90c70ddad3",
        "colab": {
          "base_uri": "https://localhost:8080/"
        }
      },
      "outputs": [
        {
          "output_type": "stream",
          "name": "stdout",
          "text": [
            "The expected output is 1\n"
          ]
        }
      ],
      "source": [
        "# You do not have to input any code in this cell, but it is relevant to grading, so please do not change anything\n",
        "\n",
        "# Experiment with your own review.\n",
        "my_review = \"I thought this series was going to be another fun, action series with some dynamic plots and great performances. I was wrong. While I like Jamie Denton, this show is hardly worth watching at all, unless you enjoy watching some people brutalized and the actions of the agents supposedly warranted under the theme of national security. The show is great propaganda for the current government, and spews out jingoism as though we talk that way every day. After a couple of episodes, it was boring the hell out of me, and I started watching reruns of House Invaders on BBCAmerica instead. Rather watch CSI and Without a Trace, without a doubt.\"\n",
        "p = naive_bayes_predict(my_review, logprior, loglikelihood)\n",
        "print('The expected output is', p)"
      ]
    },
    {
      "cell_type": "markdown",
      "id": "6242708f",
      "metadata": {
        "id": "6242708f"
      },
      "source": [
        "### Expected Output :\n",
        "The expected output is 1"
      ]
    },
    {
      "cell_type": "markdown",
      "id": "7c4eeb71",
      "metadata": {
        "id": "7c4eeb71"
      },
      "source": [
        "## Q6. Implementing Naive Bayes Test function: (10 points)\n",
        "\n",
        "In this function, implement the previous functions such as naive_bayes_predict to get the predictions for the test set. \n",
        "\n",
        "In addition to this, the function should return the total number of reviews that it correctly classified as 'positive' or 'negative'. "
      ]
    },
    {
      "cell_type": "code",
      "execution_count": null,
      "id": "66a511e7",
      "metadata": {
        "id": "66a511e7"
      },
      "outputs": [],
      "source": [
        "# UNQ_C6 (UNIQUE CELL IDENTIFIER, DO NOT EDIT)\n",
        "def test_naive_bayes(test_x, test_y, logprior, loglikelihood):\n",
        "    \"\"\"\n",
        "    Input:\n",
        "        test_x: A list of reviews\n",
        "        test_y: the corresponding labels for the list of reviews\n",
        "        logprior: the logprior\n",
        "        loglikelihood: a dictionary with the loglikelihoods for each word\n",
        "    Output:\n",
        "        accuracy: (# of reviews classified correctly)/(total # of reviews)\n",
        "    \"\"\"\n",
        "    accuracy = 0  \n",
        "\n",
        "    \n",
        "    y_hats = []\n",
        "    for review in test_x:\n",
        "        # if the prediction is > 0\n",
        "        value= naive_bayes_predict(review,logprior, loglikelihood)\n",
        "        if value > 0 :\n",
        "            # the predicted class is 1\n",
        "            y_hat_i = 1\n",
        "        else:\n",
        "            # otherwise the predicted class is 0\n",
        "            y_hat_i = 0\n",
        "\n",
        "        # append the predicted class to the list y_hats\n",
        "        y_hats.append(y_hat_i)\n",
        "\n",
        "    # error is the average of the absolute values of the differences between y_hats and test_y\n",
        "    error = np.abs(y_hats - test_y).mean()\n",
        "\n",
        "    accuracy = 1- error\n",
        "\n",
        "\n",
        "    return accuracy"
      ]
    },
    {
      "cell_type": "code",
      "execution_count": null,
      "id": "8a9c5d9d",
      "metadata": {
        "id": "8a9c5d9d",
        "colab": {
          "base_uri": "https://localhost:8080/"
        },
        "outputId": "0ae431c4-76a7-4436-bcf7-666f704c6904"
      },
      "outputs": [
        {
          "output_type": "stream",
          "name": "stdout",
          "text": [
            "If you like original gut wrenching laughter you will like this movie. If you are young or old then y -> 1.00\n",
            "What a waste of talent. A very poor, semi-coherent, script cripples this film. Rather unimaginative  -> 1.00\n",
            "I have seen this film at least 100 times and I am still excited by it, the acting is perfect and the -> 0.00\n",
            "Cheap, amateurish, unimaginative, exploitative... but don't think it'll have redeeming amusement val -> 1.00\n"
          ]
        }
      ],
      "source": [
        "# For grading purpose only\n",
        "# You do not have to input any code in this cell, but it is relevant to grading, so please do not change anything\n",
        "\n",
        "# Run this cell to test your function\n",
        "\n",
        "for review in [\"If you like original gut wrenching laughter you will like this movie. If you are young or old then you will love this movie, hell even my mom liked it.<br /><br />Great Camp!!!\",\n",
        "                \"What a waste of talent. A very poor, semi-coherent, script cripples this film. Rather unimaginative direction, too. Some VERY faint echoes of Fargo here, but it just doesn't come off.\",\n",
        "                \"I have seen this film at least 100 times and I am still excited by it, the acting is perfect and the romance between Joe and Jean keeps me on the edge of my seat, plus I still think Bryan Brown is the tops. Brilliant Film.\",\n",
        "                \"Cheap, amateurish, unimaginative, exploitative... but don't think it'll have redeeming amusement value. About as unentertaining, uninstructive and just plain dull as a film can be.\"]:\n",
        "    p = naive_bayes_predict(review, logprior, loglikelihood)\n",
        "    print(f'{review[:100]} -> {p:.2f}')\n",
        "    "
      ]
    },
    {
      "cell_type": "markdown",
      "id": "43e2ef98",
      "metadata": {
        "id": "43e2ef98"
      },
      "source": [
        "### Expected Output :\n",
        "\n",
        "If you like original gut wrenching laughter you will like this movie. If you are young or old then y -> 0.00 <br>\n",
        "What a waste of talent. A very poor, semi-coherent, script cripples this film. Rather unimaginative  -> 1.00<br>\n",
        "I have seen this film at least 100 times and I am still excited by it, the acting is perfect and the -> 0.00 <br>\n",
        "Cheap, amateurish, unimaginative, exploitative... but don't think it'll have redeeming amusement val -> 1.00\n",
        "\n"
      ]
    },
    {
      "cell_type": "code",
      "execution_count": null,
      "id": "216fa97a",
      "metadata": {
        "id": "216fa97a",
        "colab": {
          "base_uri": "https://localhost:8080/"
        },
        "outputId": "84527f1b-3c67-49fe-9c05-6e73c87a6d3b"
      },
      "outputs": [
        {
          "output_type": "execute_result",
          "data": {
            "text/plain": [
              "1"
            ]
          },
          "metadata": {},
          "execution_count": 127
        }
      ],
      "source": [
        "# Feel free to check the sentiment of your own review below\n",
        "my_review = 'The moview was very boring, I wanted to leave in the middle'\n",
        "naive_bayes_predict(my_review, logprior, loglikelihood)"
      ]
    },
    {
      "cell_type": "markdown",
      "id": "8a45e4f0",
      "metadata": {
        "id": "8a45e4f0"
      },
      "source": [
        "### Expected Output :\n",
        "1"
      ]
    },
    {
      "cell_type": "markdown",
      "source": [
        "# Q7. Evaluate the accuracy (10 Points)\n",
        "1. Split your data into training and test sets using random selection. Set the seed as parameter of the function so that user can select a different training and test set by changin seed.\n",
        "\n",
        "2. Calculate model paramters with training set.\n",
        "\n",
        "3. Print confusion matrix for training and test set.\n",
        "\n",
        "4. Examine False Positive and False Negative cases and provide reasoning why they get misclassified."
      ],
      "metadata": {
        "id": "mAIkM4aCC1H7"
      },
      "id": "mAIkM4aCC1H7"
    },
    {
      "cell_type": "markdown",
      "source": [
        "**TRAIN TEST SPLIT**"
      ],
      "metadata": {
        "id": "eCQLRNHN7jKj"
      },
      "id": "eCQLRNHN7jKj"
    },
    {
      "cell_type": "code",
      "source": [
        "from sklearn.model_selection import train_test_split\n",
        "from sklearn.metrics import confusion_matrix\n",
        "\n",
        "\n",
        "def train_test(rand):\n",
        "  X = df[\"review\"] \n",
        "  Y= df[\"sentiment\"] # x-->feature y-->target\n",
        "  X_train, X_test, y_train, y_test = train_test_split(X, Y, test_size=0.33,random_state=rand,stratify=Y)\n",
        "  return  X_train, X_test, y_train, y_test\n"
      ],
      "metadata": {
        "id": "f5wh3UxSko8v"
      },
      "id": "f5wh3UxSko8v",
      "execution_count": null,
      "outputs": []
    },
    {
      "cell_type": "code",
      "source": [
        "rand = int(input('enter any number'))\n",
        "X_train, X_test, y_train, y_test = train_test(rand)\n",
        "print(X_train.shape, X_test.shape, y_train.shape, y_test.shape)\n"
      ],
      "metadata": {
        "colab": {
          "base_uri": "https://localhost:8080/"
        },
        "id": "VBxzi8yVlUp7",
        "outputId": "0b793cb3-43bc-48c7-88e2-043dfa038476"
      },
      "id": "VBxzi8yVlUp7",
      "execution_count": null,
      "outputs": [
        {
          "output_type": "stream",
          "name": "stdout",
          "text": [
            "enter any number2\n",
            "(16548,) (8151,) (16548,) (8151,)\n"
          ]
        }
      ]
    },
    {
      "cell_type": "code",
      "source": [
        "output_map = {'positive': 0, 'negative': 1}\n",
        "y_train = y_train.map(output_map)\n",
        "y_test = y_test.map(output_map)"
      ],
      "metadata": {
        "id": "JQKLB3mw1EpL"
      },
      "id": "JQKLB3mw1EpL",
      "execution_count": null,
      "outputs": []
    },
    {
      "cell_type": "code",
      "source": [
        "freqs_2 = review_counter({}, X_train, y_train)\n",
        "log_prior_2,log_likelihood_2 = train_naive_bayes(freqs_2, X_train, y_train)\n",
        "log_prior_2"
      ],
      "metadata": {
        "colab": {
          "base_uri": "https://localhost:8080/"
        },
        "id": "d67u0QX_lphZ",
        "outputId": "397000c2-61b1-4f6d-bc03-f002a8271acf"
      },
      "id": "d67u0QX_lphZ",
      "execution_count": null,
      "outputs": [
        {
          "output_type": "execute_result",
          "data": {
            "text/plain": [
              "-0.020063520485834374"
            ]
          },
          "metadata": {},
          "execution_count": 131
        }
      ]
    },
    {
      "cell_type": "markdown",
      "source": [
        "**CONFUSION MATRIX**"
      ],
      "metadata": {
        "id": "Sut_t2W77Zoi"
      },
      "id": "Sut_t2W77Zoi"
    },
    {
      "cell_type": "code",
      "source": [
        "pred = []\n",
        "for x in X_train:\n",
        "    pred.append(naive_bayes_predict(x, log_prior_2, log_likelihood_2))\n",
        "pred = pd.Series(pred)\n",
        "conf_matrix=confusion_matrix(y_train, pred)\n",
        "\n",
        "\n",
        "# Print the confusion matrix using Matplotlib\n",
        "#\n",
        "fig, ax = plt.subplots(figsize=(7.5, 7.5))\n",
        "ax.matshow(conf_matrix, cmap=plt.cm.Blues, alpha=0.3)\n",
        "for i in range(conf_matrix.shape[0]):\n",
        "    for j in range(conf_matrix.shape[1]):\n",
        "        ax.text(x=j, y=i,s=conf_matrix[i, j], va='center', ha='center', size='xx-large')\n",
        " \n",
        "plt.xlabel('Predictions', fontsize=18)\n",
        "plt.ylabel('Actuals', fontsize=18)\n",
        "plt.title('Training set Confusion Matrix', fontsize=18)\n",
        "plt.show()"
      ],
      "metadata": {
        "colab": {
          "base_uri": "https://localhost:8080/",
          "height": 501
        },
        "id": "uOgEXKWjzViH",
        "outputId": "1700f584-19e5-4f1c-b165-53ff4d214a91"
      },
      "id": "uOgEXKWjzViH",
      "execution_count": null,
      "outputs": [
        {
          "output_type": "display_data",
          "data": {
            "text/plain": [
              "<Figure size 540x540 with 1 Axes>"
            ],
            "image/png": "[encoded data removed]"
          },
          "metadata": {
            "needs_background": "light"
          }
        }
      ]
    },
    {
      "cell_type": "code",
      "source": [
        "pred = []\n",
        "for x in X_test:\n",
        "    pred.append(naive_bayes_predict(x, log_prior_2, log_likelihood_2))\n",
        "pred = pd.Series(pred)\n",
        "conf_matrix=confusion_matrix(y_test, pred)\n",
        "\n",
        "\n",
        "\n",
        "# Print the confusion matrix using Matplotlib\n",
        "#\n",
        "fig, ax = plt.subplots(figsize=(7.5, 7.5))\n",
        "ax.matshow(conf_matrix, cmap=plt.cm.Blues, alpha=0.3)\n",
        "for i in range(conf_matrix.shape[0]):\n",
        "    for j in range(conf_matrix.shape[1]):\n",
        "        ax.text(x=j, y=i,s=conf_matrix[i, j], va='center', ha='center', size='xx-large')\n",
        " \n",
        "plt.xlabel('Predictions', fontsize=18)\n",
        "plt.ylabel('Actuals', fontsize=18)\n",
        "plt.title('Testing set Confusion Matrix', fontsize=18)\n",
        "plt.show()"
      ],
      "metadata": {
        "colab": {
          "base_uri": "https://localhost:8080/",
          "height": 501
        },
        "id": "kUWiOjEKzVuE",
        "outputId": "23f06906-b8ff-4724-9fd6-4d1fe16ba12b"
      },
      "id": "kUWiOjEKzVuE",
      "execution_count": null,
      "outputs": [
        {
          "output_type": "display_data",
          "data": {
            "text/plain": [
              "<Figure size 540x540 with 1 Axes>"
            ],
            "image/png": "[encoded data removed]"
          },
          "metadata": {
            "needs_background": "light"
          }
        }
      ]
    },
    {
      "cell_type": "code",
      "source": [],
      "metadata": {
        "id": "Cb-q2R7108t5"
      },
      "id": "Cb-q2R7108t5",
      "execution_count": null,
      "outputs": []
    },
    {
      "cell_type": "markdown",
      "source": [
        "# Q8. Modularize your calssifier (10 points)\n",
        "1. Convert your code into a python module text_classifier.py\n",
        "\n",
        "2. The user should be able to launch the application on command prompt using python test_classifier.py command. The module will automatically load the model paramters from a local file of your choice and be ready to take the input from user on command prompt. The program will preprocess user input, tokenize and predict the class.\n",
        "\n",
        "3. Your module will take the input from user and output sentiment class in an indefinite loop. The output should printout the probabilities for each input token along with the final classification decision. Program will quit if user enters X.\n"
      ],
      "metadata": {
        "id": "XbzttYVnBo7W"
      },
      "id": "XbzttYVnBo7W"
    },
    {
      "cell_type": "code",
      "source": [
        "loglikelihood['logprior-param-val'] = logprior\n"
      ],
      "metadata": {
        "id": "lKAQrnnbBnKe"
      },
      "id": "lKAQrnnbBnKe",
      "execution_count": null,
      "outputs": []
    },
    {
      "cell_type": "code",
      "source": [
        "import pickle\n",
        "import json\n",
        "pickle.dump(loglikelihood,open('/content/param_results','wb'))\n",
        "\n",
        "with open('model.json', 'w') as fp:\n",
        "    json.dump(loglikelihood, fp)\n",
        "\n",
        "\n"
      ],
      "metadata": {
        "id": "HdSUy8ujIAYb"
      },
      "id": "HdSUy8ujIAYb",
      "execution_count": null,
      "outputs": []
    },
    {
      "cell_type": "markdown",
      "id": "82e6e4d1",
      "metadata": {
        "id": "82e6e4d1"
      },
      "source": [
        "# Q9. Theory Questions: (10 points)\n",
        "\n",
        "1. Why is Laplace Smoothing or Additive Smoothing required while executing Naive Bayes operations, especially for text classification? Show how not having additive smoothing leads to bad outcomes by using an example of training and the test set. (10 points)\n",
        "\n",
        "\n",
        "2. Why are logarithmic values computed instead of only probability values in the Naive Bayes algorithm? (5 points)"
      ]
    },
    {
      "cell_type": "markdown",
      "source": [
        "1.)Laplace smoothing is a smoothing technique that handles the problem of zero probability in Naïve Bayes.We are adding 1 to each elements in our probability formulae be it numerator or denominator. This is done to give some minute value to those events whose results we dont have in our trainig set.The goal is to increase the zero probability values to a small positive number [and correspondingly reduce other values so that the sum is still 1].IF we an have a sample that says that \"The food is great\" and assume it is a positive sentiment in our training set .All the words in that sentence will have 1\n",
        "\n",
        "Now, if we have a test sample as \" I love good food\", with the sentiment assigned to it as 1.There is a good amount of chance that we will get wrong output as our model was not trained for \"good\".\n",
        "\n",
        "\n",
        "\n",
        "\n",
        "\n",
        "\n",
        "2.)We use log to keep away from the danger of loss for short variety of results coming of chance.When you start multiplying them together, the overall product starts approaching zero.This is exacerbated by each new feature that is added.A common work-around for this situation is to represent probabilities as log-probabilities instead. Because a probability is always between 0 and 1, a log-probability is always between−∞ and 0  (a far wider variety of numbers than between 0 and 1).\n",
        "\n",
        "\n",
        "\n",
        "\n",
        "\n",
        "\n",
        "\n"
      ],
      "metadata": {
        "id": "MkJb77FqPnsM"
      },
      "id": "MkJb77FqPnsM"
    },
    {
      "cell_type": "code",
      "source": [
        "\n",
        "\n",
        "\n"
      ],
      "metadata": {
        "id": "VVcv4xLQnKik"
      },
      "id": "VVcv4xLQnKik",
      "execution_count": null,
      "outputs": []
    }
  ],
  "metadata": {
    "kernelspec": {
      "display_name": "Python 3 (ipykernel)",
      "language": "python",
      "name": "python3"
    },
    "language_info": {
      "codemirror_mode": {
        "name": "ipython",
        "version": 3
      },
      "file_extension": ".py",
      "mimetype": "text/x-python",
      "name": "python",
      "nbconvert_exporter": "python",
      "pygments_lexer": "ipython3",
      "version": "3.9.5"
    },
    "colab": {
      "provenance": [],
      "collapsed_sections": [],
      "include_colab_link": true
    }
  },
  "nbformat": 4,
  "nbformat_minor": 5
}