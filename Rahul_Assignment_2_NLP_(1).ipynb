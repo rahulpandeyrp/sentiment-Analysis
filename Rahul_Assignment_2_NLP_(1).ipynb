{
  "cells": [
    {
      "cell_type": "markdown",
      "metadata": {
        "id": "view-in-github",
        "colab_type": "text"
      },
      "source": [
        "<a href=\"https://colab.research.google.com/github/rahulpandeyrp/sentiment-Analysis/blob/main/Rahul_Assignment_2_NLP_(1).ipynb\" target=\"_parent\"><img src=\"https://colab.research.google.com/assets/colab-badge.svg\" alt=\"Open In Colab\"/></a>"
      ]
    },
    {
      "cell_type": "markdown",
      "metadata": {
        "id": "ni4T_dwEHFVa"
      },
      "source": [
        "## CS 6120: Natural Language Processing - Prof. Ahmad Uzair\n",
        "\n",
        "### Assignment 2: Text Classification and Neural Network\n",
        "### Total Points: 100 points"
      ]
    },
    {
      "cell_type": "markdown",
      "metadata": {
        "id": "loQ22M-bCubq"
      },
      "source": [
        "In Assignment 2, you will be dealing with text classification using Multinomial Naive Bayes and Neural Networks. You will also be dealing with vector visualization. In the previous assingment you implemented Bag of Words as the feature selection method. However, in this assignment you will be using TF-IDF Vectorization instead of Bag of Words. We recommend starting with this assignment a little early as the datasets are quite large and several parts of the assignment might take long duration to execute. "
      ]
    },
    {
      "cell_type": "markdown",
      "metadata": {
        "id": "Q3brglC1C0mZ"
      },
      "source": [
        "## Question 1 Text Classification"
      ]
    },
    {
      "cell_type": "markdown",
      "metadata": {
        "id": "IZ1y75IoC3rE"
      },
      "source": [
        "In the first question you will be dealing with Consumer Complaint Dataset. You are required to implement TF-IDF vectorization from scratch and perform Multinomial Naive Bayes Classification on dataset.\n",
        "You may use appropriate packages or modules for fitting the Multinomial Naive Bayes Model, however, the implementation of the TF-IDF Vectorization should be from the scratch."
      ]
    },
    {
      "cell_type": "code",
      "execution_count": null,
      "metadata": {
        "id": "CmFf2INNDJRb",
        "colab": {
          "base_uri": "https://localhost:8080/"
        },
        "outputId": "6e199294-fae7-444a-947b-490bfb6fc8e2"
      },
      "outputs": [
        {
          "output_type": "stream",
          "name": "stderr",
          "text": [
            "[nltk_data] Downloading package stopwords to /root/nltk_data...\n",
            "[nltk_data]   Package stopwords is already up-to-date!\n",
            "[nltk_data] Downloading package wordnet to /root/nltk_data...\n",
            "[nltk_data]   Package wordnet is already up-to-date!\n"
          ]
        }
      ],
      "source": [
        "#importing the libraries\n",
        "\n",
        "import numpy as np\n",
        "import sklearn\n",
        "from sklearn.feature_extraction.text import TfidfVectorizer\n",
        "from sklearn.datasets import fetch_20newsgroups\n",
        "from pprint import pprint\n",
        "from sklearn.feature_extraction.text import CountVectorizer\n",
        "from sklearn import preprocessing\n",
        "import pandas as pd\n",
        "import re\n",
        "import numpy as np\n",
        "from nltk.tokenize import  word_tokenize \n",
        "import nltk\n",
        "import string\n",
        "nltk.download('stopwords')\n",
        "nltk.download('wordnet')\n",
        "from nltk.corpus import stopwords\n",
        "from nltk.stem import WordNetLemmatizer\n",
        "from sklearn.naive_bayes import MultinomialNB\n",
        "from sklearn import metrics\n",
        "lemmatizer = WordNetLemmatizer()\n",
        "from itertools import chain\n"
      ]
    },
    {
      "cell_type": "markdown",
      "metadata": {
        "id": "55uKXLxgV8hm"
      },
      "source": [
        "The consumer complaint dataset comprises around 5000 complaints on six products."
      ]
    },
    {
      "cell_type": "code",
      "execution_count": null,
      "metadata": {
        "id": "AEp1SHe5DKCB"
      },
      "outputs": [],
      "source": [
        "# Read the csv file consumer_complaints.csv\n",
        "mydata_train =pd.read_csv(\"consumer_complaints.csv\")"
      ]
    },
    {
      "cell_type": "code",
      "execution_count": null,
      "metadata": {
        "id": "OscOmcE0DMHa",
        "colab": {
          "base_uri": "https://localhost:8080/"
        },
        "outputId": "f89e56ab-5ab9-4c8e-fb27-e83a67c480f3"
      },
      "outputs": [
        {
          "output_type": "stream",
          "name": "stdout",
          "text": [
            "['Credit card or prepaid card', 'Mortgage', 'Debt collection', 'Debt collection', 'Credit card or prepaid card', 'Vehicle loan or lease', 'Debt collection', 'Debt collection', 'Mortgage', 'Vehicle loan or lease', 'Mortgage', 'Credit card or prepaid card', 'Checking or savings account', 'Credit card or prepaid card', 'Debt collection', 'Mortgage', 'Credit card or prepaid card', 'Mortgage', 'Mortgage', 'Student loan', 'Mortgage', 'Mortgage', 'Debt collection', 'Debt collection', 'Credit card or prepaid card', 'Credit card or prepaid card', 'Mortgage', 'Mortgage', 'Credit card or prepaid card', 'Debt collection', 'Debt collection', 'Credit card or prepaid card', 'Checking or savings account', 'Debt collection', 'Debt collection', 'Vehicle loan or lease', 'Student loan', 'Vehicle loan or lease', 'Debt collection', 'Checking or savings account', 'Debt collection', 'Debt collection', 'Student loan', 'Student loan', 'Mortgage', 'Checking or savings account', 'Student loan', 'Vehicle loan or lease', 'Debt collection', 'Checking or savings account', 'Credit card or prepaid card', 'Credit card or prepaid card', 'Debt collection', 'Mortgage', 'Vehicle loan or lease', 'Credit card or prepaid card', 'Checking or savings account', 'Mortgage', 'Credit card or prepaid card', 'Debt collection', 'Checking or savings account', 'Checking or savings account', 'Debt collection', 'Mortgage', 'Checking or savings account', 'Vehicle loan or lease', 'Debt collection', 'Debt collection', 'Credit card or prepaid card', 'Debt collection', 'Debt collection', 'Mortgage', 'Mortgage', 'Debt collection', 'Credit card or prepaid card', 'Mortgage', 'Debt collection', 'Debt collection', 'Credit card or prepaid card', 'Checking or savings account', 'Credit card or prepaid card', 'Debt collection', 'Credit card or prepaid card', 'Student loan', 'Credit card or prepaid card', 'Checking or savings account', 'Debt collection', 'Debt collection', 'Debt collection', 'Debt collection', 'Credit card or prepaid card', 'Debt collection', 'Debt collection', 'Credit card or prepaid card', 'Vehicle loan or lease', 'Credit card or prepaid card', 'Debt collection', 'Checking or savings account', 'Credit card or prepaid card', 'Debt collection', 'Mortgage', 'Student loan', 'Debt collection', 'Mortgage', 'Checking or savings account', 'Mortgage', 'Credit card or prepaid card', 'Credit card or prepaid card', 'Debt collection', 'Debt collection', 'Checking or savings account', 'Credit card or prepaid card', 'Debt collection', 'Vehicle loan or lease', 'Credit card or prepaid card', 'Student loan', 'Credit card or prepaid card', 'Debt collection', 'Credit card or prepaid card', 'Credit card or prepaid card', 'Student loan', 'Debt collection', 'Debt collection', 'Checking or savings account', 'Debt collection', 'Credit card or prepaid card', 'Debt collection', 'Checking or savings account', 'Checking or savings account', 'Credit card or prepaid card', 'Debt collection', 'Checking or savings account', 'Debt collection', 'Debt collection', 'Student loan', 'Checking or savings account', 'Credit card or prepaid card', 'Debt collection', 'Debt collection', 'Mortgage', 'Student loan', 'Mortgage', 'Debt collection', 'Checking or savings account', 'Credit card or prepaid card', 'Debt collection', 'Debt collection', 'Mortgage', 'Credit card or prepaid card', 'Checking or savings account', 'Credit card or prepaid card', 'Mortgage', 'Debt collection', 'Debt collection', 'Mortgage', 'Debt collection', 'Mortgage', 'Checking or savings account', 'Mortgage', 'Debt collection', 'Mortgage', 'Mortgage', 'Debt collection', 'Checking or savings account', 'Checking or savings account', 'Mortgage', 'Debt collection', 'Debt collection', 'Debt collection', 'Debt collection', 'Debt collection', 'Student loan', 'Mortgage', 'Credit card or prepaid card', 'Credit card or prepaid card', 'Mortgage', 'Credit card or prepaid card', 'Credit card or prepaid card', 'Debt collection', 'Debt collection', 'Debt collection', 'Debt collection', 'Debt collection', 'Credit card or prepaid card', 'Checking or savings account', 'Checking or savings account', 'Credit card or prepaid card', 'Credit card or prepaid card', 'Checking or savings account', 'Debt collection', 'Vehicle loan or lease', 'Debt collection', 'Checking or savings account', 'Student loan', 'Debt collection', 'Debt collection', 'Checking or savings account', 'Debt collection', 'Credit card or prepaid card', 'Credit card or prepaid card', 'Debt collection', 'Debt collection', 'Checking or savings account', 'Debt collection', 'Debt collection', 'Debt collection', 'Debt collection', 'Debt collection', 'Mortgage', 'Credit card or prepaid card', 'Vehicle loan or lease', 'Vehicle loan or lease', 'Debt collection', 'Debt collection', 'Mortgage', 'Checking or savings account', 'Debt collection', 'Credit card or prepaid card', 'Debt collection', 'Mortgage', 'Debt collection', 'Mortgage', 'Debt collection', 'Credit card or prepaid card', 'Mortgage', 'Credit card or prepaid card', 'Credit card or prepaid card', 'Mortgage', 'Debt collection', 'Debt collection', 'Mortgage', 'Mortgage', 'Debt collection', 'Debt collection', 'Debt collection', 'Student loan', 'Credit card or prepaid card', 'Debt collection', 'Debt collection', 'Debt collection', 'Mortgage', 'Mortgage', 'Student loan', 'Debt collection', 'Mortgage', 'Debt collection', 'Student loan', 'Mortgage', 'Debt collection', 'Debt collection', 'Debt collection', 'Checking or savings account', 'Debt collection', 'Debt collection', 'Credit card or prepaid card', 'Checking or savings account', 'Debt collection', 'Debt collection', 'Credit card or prepaid card', 'Mortgage', 'Debt collection', 'Credit card or prepaid card', 'Debt collection', 'Checking or savings account', 'Debt collection', 'Credit card or prepaid card', 'Checking or savings account', 'Credit card or prepaid card', 'Checking or savings account', 'Checking or savings account', 'Debt collection', 'Credit card or prepaid card', 'Debt collection', 'Checking or savings account', 'Debt collection', 'Debt collection', 'Debt collection', 'Vehicle loan or lease', 'Vehicle loan or lease', 'Student loan', 'Mortgage', 'Debt collection', 'Debt collection', 'Checking or savings account', 'Vehicle loan or lease', 'Debt collection', 'Debt collection', 'Credit card or prepaid card', 'Checking or savings account', 'Mortgage', 'Debt collection', 'Student loan', 'Credit card or prepaid card', 'Credit card or prepaid card', 'Checking or savings account', 'Checking or savings account', 'Vehicle loan or lease', 'Checking or savings account', 'Checking or savings account', 'Mortgage', 'Debt collection', 'Credit card or prepaid card', 'Vehicle loan or lease', 'Credit card or prepaid card', 'Mortgage', 'Mortgage', 'Credit card or prepaid card', 'Student loan', 'Debt collection', 'Mortgage', 'Credit card or prepaid card', 'Credit card or prepaid card', 'Mortgage', 'Mortgage', 'Debt collection', 'Debt collection', 'Debt collection', 'Debt collection', 'Debt collection', 'Credit card or prepaid card', 'Credit card or prepaid card', 'Credit card or prepaid card', 'Debt collection', 'Checking or savings account', 'Debt collection', 'Credit card or prepaid card', 'Debt collection', 'Debt collection', 'Checking or savings account', 'Credit card or prepaid card', 'Checking or savings account', 'Debt collection', 'Credit card or prepaid card', 'Mortgage', 'Debt collection', 'Credit card or prepaid card', 'Debt collection', 'Debt collection', 'Mortgage', 'Debt collection', 'Checking or savings account', 'Debt collection', 'Mortgage', 'Checking or savings account', 'Vehicle loan or lease', 'Debt collection', 'Mortgage', 'Mortgage', 'Credit card or prepaid card', 'Credit card or prepaid card', 'Credit card or prepaid card', 'Debt collection', 'Credit card or prepaid card', 'Mortgage', 'Checking or savings account', 'Debt collection', 'Credit card or prepaid card', 'Debt collection', 'Debt collection', 'Credit card or prepaid card', 'Checking or savings account', 'Credit card or prepaid card', 'Credit card or prepaid card', 'Credit card or prepaid card', 'Debt collection', 'Checking or savings account', 'Credit card or prepaid card', 'Debt collection', 'Mortgage', 'Debt collection', 'Checking or savings account', 'Mortgage', 'Credit card or prepaid card', 'Credit card or prepaid card', 'Debt collection', 'Vehicle loan or lease', 'Debt collection', 'Credit card or prepaid card', 'Debt collection', 'Debt collection', 'Credit card or prepaid card', 'Mortgage', 'Mortgage', 'Mortgage', 'Debt collection', 'Mortgage', 'Debt collection', 'Mortgage', 'Debt collection', 'Debt collection', 'Mortgage', 'Mortgage', 'Mortgage', 'Debt collection', 'Mortgage', 'Checking or savings account', 'Checking or savings account', 'Credit card or prepaid card', 'Credit card or prepaid card', 'Vehicle loan or lease', 'Debt collection', 'Mortgage', 'Credit card or prepaid card', 'Credit card or prepaid card', 'Debt collection', 'Checking or savings account', 'Student loan', 'Checking or savings account', 'Mortgage', 'Debt collection', 'Debt collection', 'Debt collection', 'Checking or savings account', 'Mortgage', 'Mortgage', 'Debt collection', 'Mortgage', 'Debt collection', 'Credit card or prepaid card', 'Mortgage', 'Debt collection', 'Debt collection', 'Debt collection', 'Credit card or prepaid card', 'Mortgage', 'Debt collection', 'Debt collection', 'Debt collection', 'Student loan', 'Vehicle loan or lease', 'Credit card or prepaid card', 'Checking or savings account', 'Credit card or prepaid card', 'Credit card or prepaid card', 'Checking or savings account', 'Credit card or prepaid card', 'Debt collection', 'Student loan', 'Debt collection', 'Checking or savings account', 'Debt collection', 'Credit card or prepaid card', 'Debt collection', 'Credit card or prepaid card', 'Credit card or prepaid card', 'Credit card or prepaid card', 'Credit card or prepaid card', 'Debt collection', 'Credit card or prepaid card', 'Debt collection', 'Debt collection', 'Mortgage', 'Debt collection', 'Credit card or prepaid card', 'Credit card or prepaid card', 'Checking or savings account', 'Student loan', 'Debt collection', 'Credit card or prepaid card', 'Debt collection', 'Debt collection', 'Mortgage', 'Debt collection', 'Debt collection', 'Checking or savings account', 'Debt collection', 'Vehicle loan or lease', 'Debt collection', 'Credit card or prepaid card', 'Student loan', 'Credit card or prepaid card', 'Debt collection', 'Credit card or prepaid card', 'Credit card or prepaid card', 'Vehicle loan or lease', 'Debt collection', 'Student loan', 'Checking or savings account', 'Mortgage', 'Debt collection', 'Debt collection', 'Credit card or prepaid card', 'Checking or savings account', 'Debt collection', 'Mortgage', 'Checking or savings account', 'Mortgage', 'Checking or savings account', 'Debt collection', 'Credit card or prepaid card', 'Vehicle loan or lease', 'Credit card or prepaid card', 'Mortgage', 'Debt collection', 'Debt collection', 'Credit card or prepaid card', 'Debt collection', 'Credit card or prepaid card', 'Debt collection', 'Debt collection', 'Mortgage', 'Credit card or prepaid card', 'Vehicle loan or lease', 'Checking or savings account', 'Credit card or prepaid card', 'Credit card or prepaid card', 'Debt collection', 'Mortgage', 'Mortgage', 'Debt collection', 'Debt collection', 'Credit card or prepaid card', 'Checking or savings account', 'Debt collection', 'Debt collection', 'Debt collection', 'Debt collection', 'Debt collection', 'Debt collection', 'Debt collection', 'Debt collection', 'Debt collection', 'Debt collection', 'Debt collection', 'Debt collection', 'Credit card or prepaid card', 'Debt collection', 'Credit card or prepaid card', 'Credit card or prepaid card', 'Credit card or prepaid card', 'Debt collection', 'Debt collection', 'Credit card or prepaid card', 'Debt collection', 'Debt collection', 'Student loan', 'Debt collection', 'Debt collection', 'Debt collection', 'Debt collection', 'Student loan', 'Mortgage', 'Debt collection', 'Debt collection', 'Credit card or prepaid card', 'Mortgage', 'Debt collection', 'Debt collection', 'Vehicle loan or lease', 'Checking or savings account', 'Debt collection', 'Checking or savings account', 'Vehicle loan or lease', 'Debt collection', 'Debt collection', 'Mortgage', 'Credit card or prepaid card', 'Mortgage', 'Debt collection', 'Checking or savings account', 'Checking or savings account', 'Mortgage', 'Mortgage', 'Credit card or prepaid card', 'Debt collection', 'Mortgage', 'Debt collection', 'Debt collection', 'Checking or savings account', 'Credit card or prepaid card', 'Debt collection', 'Credit card or prepaid card', 'Debt collection', 'Vehicle loan or lease', 'Student loan', 'Mortgage', 'Credit card or prepaid card', 'Mortgage', 'Mortgage', 'Debt collection', 'Mortgage', 'Checking or savings account', 'Mortgage', 'Debt collection', 'Mortgage', 'Debt collection', 'Mortgage', 'Mortgage', 'Credit card or prepaid card', 'Debt collection', 'Checking or savings account', 'Checking or savings account', 'Debt collection', 'Credit card or prepaid card', 'Credit card or prepaid card', 'Student loan', 'Credit card or prepaid card', 'Credit card or prepaid card', 'Mortgage', 'Mortgage', 'Credit card or prepaid card', 'Credit card or prepaid card', 'Debt collection', 'Checking or savings account', 'Debt collection', 'Mortgage', 'Checking or savings account', 'Credit card or prepaid card', 'Debt collection', 'Credit card or prepaid card', 'Mortgage', 'Debt collection', 'Debt collection', 'Checking or savings account', 'Debt collection', 'Student loan', 'Checking or savings account', 'Vehicle loan or lease', 'Debt collection', 'Credit card or prepaid card', 'Credit card or prepaid card', 'Credit card or prepaid card', 'Mortgage', 'Credit card or prepaid card', 'Checking or savings account', 'Checking or savings account', 'Credit card or prepaid card', 'Debt collection', 'Mortgage', 'Credit card or prepaid card', 'Checking or savings account', 'Debt collection', 'Credit card or prepaid card', 'Debt collection', 'Debt collection', 'Credit card or prepaid card', 'Checking or savings account', 'Credit card or prepaid card', 'Mortgage', 'Checking or savings account', 'Debt collection', 'Debt collection', 'Credit card or prepaid card', 'Mortgage', 'Credit card or prepaid card', 'Credit card or prepaid card', 'Mortgage', 'Checking or savings account', 'Credit card or prepaid card', 'Debt collection', 'Debt collection', 'Checking or savings account', 'Debt collection', 'Credit card or prepaid card', 'Checking or savings account', 'Debt collection', 'Checking or savings account', 'Debt collection', 'Debt collection', 'Vehicle loan or lease', 'Credit card or prepaid card', 'Debt collection', 'Checking or savings account', 'Mortgage', 'Checking or savings account', 'Credit card or prepaid card', 'Credit card or prepaid card', 'Checking or savings account', 'Credit card or prepaid card', 'Mortgage', 'Credit card or prepaid card', 'Mortgage', 'Vehicle loan or lease', 'Debt collection', 'Debt collection', 'Debt collection', 'Debt collection', 'Debt collection', 'Mortgage', 'Mortgage', 'Vehicle loan or lease', 'Debt collection', 'Checking or savings account', 'Mortgage', 'Mortgage', 'Credit card or prepaid card', 'Debt collection', 'Credit card or prepaid card', 'Debt collection', 'Checking or savings account', 'Debt collection', 'Credit card or prepaid card', 'Debt collection', 'Student loan', 'Mortgage', 'Debt collection', 'Debt collection', 'Credit card or prepaid card', 'Debt collection', 'Checking or savings account', 'Debt collection', 'Debt collection', 'Credit card or prepaid card', 'Credit card or prepaid card', 'Credit card or prepaid card', 'Checking or savings account', 'Credit card or prepaid card', 'Debt collection', 'Debt collection', 'Debt collection', 'Debt collection', 'Debt collection', 'Debt collection', 'Debt collection', 'Mortgage', 'Debt collection', 'Debt collection', 'Credit card or prepaid card', 'Debt collection', 'Debt collection', 'Credit card or prepaid card', 'Debt collection', 'Debt collection', 'Debt collection', 'Vehicle loan or lease', 'Credit card or prepaid card', 'Credit card or prepaid card', 'Credit card or prepaid card', 'Debt collection', 'Debt collection', 'Credit card or prepaid card', 'Mortgage', 'Credit card or prepaid card', 'Debt collection', 'Debt collection', 'Debt collection', 'Credit card or prepaid card', 'Debt collection', 'Credit card or prepaid card', 'Checking or savings account', 'Credit card or prepaid card', 'Vehicle loan or lease', 'Vehicle loan or lease', 'Credit card or prepaid card', 'Mortgage', 'Vehicle loan or lease', 'Credit card or prepaid card', 'Credit card or prepaid card', 'Credit card or prepaid card', 'Debt collection', 'Debt collection', 'Checking or savings account', 'Credit card or prepaid card', 'Debt collection', 'Student loan', 'Credit card or prepaid card', 'Vehicle loan or lease', 'Credit card or prepaid card', 'Debt collection', 'Credit card or prepaid card', 'Credit card or prepaid card', 'Debt collection', 'Debt collection', 'Checking or savings account', 'Mortgage', 'Debt collection', 'Mortgage', 'Credit card or prepaid card', 'Checking or savings account', 'Credit card or prepaid card', 'Mortgage', 'Debt collection', 'Debt collection', 'Mortgage', 'Mortgage', 'Debt collection', 'Student loan', 'Checking or savings account', 'Debt collection', 'Student loan', 'Credit card or prepaid card', 'Debt collection', 'Mortgage', 'Checking or savings account', 'Student loan', 'Mortgage', 'Debt collection', 'Checking or savings account', 'Checking or savings account', 'Debt collection', 'Debt collection', 'Checking or savings account', 'Debt collection', 'Debt collection', 'Debt collection', 'Credit card or prepaid card', 'Vehicle loan or lease', 'Credit card or prepaid card', 'Debt collection', 'Checking or savings account', 'Checking or savings account', 'Student loan', 'Student loan', 'Checking or savings account', 'Debt collection', 'Mortgage', 'Checking or savings account', 'Debt collection', 'Credit card or prepaid card', 'Mortgage', 'Debt collection', 'Credit card or prepaid card', 'Checking or savings account', 'Student loan', 'Debt collection', 'Checking or savings account', 'Debt collection', 'Debt collection', 'Debt collection', 'Vehicle loan or lease', 'Debt collection', 'Debt collection', 'Debt collection', 'Debt collection', 'Credit card or prepaid card', 'Mortgage', 'Credit card or prepaid card', 'Credit card or prepaid card', 'Debt collection', 'Student loan', 'Mortgage', 'Credit card or prepaid card', 'Mortgage', 'Debt collection', 'Debt collection', 'Debt collection', 'Vehicle loan or lease', 'Credit card or prepaid card', 'Checking or savings account', 'Mortgage', 'Debt collection', 'Student loan', 'Credit card or prepaid card', 'Mortgage', 'Credit card or prepaid card', 'Mortgage', 'Debt collection', 'Debt collection', 'Mortgage', 'Checking or savings account', 'Credit card or prepaid card', 'Checking or savings account', 'Mortgage', 'Mortgage', 'Debt collection', 'Mortgage', 'Debt collection', 'Debt collection', 'Debt collection', 'Credit card or prepaid card', 'Debt collection', 'Checking or savings account', 'Mortgage', 'Credit card or prepaid card', 'Debt collection', 'Debt collection', 'Mortgage', 'Debt collection', 'Credit card or prepaid card', 'Debt collection', 'Debt collection', 'Debt collection', 'Debt collection', 'Debt collection', 'Credit card or prepaid card', 'Debt collection', 'Mortgage', 'Checking or savings account', 'Student loan', 'Mortgage', 'Credit card or prepaid card', 'Checking or savings account', 'Debt collection', 'Vehicle loan or lease', 'Mortgage', 'Credit card or prepaid card', 'Checking or savings account', 'Mortgage', 'Credit card or prepaid card', 'Mortgage', 'Credit card or prepaid card', 'Mortgage', 'Checking or savings account', 'Mortgage', 'Credit card or prepaid card', 'Credit card or prepaid card', 'Credit card or prepaid card', 'Checking or savings account', 'Checking or savings account', 'Debt collection', 'Credit card or prepaid card', 'Credit card or prepaid card', 'Debt collection', 'Mortgage', 'Checking or savings account', 'Debt collection', 'Vehicle loan or lease', 'Mortgage', 'Debt collection', 'Debt collection', 'Mortgage', 'Credit card or prepaid card', 'Debt collection', 'Credit card or prepaid card', 'Credit card or prepaid card', 'Mortgage', 'Debt collection', 'Mortgage', 'Debt collection', 'Debt collection', 'Debt collection', 'Debt collection', 'Credit card or prepaid card', 'Mortgage', 'Vehicle loan or lease', 'Credit card or prepaid card', 'Credit card or prepaid card', 'Student loan', 'Credit card or prepaid card', 'Debt collection', 'Credit card or prepaid card', 'Credit card or prepaid card', 'Debt collection', 'Mortgage', 'Debt collection', 'Debt collection', 'Student loan', 'Mortgage', 'Mortgage', 'Credit card or prepaid card', 'Credit card or prepaid card', 'Student loan', 'Credit card or prepaid card', 'Mortgage', 'Debt collection', 'Debt collection', 'Checking or savings account', 'Vehicle loan or lease', 'Mortgage', 'Debt collection', 'Debt collection', 'Credit card or prepaid card', 'Debt collection', 'Mortgage', 'Debt collection', 'Credit card or prepaid card', 'Credit card or prepaid card', 'Checking or savings account', 'Debt collection', 'Mortgage', 'Debt collection', 'Debt collection', 'Mortgage', 'Vehicle loan or lease', 'Debt collection', 'Debt collection', 'Mortgage', 'Credit card or prepaid card', 'Debt collection', 'Checking or savings account', 'Mortgage', 'Debt collection', 'Debt collection', 'Credit card or prepaid card', 'Checking or savings account', 'Credit card or prepaid card', 'Credit card or prepaid card', 'Debt collection', 'Checking or savings account', 'Student loan', 'Mortgage', 'Vehicle loan or lease', 'Credit card or prepaid card', 'Credit card or prepaid card', 'Credit card or prepaid card', 'Credit card or prepaid card', 'Student loan', 'Debt collection', 'Debt collection', 'Mortgage', 'Debt collection', 'Student loan', 'Credit card or prepaid card', 'Vehicle loan or lease', 'Debt collection', 'Credit card or prepaid card', 'Debt collection', 'Mortgage', 'Checking or savings account', 'Credit card or prepaid card', 'Credit card or prepaid card', 'Student loan', 'Debt collection', 'Debt collection', 'Mortgage', 'Credit card or prepaid card', 'Student loan', 'Credit card or prepaid card', 'Checking or savings account', 'Credit card or prepaid card', 'Debt collection', 'Mortgage', 'Debt collection', 'Debt collection', 'Checking or savings account', 'Credit card or prepaid card', 'Mortgage', 'Vehicle loan or lease', 'Student loan', 'Mortgage', 'Credit card or prepaid card', 'Checking or savings account', 'Debt collection', 'Debt collection', 'Mortgage', 'Debt collection', 'Checking or savings account', 'Mortgage', 'Mortgage', 'Mortgage', 'Credit card or prepaid card', 'Mortgage', 'Debt collection', 'Debt collection', 'Mortgage', 'Checking or savings account', 'Vehicle loan or lease', 'Credit card or prepaid card', 'Credit card or prepaid card', 'Debt collection', 'Credit card or prepaid card', 'Credit card or prepaid card', 'Debt collection', 'Debt collection', 'Debt collection', 'Mortgage', 'Checking or savings account', 'Student loan', 'Credit card or prepaid card', 'Debt collection', 'Credit card or prepaid card', 'Debt collection', 'Vehicle loan or lease', 'Checking or savings account', 'Credit card or prepaid card', 'Credit card or prepaid card', 'Checking or savings account', 'Debt collection', 'Credit card or prepaid card', 'Debt collection', 'Student loan', 'Checking or savings account', 'Credit card or prepaid card', 'Mortgage', 'Checking or savings account', 'Mortgage', 'Debt collection', 'Debt collection', 'Debt collection', 'Debt collection', 'Checking or savings account', 'Vehicle loan or lease', 'Debt collection', 'Mortgage', 'Debt collection', 'Checking or savings account', 'Credit card or prepaid card', 'Credit card or prepaid card', 'Credit card or prepaid card', 'Debt collection', 'Checking or savings account', 'Mortgage', 'Debt collection', 'Mortgage', 'Credit card or prepaid card', 'Mortgage', 'Debt collection', 'Mortgage', 'Mortgage', 'Mortgage', 'Debt collection', 'Debt collection', 'Debt collection', 'Credit card or prepaid card', 'Debt collection', 'Student loan', 'Vehicle loan or lease', 'Credit card or prepaid card', 'Credit card or prepaid card', 'Debt collection', 'Debt collection', 'Credit card or prepaid card', 'Vehicle loan or lease', 'Mortgage', 'Checking or savings account', 'Mortgage', 'Checking or savings account', 'Credit card or prepaid card', 'Credit card or prepaid card', 'Credit card or prepaid card', 'Mortgage', 'Debt collection', 'Debt collection', 'Debt collection', 'Debt collection', 'Mortgage', 'Debt collection', 'Checking or savings account', 'Debt collection', 'Credit card or prepaid card', 'Debt collection', 'Debt collection', 'Debt collection', 'Checking or savings account', 'Debt collection', 'Debt collection', 'Checking or savings account', 'Debt collection', 'Debt collection', 'Debt collection', 'Credit card or prepaid card', 'Debt collection', 'Debt collection', 'Mortgage', 'Checking or savings account', 'Mortgage', 'Debt collection', 'Credit card or prepaid card', 'Credit card or prepaid card', 'Debt collection', 'Debt collection', 'Student loan', 'Vehicle loan or lease', 'Student loan', 'Student loan', 'Debt collection', 'Checking or savings account', 'Mortgage', 'Debt collection', 'Credit card or prepaid card', 'Mortgage', 'Debt collection', 'Credit card or prepaid card', 'Checking or savings account', 'Mortgage', 'Checking or savings account', 'Debt collection', 'Debt collection', 'Mortgage', 'Mortgage', 'Mortgage', 'Debt collection', 'Debt collection', 'Checking or savings account', 'Credit card or prepaid card', 'Mortgage', 'Mortgage', 'Credit card or prepaid card', 'Credit card or prepaid card', 'Debt collection', 'Mortgage', 'Vehicle loan or lease', 'Debt collection', 'Credit card or prepaid card', 'Credit card or prepaid card', 'Credit card or prepaid card', 'Credit card or prepaid card', 'Debt collection', 'Credit card or prepaid card', 'Credit card or prepaid card', 'Credit card or prepaid card', 'Student loan', 'Vehicle loan or lease', 'Checking or savings account', 'Credit card or prepaid card', 'Debt collection', 'Debt collection', 'Debt collection', 'Checking or savings account', 'Mortgage', 'Debt collection', 'Checking or savings account', 'Debt collection', 'Checking or savings account', 'Checking or savings account', 'Checking or savings account', 'Mortgage', 'Checking or savings account', 'Credit card or prepaid card', 'Debt collection', 'Credit card or prepaid card', 'Debt collection', 'Debt collection', 'Debt collection', 'Checking or savings account', 'Checking or savings account', 'Checking or savings account', 'Debt collection', 'Credit card or prepaid card', 'Credit card or prepaid card', 'Debt collection', 'Debt collection', 'Debt collection', 'Debt collection', 'Debt collection', 'Mortgage', 'Credit card or prepaid card', 'Student loan', 'Checking or savings account', 'Credit card or prepaid card', 'Debt collection', 'Credit card or prepaid card', 'Credit card or prepaid card', 'Vehicle loan or lease', 'Credit card or prepaid card', 'Checking or savings account', 'Credit card or prepaid card', 'Debt collection', 'Checking or savings account', 'Debt collection', 'Debt collection', 'Debt collection', 'Vehicle loan or lease', 'Student loan', 'Mortgage', 'Debt collection', 'Checking or savings account', 'Debt collection', 'Mortgage', 'Checking or savings account', 'Mortgage', 'Debt collection', 'Credit card or prepaid card', 'Mortgage', 'Debt collection', 'Debt collection', 'Credit card or prepaid card', 'Debt collection', 'Debt collection', 'Credit card or prepaid card', 'Debt collection', 'Credit card or prepaid card', 'Mortgage', 'Debt collection', 'Mortgage', 'Debt collection', 'Student loan', 'Debt collection', 'Debt collection', 'Credit card or prepaid card', 'Credit card or prepaid card', 'Mortgage', 'Student loan', 'Checking or savings account', 'Credit card or prepaid card', 'Mortgage', 'Checking or savings account', 'Credit card or prepaid card', 'Debt collection', 'Credit card or prepaid card', 'Debt collection', 'Mortgage', 'Credit card or prepaid card', 'Mortgage', 'Mortgage', 'Debt collection', 'Vehicle loan or lease', 'Vehicle loan or lease', 'Credit card or prepaid card', 'Mortgage', 'Mortgage', 'Debt collection', 'Checking or savings account', 'Credit card or prepaid card', 'Debt collection', 'Credit card or prepaid card', 'Student loan', 'Checking or savings account', 'Credit card or prepaid card', 'Credit card or prepaid card', 'Credit card or prepaid card', 'Credit card or prepaid card', 'Credit card or prepaid card', 'Mortgage', 'Debt collection', 'Credit card or prepaid card', 'Credit card or prepaid card', 'Debt collection', 'Debt collection', 'Checking or savings account', 'Debt collection', 'Credit card or prepaid card', 'Checking or savings account', 'Debt collection', 'Mortgage', 'Mortgage', 'Mortgage', 'Checking or savings account', 'Debt collection', 'Student loan', 'Vehicle loan or lease', 'Debt collection', 'Credit card or prepaid card', 'Debt collection', 'Checking or savings account', 'Mortgage', 'Mortgage', 'Debt collection', 'Debt collection', 'Debt collection', 'Debt collection', 'Mortgage', 'Debt collection', 'Debt collection', 'Debt collection', 'Debt collection', 'Mortgage', 'Credit card or prepaid card', 'Student loan', 'Credit card or prepaid card', 'Mortgage', 'Mortgage', 'Credit card or prepaid card', 'Credit card or prepaid card', 'Mortgage', 'Debt collection', 'Credit card or prepaid card', 'Debt collection', 'Vehicle loan or lease', 'Checking or savings account', 'Debt collection', 'Debt collection', 'Credit card or prepaid card', 'Debt collection', 'Credit card or prepaid card', 'Credit card or prepaid card', 'Debt collection', 'Vehicle loan or lease', 'Debt collection', 'Debt collection', 'Debt collection', 'Credit card or prepaid card', 'Mortgage', 'Credit card or prepaid card', 'Credit card or prepaid card', 'Mortgage', 'Debt collection', 'Checking or savings account', 'Credit card or prepaid card', 'Vehicle loan or lease', 'Checking or savings account', 'Credit card or prepaid card', 'Student loan', 'Debt collection', 'Credit card or prepaid card', 'Mortgage', 'Credit card or prepaid card', 'Credit card or prepaid card', 'Mortgage', 'Checking or savings account', 'Student loan', 'Mortgage', 'Debt collection', 'Debt collection', 'Debt collection', 'Debt collection', 'Debt collection', 'Credit card or prepaid card', 'Credit card or prepaid card', 'Student loan', 'Mortgage', 'Credit card or prepaid card', 'Mortgage', 'Debt collection', 'Checking or savings account', 'Credit card or prepaid card', 'Mortgage', 'Credit card or prepaid card', 'Credit card or prepaid card', 'Debt collection', 'Debt collection', 'Debt collection', 'Debt collection', 'Vehicle loan or lease', 'Mortgage', 'Debt collection', 'Credit card or prepaid card', 'Credit card or prepaid card', 'Credit card or prepaid card', 'Debt collection', 'Mortgage', 'Credit card or prepaid card', 'Checking or savings account', 'Mortgage', 'Student loan', 'Student loan', 'Debt collection', 'Debt collection', 'Mortgage', 'Credit card or prepaid card', 'Checking or savings account', 'Checking or savings account', 'Debt collection', 'Student loan', 'Vehicle loan or lease', 'Vehicle loan or lease', 'Credit card or prepaid card', 'Debt collection', 'Debt collection', 'Credit card or prepaid card', 'Checking or savings account', 'Mortgage', 'Checking or savings account', 'Vehicle loan or lease', 'Debt collection', 'Mortgage', 'Credit card or prepaid card', 'Credit card or prepaid card', 'Debt collection', 'Checking or savings account', 'Student loan', 'Debt collection', 'Credit card or prepaid card', 'Credit card or prepaid card', 'Debt collection', 'Checking or savings account', 'Debt collection', 'Debt collection', 'Mortgage', 'Student loan', 'Debt collection', 'Credit card or prepaid card', 'Debt collection', 'Credit card or prepaid card', 'Mortgage', 'Debt collection', 'Credit card or prepaid card', 'Debt collection', 'Debt collection', 'Checking or savings account', 'Debt collection', 'Debt collection', 'Student loan', 'Debt collection', 'Checking or savings account', 'Debt collection', 'Vehicle loan or lease', 'Debt collection', 'Credit card or prepaid card', 'Checking or savings account', 'Checking or savings account', 'Mortgage', 'Student loan', 'Mortgage', 'Credit card or prepaid card', 'Credit card or prepaid card', 'Credit card or prepaid card', 'Debt collection', 'Student loan', 'Mortgage', 'Mortgage', 'Credit card or prepaid card', 'Mortgage', 'Mortgage', 'Debt collection', 'Credit card or prepaid card', 'Vehicle loan or lease', 'Credit card or prepaid card', 'Vehicle loan or lease', 'Credit card or prepaid card', 'Credit card or prepaid card', 'Mortgage', 'Mortgage', 'Credit card or prepaid card', 'Student loan', 'Mortgage', 'Credit card or prepaid card', 'Student loan', 'Debt collection', 'Debt collection', 'Checking or savings account', 'Credit card or prepaid card', 'Checking or savings account', 'Debt collection', 'Debt collection', 'Checking or savings account', 'Debt collection', 'Debt collection', 'Vehicle loan or lease', 'Vehicle loan or lease', 'Mortgage', 'Debt collection', 'Vehicle loan or lease', 'Debt collection', 'Debt collection', 'Student loan', 'Debt collection', 'Debt collection', 'Debt collection', 'Debt collection', 'Debt collection', 'Credit card or prepaid card', 'Debt collection', 'Debt collection', 'Debt collection', 'Debt collection', 'Debt collection', 'Checking or savings account', 'Debt collection', 'Mortgage', 'Debt collection', 'Vehicle loan or lease', 'Vehicle loan or lease', 'Credit card or prepaid card', 'Mortgage', 'Checking or savings account', 'Mortgage', 'Credit card or prepaid card', 'Mortgage', 'Debt collection', 'Debt collection', 'Credit card or prepaid card', 'Credit card or prepaid card', 'Mortgage', 'Debt collection', 'Checking or savings account', 'Debt collection', 'Debt collection', 'Vehicle loan or lease', 'Debt collection', 'Checking or savings account', 'Mortgage', 'Checking or savings account', 'Debt collection', 'Credit card or prepaid card', 'Mortgage', 'Credit card or prepaid card', 'Credit card or prepaid card', 'Debt collection', 'Checking or savings account', 'Debt collection', 'Vehicle loan or lease', 'Credit card or prepaid card', 'Credit card or prepaid card', 'Debt collection', 'Student loan', 'Debt collection', 'Credit card or prepaid card', 'Debt collection', 'Debt collection', 'Debt collection', 'Credit card or prepaid card', 'Debt collection', 'Mortgage', 'Debt collection', 'Debt collection', 'Mortgage', 'Credit card or prepaid card', 'Debt collection', 'Debt collection', 'Mortgage', 'Student loan', 'Debt collection', 'Debt collection', 'Credit card or prepaid card', 'Debt collection', 'Mortgage', 'Checking or savings account', 'Credit card or prepaid card', 'Vehicle loan or lease', 'Vehicle loan or lease', 'Debt collection', 'Credit card or prepaid card', 'Mortgage', 'Mortgage', 'Mortgage', 'Debt collection', 'Debt collection', 'Mortgage', 'Debt collection', 'Credit card or prepaid card', 'Credit card or prepaid card', 'Mortgage', 'Debt collection', 'Debt collection', 'Credit card or prepaid card', 'Debt collection', 'Credit card or prepaid card', 'Checking or savings account', 'Debt collection', 'Credit card or prepaid card', 'Credit card or prepaid card', 'Debt collection', 'Checking or savings account', 'Credit card or prepaid card', 'Credit card or prepaid card', 'Mortgage', 'Debt collection', 'Credit card or prepaid card', 'Mortgage', 'Debt collection', 'Debt collection', 'Checking or savings account', 'Debt collection', 'Checking or savings account', 'Credit card or prepaid card', 'Checking or savings account', 'Credit card or prepaid card', 'Student loan', 'Checking or savings account', 'Debt collection', 'Checking or savings account', 'Debt collection', 'Credit card or prepaid card', 'Debt collection', 'Checking or savings account', 'Mortgage', 'Student loan', 'Student loan', 'Debt collection', 'Credit card or prepaid card', 'Debt collection', 'Mortgage', 'Credit card or prepaid card', 'Debt collection', 'Debt collection', 'Debt collection', 'Credit card or prepaid card', 'Mortgage', 'Debt collection', 'Debt collection', 'Checking or savings account', 'Debt collection', 'Checking or savings account', 'Debt collection', 'Checking or savings account', 'Credit card or prepaid card', 'Credit card or prepaid card', 'Student loan', 'Vehicle loan or lease', 'Debt collection', 'Student loan', 'Mortgage', 'Credit card or prepaid card', 'Debt collection', 'Debt collection', 'Debt collection', 'Credit card or prepaid card', 'Credit card or prepaid card', 'Mortgage', 'Debt collection', 'Checking or savings account', 'Debt collection', 'Debt collection', 'Debt collection', 'Credit card or prepaid card', 'Student loan', 'Vehicle loan or lease', 'Credit card or prepaid card', 'Mortgage', 'Checking or savings account', 'Mortgage', 'Credit card or prepaid card', 'Debt collection', 'Credit card or prepaid card', 'Checking or savings account', 'Mortgage', 'Credit card or prepaid card', 'Credit card or prepaid card', 'Checking or savings account', 'Vehicle loan or lease', 'Vehicle loan or lease', 'Mortgage', 'Credit card or prepaid card', 'Credit card or prepaid card', 'Credit card or prepaid card', 'Credit card or prepaid card', 'Debt collection', 'Debt collection', 'Debt collection', 'Mortgage', 'Checking or savings account', 'Mortgage', 'Credit card or prepaid card', 'Credit card or prepaid card', 'Checking or savings account', 'Mortgage', 'Debt collection', 'Credit card or prepaid card', 'Debt collection', 'Debt collection', 'Debt collection', 'Mortgage', 'Vehicle loan or lease', 'Checking or savings account', 'Checking or savings account', 'Credit card or prepaid card', 'Debt collection', 'Debt collection', 'Debt collection', 'Credit card or prepaid card', 'Credit card or prepaid card', 'Debt collection', 'Mortgage', 'Credit card or prepaid card', 'Credit card or prepaid card', 'Credit card or prepaid card', 'Checking or savings account', 'Checking or savings account', 'Checking or savings account', 'Debt collection', 'Debt collection', 'Mortgage', 'Debt collection', 'Checking or savings account', 'Mortgage', 'Debt collection', 'Credit card or prepaid card', 'Debt collection', 'Debt collection', 'Debt collection', 'Debt collection', 'Debt collection', 'Mortgage', 'Mortgage', 'Checking or savings account', 'Checking or savings account', 'Credit card or prepaid card', 'Vehicle loan or lease', 'Credit card or prepaid card', 'Credit card or prepaid card', 'Checking or savings account', 'Credit card or prepaid card', 'Mortgage', 'Student loan', 'Credit card or prepaid card', 'Mortgage', 'Debt collection', 'Mortgage', 'Checking or savings account', 'Debt collection', 'Debt collection', 'Checking or savings account', 'Vehicle loan or lease', 'Credit card or prepaid card', 'Checking or savings account', 'Credit card or prepaid card', 'Mortgage', 'Debt collection', 'Debt collection', 'Mortgage', 'Mortgage', 'Student loan', 'Debt collection', 'Debt collection', 'Mortgage', 'Mortgage', 'Mortgage', 'Debt collection', 'Vehicle loan or lease', 'Credit card or prepaid card', 'Credit card or prepaid card', 'Debt collection', 'Checking or savings account', 'Debt collection', 'Debt collection', 'Mortgage', 'Debt collection', 'Mortgage', 'Credit card or prepaid card', 'Debt collection', 'Checking or savings account', 'Student loan', 'Credit card or prepaid card', 'Debt collection', 'Mortgage', 'Checking or savings account', 'Mortgage', 'Credit card or prepaid card', 'Checking or savings account', 'Mortgage', 'Credit card or prepaid card', 'Mortgage', 'Debt collection', 'Debt collection', 'Debt collection', 'Credit card or prepaid card', 'Student loan', 'Student loan', 'Credit card or prepaid card', 'Credit card or prepaid card', 'Credit card or prepaid card', 'Mortgage', 'Credit card or prepaid card', 'Vehicle loan or lease', 'Debt collection', 'Debt collection', 'Credit card or prepaid card', 'Debt collection', 'Credit card or prepaid card', 'Credit card or prepaid card', 'Debt collection', 'Debt collection', 'Checking or savings account', 'Debt collection', 'Mortgage', 'Credit card or prepaid card', 'Debt collection', 'Student loan', 'Mortgage', 'Credit card or prepaid card', 'Checking or savings account', 'Checking or savings account', 'Debt collection', 'Credit card or prepaid card', 'Checking or savings account', 'Credit card or prepaid card', 'Mortgage', 'Mortgage', 'Mortgage', 'Debt collection', 'Debt collection', 'Debt collection', 'Debt collection', 'Checking or savings account', 'Debt collection', 'Student loan', 'Debt collection', 'Debt collection', 'Debt collection', 'Mortgage', 'Debt collection', 'Mortgage', 'Mortgage', 'Mortgage', 'Credit card or prepaid card', 'Checking or savings account', 'Credit card or prepaid card', 'Debt collection', 'Debt collection', 'Student loan', 'Debt collection', 'Checking or savings account', 'Mortgage', 'Mortgage', 'Mortgage', 'Debt collection', 'Mortgage', 'Credit card or prepaid card', 'Credit card or prepaid card', 'Student loan', 'Credit card or prepaid card', 'Debt collection', 'Debt collection', 'Credit card or prepaid card', 'Debt collection', 'Student loan', 'Student loan', 'Debt collection', 'Debt collection', 'Checking or savings account', 'Vehicle loan or lease', 'Checking or savings account', 'Checking or savings account', 'Debt collection', 'Checking or savings account', 'Vehicle loan or lease', 'Credit card or prepaid card', 'Credit card or prepaid card', 'Debt collection', 'Checking or savings account', 'Debt collection', 'Mortgage', 'Debt collection', 'Debt collection', 'Mortgage', 'Debt collection', 'Mortgage', 'Debt collection', 'Debt collection', 'Checking or savings account', 'Debt collection', 'Debt collection', 'Credit card or prepaid card', 'Debt collection', 'Debt collection', 'Debt collection', 'Credit card or prepaid card', 'Mortgage', 'Mortgage', 'Student loan', 'Checking or savings account', 'Credit card or prepaid card', 'Credit card or prepaid card', 'Mortgage', 'Debt collection', 'Vehicle loan or lease', 'Mortgage', 'Debt collection', 'Debt collection', 'Student loan', 'Credit card or prepaid card', 'Debt collection', 'Vehicle loan or lease', 'Mortgage', 'Debt collection', 'Debt collection', 'Debt collection', 'Credit card or prepaid card', 'Mortgage', 'Debt collection', 'Credit card or prepaid card', 'Credit card or prepaid card', 'Credit card or prepaid card', 'Mortgage', 'Debt collection', 'Vehicle loan or lease', 'Checking or savings account', 'Mortgage', 'Student loan', 'Debt collection', 'Student loan', 'Mortgage', 'Debt collection', 'Debt collection', 'Student loan', 'Vehicle loan or lease', 'Mortgage', 'Checking or savings account', 'Debt collection', 'Mortgage', 'Debt collection', 'Debt collection', 'Debt collection', 'Credit card or prepaid card', 'Debt collection', 'Debt collection', 'Mortgage', 'Student loan', 'Credit card or prepaid card', 'Mortgage', 'Mortgage', 'Mortgage', 'Mortgage', 'Mortgage', 'Vehicle loan or lease', 'Credit card or prepaid card', 'Mortgage', 'Credit card or prepaid card', 'Student loan', 'Debt collection', 'Debt collection', 'Student loan', 'Credit card or prepaid card', 'Debt collection', 'Mortgage', 'Mortgage', 'Checking or savings account', 'Credit card or prepaid card', 'Mortgage', 'Mortgage', 'Checking or savings account', 'Debt collection', 'Debt collection', 'Credit card or prepaid card', 'Mortgage', 'Credit card or prepaid card', 'Mortgage', 'Checking or savings account', 'Credit card or prepaid card', 'Debt collection', 'Debt collection', 'Debt collection', 'Vehicle loan or lease', 'Credit card or prepaid card', 'Checking or savings account', 'Credit card or prepaid card', 'Checking or savings account', 'Mortgage', 'Debt collection', 'Debt collection', 'Debt collection', 'Mortgage', 'Mortgage', 'Debt collection', 'Checking or savings account', 'Debt collection', 'Checking or savings account', 'Debt collection', 'Debt collection', 'Credit card or prepaid card', 'Credit card or prepaid card', 'Debt collection', 'Mortgage', 'Debt collection', 'Debt collection', 'Credit card or prepaid card', 'Debt collection', 'Mortgage', 'Vehicle loan or lease', 'Mortgage', 'Debt collection', 'Credit card or prepaid card', 'Credit card or prepaid card', 'Credit card or prepaid card', 'Credit card or prepaid card', 'Checking or savings account', 'Student loan', 'Debt collection', 'Credit card or prepaid card', 'Debt collection', 'Debt collection', 'Credit card or prepaid card', 'Debt collection', 'Debt collection', 'Credit card or prepaid card', 'Vehicle loan or lease', 'Debt collection', 'Checking or savings account', 'Debt collection', 'Student loan', 'Vehicle loan or lease', 'Debt collection', 'Checking or savings account', 'Debt collection', 'Debt collection', 'Mortgage', 'Checking or savings account', 'Debt collection', 'Vehicle loan or lease', 'Debt collection', 'Debt collection', 'Vehicle loan or lease', 'Student loan', 'Mortgage', 'Debt collection', 'Student loan', 'Debt collection', 'Debt collection', 'Credit card or prepaid card', 'Checking or savings account', 'Vehicle loan or lease', 'Debt collection', 'Debt collection', 'Debt collection', 'Mortgage', 'Checking or savings account', 'Debt collection', 'Credit card or prepaid card', 'Credit card or prepaid card', 'Debt collection', 'Vehicle loan or lease', 'Vehicle loan or lease', 'Checking or savings account', 'Credit card or prepaid card', 'Checking or savings account', 'Credit card or prepaid card', 'Credit card or prepaid card', 'Credit card or prepaid card', 'Checking or savings account', 'Mortgage', 'Debt collection', 'Mortgage', 'Student loan', 'Credit card or prepaid card', 'Debt collection', 'Credit card or prepaid card', 'Debt collection', 'Debt collection', 'Debt collection', 'Credit card or prepaid card', 'Credit card or prepaid card', 'Student loan', 'Debt collection', 'Checking or savings account', 'Debt collection', 'Mortgage', 'Checking or savings account', 'Mortgage', 'Mortgage', 'Mortgage', 'Mortgage', 'Student loan', 'Mortgage', 'Debt collection', 'Mortgage', 'Mortgage', 'Credit card or prepaid card', 'Credit card or prepaid card', 'Credit card or prepaid card', 'Credit card or prepaid card', 'Credit card or prepaid card', 'Credit card or prepaid card', 'Debt collection', 'Mortgage', 'Debt collection', 'Debt collection', 'Student loan', 'Credit card or prepaid card', 'Mortgage', 'Debt collection', 'Debt collection', 'Mortgage', 'Debt collection', 'Credit card or prepaid card', 'Debt collection', 'Mortgage', 'Credit card or prepaid card', 'Checking or savings account', 'Debt collection', 'Credit card or prepaid card', 'Debt collection', 'Mortgage', 'Debt collection', 'Credit card or prepaid card', 'Checking or savings account', 'Debt collection', 'Debt collection', 'Debt collection', 'Checking or savings account', 'Debt collection', 'Mortgage', 'Mortgage', 'Student loan', 'Vehicle loan or lease', 'Debt collection', 'Debt collection', 'Credit card or prepaid card', 'Checking or savings account', 'Debt collection', 'Debt collection', 'Debt collection', 'Debt collection', 'Mortgage', 'Vehicle loan or lease', 'Credit card or prepaid card', 'Debt collection', 'Student loan', 'Checking or savings account', 'Student loan', 'Checking or savings account', 'Credit card or prepaid card', 'Debt collection', 'Mortgage', 'Mortgage', 'Debt collection', 'Mortgage', 'Credit card or prepaid card', 'Credit card or prepaid card', 'Debt collection', 'Mortgage', 'Debt collection', 'Credit card or prepaid card', 'Debt collection', 'Credit card or prepaid card', 'Checking or savings account', 'Credit card or prepaid card', 'Checking or savings account', 'Checking or savings account', 'Debt collection', 'Debt collection', 'Credit card or prepaid card', 'Debt collection', 'Student loan', 'Checking or savings account', 'Checking or savings account', 'Credit card or prepaid card', 'Debt collection', 'Debt collection', 'Mortgage', 'Credit card or prepaid card', 'Mortgage', 'Mortgage', 'Checking or savings account', 'Debt collection', 'Debt collection', 'Vehicle loan or lease', 'Checking or savings account', 'Checking or savings account', 'Debt collection', 'Credit card or prepaid card', 'Debt collection', 'Debt collection', 'Mortgage', 'Credit card or prepaid card', 'Debt collection', 'Debt collection', 'Credit card or prepaid card', 'Debt collection', 'Debt collection', 'Debt collection', 'Checking or savings account', 'Vehicle loan or lease', 'Mortgage', 'Debt collection', 'Mortgage', 'Checking or savings account', 'Checking or savings account', 'Credit card or prepaid card', 'Debt collection', 'Debt collection', 'Debt collection', 'Student loan', 'Credit card or prepaid card', 'Mortgage', 'Debt collection', 'Credit card or prepaid card', 'Credit card or prepaid card', 'Debt collection', 'Debt collection', 'Student loan', 'Credit card or prepaid card', 'Mortgage', 'Credit card or prepaid card', 'Checking or savings account', 'Debt collection', 'Debt collection', 'Student loan', 'Debt collection', 'Student loan', 'Debt collection', 'Credit card or prepaid card', 'Debt collection', 'Debt collection', 'Credit card or prepaid card', 'Mortgage', 'Vehicle loan or lease', 'Credit card or prepaid card', 'Debt collection', 'Checking or savings account', 'Mortgage', 'Credit card or prepaid card', 'Debt collection', 'Credit card or prepaid card', 'Debt collection', 'Credit card or prepaid card', 'Checking or savings account', 'Credit card or prepaid card', 'Checking or savings account', 'Checking or savings account', 'Debt collection', 'Debt collection', 'Credit card or prepaid card', 'Debt collection', 'Student loan', 'Checking or savings account', 'Credit card or prepaid card', 'Debt collection', 'Vehicle loan or lease', 'Checking or savings account', 'Credit card or prepaid card', 'Mortgage', 'Checking or savings account', 'Mortgage', 'Debt collection', 'Credit card or prepaid card', 'Checking or savings account', 'Mortgage', 'Debt collection', 'Debt collection', 'Mortgage', 'Mortgage', 'Credit card or prepaid card', 'Debt collection', 'Vehicle loan or lease', 'Credit card or prepaid card', 'Checking or savings account', 'Credit card or prepaid card', 'Debt collection', 'Credit card or prepaid card', 'Debt collection', 'Checking or savings account', 'Debt collection', 'Student loan', 'Debt collection', 'Debt collection', 'Debt collection', 'Mortgage', 'Debt collection', 'Credit card or prepaid card', 'Debt collection', 'Debt collection', 'Credit card or prepaid card', 'Debt collection', 'Debt collection', 'Debt collection', 'Debt collection', 'Checking or savings account', 'Mortgage', 'Mortgage', 'Checking or savings account', 'Credit card or prepaid card', 'Debt collection', 'Mortgage', 'Mortgage', 'Debt collection', 'Mortgage', 'Mortgage', 'Mortgage', 'Debt collection', 'Checking or savings account', 'Mortgage', 'Student loan', 'Credit card or prepaid card', 'Debt collection', 'Debt collection', 'Checking or savings account', 'Debt collection', 'Mortgage', 'Mortgage', 'Credit card or prepaid card', 'Credit card or prepaid card', 'Debt collection', 'Mortgage', 'Credit card or prepaid card', 'Debt collection', 'Credit card or prepaid card', 'Debt collection', 'Debt collection', 'Mortgage', 'Debt collection', 'Debt collection', 'Mortgage', 'Debt collection', 'Mortgage', 'Debt collection', 'Checking or savings account', 'Credit card or prepaid card', 'Debt collection', 'Mortgage', 'Debt collection', 'Debt collection', 'Vehicle loan or lease', 'Mortgage', 'Credit card or prepaid card', 'Mortgage', 'Debt collection', 'Mortgage', 'Mortgage', 'Mortgage', 'Credit card or prepaid card', 'Checking or savings account', 'Debt collection', 'Credit card or prepaid card', 'Debt collection', 'Mortgage', 'Debt collection', 'Student loan', 'Mortgage', 'Checking or savings account', 'Debt collection', 'Mortgage', 'Debt collection', 'Checking or savings account', 'Mortgage', 'Credit card or prepaid card', 'Credit card or prepaid card', 'Debt collection', 'Checking or savings account', 'Credit card or prepaid card', 'Mortgage', 'Credit card or prepaid card', 'Debt collection', 'Debt collection', 'Credit card or prepaid card', 'Debt collection', 'Debt collection', 'Credit card or prepaid card', 'Checking or savings account', 'Checking or savings account', 'Mortgage', 'Credit card or prepaid card', 'Mortgage', 'Checking or savings account', 'Credit card or prepaid card', 'Debt collection', 'Credit card or prepaid card', 'Credit card or prepaid card', 'Debt collection', 'Debt collection', 'Credit card or prepaid card', 'Credit card or prepaid card', 'Mortgage', 'Debt collection', 'Credit card or prepaid card', 'Vehicle loan or lease', 'Credit card or prepaid card', 'Checking or savings account', 'Debt collection', 'Credit card or prepaid card', 'Vehicle loan or lease', 'Mortgage', 'Debt collection', 'Debt collection', 'Debt collection', 'Debt collection', 'Debt collection', 'Debt collection', 'Mortgage', 'Mortgage', 'Mortgage', 'Checking or savings account', 'Debt collection', 'Mortgage', 'Debt collection', 'Debt collection', 'Debt collection', 'Credit card or prepaid card', 'Mortgage', 'Checking or savings account', 'Mortgage', 'Checking or savings account', 'Debt collection', 'Credit card or prepaid card', 'Mortgage', 'Mortgage', 'Debt collection', 'Mortgage', 'Debt collection', 'Debt collection', 'Mortgage', 'Debt collection', 'Credit card or prepaid card', 'Student loan', 'Checking or savings account', 'Debt collection', 'Debt collection', 'Mortgage', 'Debt collection', 'Checking or savings account', 'Credit card or prepaid card', 'Credit card or prepaid card', 'Debt collection', 'Mortgage', 'Checking or savings account', 'Mortgage', 'Mortgage', 'Mortgage', 'Mortgage', 'Debt collection', 'Debt collection', 'Debt collection', 'Mortgage', 'Checking or savings account', 'Credit card or prepaid card', 'Credit card or prepaid card', 'Vehicle loan or lease', 'Debt collection', 'Credit card or prepaid card', 'Debt collection', 'Debt collection', 'Mortgage', 'Credit card or prepaid card', 'Checking or savings account', 'Student loan', 'Debt collection', 'Credit card or prepaid card', 'Student loan', 'Student loan', 'Credit card or prepaid card', 'Vehicle loan or lease', 'Debt collection', 'Mortgage', 'Debt collection', 'Debt collection', 'Debt collection', 'Mortgage', 'Mortgage', 'Mortgage', 'Checking or savings account', 'Debt collection', 'Mortgage', 'Debt collection', 'Mortgage', 'Debt collection', 'Debt collection', 'Debt collection', 'Credit card or prepaid card', 'Debt collection', 'Mortgage', 'Credit card or prepaid card', 'Credit card or prepaid card', 'Credit card or prepaid card', 'Credit card or prepaid card', 'Credit card or prepaid card', 'Credit card or prepaid card', 'Mortgage', 'Debt collection', 'Debt collection', 'Credit card or prepaid card', 'Student loan', 'Mortgage', 'Credit card or prepaid card', 'Mortgage', 'Debt collection', 'Debt collection', 'Credit card or prepaid card', 'Checking or savings account', 'Checking or savings account', 'Mortgage', 'Mortgage', 'Credit card or prepaid card', 'Credit card or prepaid card', 'Debt collection', 'Credit card or prepaid card', 'Mortgage', 'Checking or savings account', 'Debt collection', 'Credit card or prepaid card', 'Debt collection', 'Debt collection', 'Debt collection', 'Student loan', 'Student loan', 'Credit card or prepaid card', 'Credit card or prepaid card', 'Credit card or prepaid card', 'Vehicle loan or lease', 'Debt collection', 'Vehicle loan or lease', 'Credit card or prepaid card', 'Credit card or prepaid card', 'Checking or savings account', 'Mortgage', 'Debt collection', 'Credit card or prepaid card', 'Debt collection', 'Student loan', 'Mortgage', 'Credit card or prepaid card', 'Mortgage', 'Debt collection', 'Debt collection', 'Credit card or prepaid card', 'Debt collection', 'Mortgage', 'Credit card or prepaid card', 'Vehicle loan or lease', 'Vehicle loan or lease', 'Checking or savings account', 'Debt collection', 'Debt collection', 'Debt collection', 'Debt collection', 'Credit card or prepaid card', 'Debt collection', 'Checking or savings account', 'Credit card or prepaid card', 'Mortgage', 'Debt collection', 'Credit card or prepaid card', 'Credit card or prepaid card', 'Mortgage', 'Credit card or prepaid card', 'Mortgage', 'Credit card or prepaid card', 'Debt collection', 'Mortgage', 'Debt collection', 'Credit card or prepaid card', 'Credit card or prepaid card', 'Debt collection', 'Debt collection', 'Debt collection', 'Debt collection', 'Credit card or prepaid card', 'Credit card or prepaid card', 'Mortgage', 'Mortgage', 'Credit card or prepaid card', 'Mortgage', 'Debt collection', 'Credit card or prepaid card', 'Credit card or prepaid card', 'Debt collection', 'Debt collection', 'Debt collection', 'Credit card or prepaid card', 'Debt collection', 'Checking or savings account', 'Credit card or prepaid card', 'Debt collection', 'Debt collection', 'Mortgage', 'Debt collection', 'Mortgage', 'Debt collection', 'Mortgage', 'Credit card or prepaid card', 'Credit card or prepaid card', 'Mortgage', 'Credit card or prepaid card', 'Debt collection', 'Debt collection', 'Credit card or prepaid card', 'Mortgage', 'Debt collection', 'Credit card or prepaid card', 'Debt collection', 'Vehicle loan or lease', 'Mortgage', 'Mortgage', 'Debt collection', 'Credit card or prepaid card', 'Debt collection', 'Debt collection', 'Debt collection', 'Debt collection', 'Mortgage', 'Credit card or prepaid card', 'Debt collection', 'Mortgage', 'Student loan', 'Debt collection', 'Credit card or prepaid card', 'Debt collection', 'Debt collection', 'Mortgage', 'Debt collection', 'Debt collection', 'Debt collection', 'Debt collection', 'Credit card or prepaid card', 'Debt collection', 'Checking or savings account', 'Student loan', 'Debt collection', 'Mortgage', 'Debt collection', 'Debt collection', 'Debt collection', 'Debt collection', 'Credit card or prepaid card', 'Checking or savings account', 'Credit card or prepaid card', 'Student loan', 'Credit card or prepaid card', 'Debt collection', 'Student loan', 'Credit card or prepaid card', 'Credit card or prepaid card', 'Mortgage', 'Checking or savings account', 'Vehicle loan or lease', 'Credit card or prepaid card', 'Vehicle loan or lease', 'Mortgage', 'Mortgage', 'Credit card or prepaid card', 'Mortgage', 'Mortgage', 'Checking or savings account', 'Debt collection', 'Vehicle loan or lease', 'Mortgage', 'Credit card or prepaid card', 'Mortgage', 'Credit card or prepaid card', 'Mortgage', 'Vehicle loan or lease', 'Debt collection', 'Debt collection', 'Credit card or prepaid card', 'Debt collection', 'Student loan', 'Debt collection', 'Debt collection', 'Checking or savings account', 'Checking or savings account', 'Debt collection', 'Mortgage', 'Debt collection', 'Debt collection', 'Credit card or prepaid card', 'Checking or savings account', 'Debt collection', 'Debt collection', 'Student loan', 'Debt collection', 'Debt collection', 'Mortgage', 'Credit card or prepaid card', 'Mortgage', 'Debt collection', 'Debt collection', 'Debt collection', 'Credit card or prepaid card', 'Debt collection', 'Mortgage', 'Debt collection', 'Checking or savings account', 'Student loan', 'Debt collection', 'Mortgage', 'Checking or savings account', 'Credit card or prepaid card', 'Debt collection', 'Credit card or prepaid card', 'Mortgage', 'Debt collection', 'Student loan', 'Credit card or prepaid card', 'Debt collection', 'Debt collection', 'Credit card or prepaid card', 'Mortgage', 'Debt collection', 'Debt collection', 'Credit card or prepaid card', 'Debt collection', 'Credit card or prepaid card', 'Vehicle loan or lease', 'Student loan', 'Debt collection', 'Vehicle loan or lease', 'Mortgage', 'Debt collection', 'Mortgage', 'Debt collection', 'Debt collection', 'Debt collection', 'Vehicle loan or lease', 'Credit card or prepaid card', 'Checking or savings account', 'Debt collection', 'Mortgage', 'Student loan', 'Debt collection', 'Credit card or prepaid card', 'Debt collection', 'Mortgage', 'Debt collection', 'Checking or savings account', 'Debt collection', 'Checking or savings account', 'Credit card or prepaid card', 'Checking or savings account', 'Credit card or prepaid card', 'Credit card or prepaid card', 'Credit card or prepaid card', 'Mortgage', 'Credit card or prepaid card', 'Debt collection', 'Debt collection', 'Debt collection', 'Debt collection', 'Debt collection', 'Debt collection', 'Debt collection', 'Credit card or prepaid card', 'Debt collection', 'Debt collection', 'Checking or savings account', 'Debt collection', 'Debt collection', 'Credit card or prepaid card', 'Credit card or prepaid card', 'Vehicle loan or lease', 'Mortgage', 'Credit card or prepaid card', 'Credit card or prepaid card', 'Debt collection', 'Checking or savings account', 'Mortgage', 'Debt collection', 'Debt collection', 'Debt collection', 'Debt collection', 'Checking or savings account', 'Debt collection', 'Debt collection', 'Debt collection', 'Debt collection', 'Debt collection', 'Vehicle loan or lease', 'Mortgage', 'Mortgage', 'Debt collection', 'Debt collection', 'Mortgage', 'Mortgage', 'Mortgage', 'Debt collection', 'Checking or savings account', 'Student loan', 'Credit card or prepaid card', 'Credit card or prepaid card', 'Checking or savings account', 'Credit card or prepaid card', 'Credit card or prepaid card', 'Debt collection', 'Debt collection', 'Credit card or prepaid card', 'Vehicle loan or lease', 'Checking or savings account', 'Mortgage', 'Vehicle loan or lease', 'Checking or savings account', 'Credit card or prepaid card', 'Checking or savings account', 'Mortgage', 'Checking or savings account', 'Debt collection', 'Credit card or prepaid card', 'Credit card or prepaid card', 'Mortgage', 'Debt collection', 'Debt collection', 'Debt collection', 'Vehicle loan or lease', 'Debt collection', 'Credit card or prepaid card', 'Debt collection', 'Debt collection', 'Mortgage', 'Credit card or prepaid card', 'Debt collection', 'Vehicle loan or lease', 'Debt collection', 'Mortgage', 'Credit card or prepaid card', 'Checking or savings account', 'Credit card or prepaid card', 'Debt collection', 'Mortgage', 'Debt collection', 'Student loan', 'Student loan', 'Credit card or prepaid card', 'Debt collection', 'Debt collection', 'Vehicle loan or lease', 'Student loan', 'Debt collection', 'Mortgage', 'Credit card or prepaid card', 'Mortgage', 'Debt collection', 'Debt collection', 'Debt collection', 'Mortgage', 'Mortgage', 'Mortgage', 'Mortgage', 'Credit card or prepaid card', 'Debt collection', 'Credit card or prepaid card', 'Checking or savings account', 'Vehicle loan or lease', 'Checking or savings account', 'Debt collection', 'Credit card or prepaid card', 'Debt collection', 'Mortgage', 'Credit card or prepaid card', 'Debt collection', 'Debt collection', 'Mortgage', 'Mortgage', 'Debt collection', 'Credit card or prepaid card', 'Credit card or prepaid card', 'Debt collection', 'Debt collection', 'Debt collection', 'Credit card or prepaid card', 'Credit card or prepaid card', 'Mortgage', 'Vehicle loan or lease', 'Checking or savings account', 'Debt collection', 'Debt collection', 'Mortgage', 'Checking or savings account', 'Debt collection', 'Debt collection', 'Debt collection', 'Credit card or prepaid card', 'Student loan', 'Debt collection', 'Credit card or prepaid card', 'Debt collection', 'Debt collection', 'Credit card or prepaid card', 'Mortgage', 'Mortgage', 'Mortgage', 'Checking or savings account', 'Debt collection', 'Checking or savings account', 'Debt collection', 'Mortgage', 'Mortgage', 'Debt collection', 'Checking or savings account', 'Debt collection', 'Vehicle loan or lease', 'Debt collection', 'Debt collection', 'Debt collection', 'Debt collection', 'Debt collection', 'Mortgage', 'Debt collection', 'Debt collection', 'Debt collection', 'Credit card or prepaid card', 'Checking or savings account', 'Mortgage', 'Debt collection', 'Debt collection', 'Debt collection', 'Debt collection', 'Credit card or prepaid card', 'Vehicle loan or lease', 'Debt collection', 'Debt collection', 'Mortgage', 'Debt collection', 'Student loan', 'Vehicle loan or lease', 'Debt collection', 'Debt collection', 'Mortgage', 'Debt collection', 'Debt collection', 'Debt collection', 'Debt collection', 'Debt collection', 'Mortgage', 'Mortgage', 'Student loan', 'Student loan', 'Credit card or prepaid card', 'Credit card or prepaid card', 'Debt collection', 'Checking or savings account', 'Debt collection', 'Checking or savings account', 'Vehicle loan or lease', 'Mortgage', 'Checking or savings account', 'Credit card or prepaid card', 'Mortgage', 'Debt collection', 'Credit card or prepaid card', 'Debt collection', 'Debt collection', 'Vehicle loan or lease', 'Debt collection', 'Debt collection', 'Debt collection', 'Debt collection', 'Debt collection', 'Mortgage', 'Debt collection', 'Checking or savings account', 'Mortgage', 'Debt collection', 'Mortgage', 'Checking or savings account', 'Checking or savings account', 'Credit card or prepaid card', 'Debt collection', 'Vehicle loan or lease', 'Credit card or prepaid card', 'Mortgage', 'Student loan', 'Vehicle loan or lease', 'Debt collection', 'Debt collection', 'Debt collection', 'Credit card or prepaid card', 'Checking or savings account', 'Debt collection', 'Credit card or prepaid card', 'Checking or savings account', 'Checking or savings account', 'Debt collection', 'Mortgage', 'Credit card or prepaid card', 'Credit card or prepaid card', 'Debt collection', 'Debt collection', 'Vehicle loan or lease', 'Debt collection', 'Credit card or prepaid card', 'Mortgage', 'Mortgage', 'Debt collection', 'Debt collection', 'Credit card or prepaid card', 'Checking or savings account', 'Mortgage', 'Mortgage', 'Mortgage', 'Debt collection', 'Debt collection', 'Debt collection', 'Checking or savings account', 'Mortgage', 'Mortgage', 'Checking or savings account', 'Debt collection', 'Vehicle loan or lease', 'Credit card or prepaid card', 'Debt collection', 'Debt collection', 'Debt collection', 'Mortgage', 'Student loan', 'Debt collection', 'Debt collection', 'Debt collection', 'Mortgage', 'Checking or savings account', 'Debt collection', 'Credit card or prepaid card', 'Checking or savings account', 'Debt collection', 'Debt collection', 'Student loan', 'Credit card or prepaid card', 'Credit card or prepaid card', 'Credit card or prepaid card', 'Credit card or prepaid card', 'Debt collection', 'Debt collection', 'Checking or savings account', 'Credit card or prepaid card', 'Mortgage', 'Debt collection', 'Mortgage', 'Checking or savings account', 'Debt collection', 'Credit card or prepaid card', 'Debt collection', 'Debt collection', 'Debt collection', 'Debt collection', 'Mortgage', 'Debt collection', 'Debt collection', 'Debt collection', 'Debt collection', 'Vehicle loan or lease', 'Debt collection', 'Debt collection', 'Debt collection', 'Debt collection', 'Credit card or prepaid card', 'Credit card or prepaid card', 'Student loan', 'Credit card or prepaid card', 'Mortgage', 'Debt collection', 'Credit card or prepaid card', 'Mortgage', 'Debt collection', 'Credit card or prepaid card', 'Mortgage', 'Debt collection', 'Mortgage', 'Credit card or prepaid card', 'Debt collection', 'Debt collection', 'Debt collection', 'Debt collection', 'Student loan', 'Mortgage', 'Debt collection', 'Debt collection', 'Checking or savings account', 'Debt collection', 'Checking or savings account', 'Mortgage', 'Vehicle loan or lease', 'Debt collection', 'Credit card or prepaid card', 'Credit card or prepaid card', 'Debt collection', 'Debt collection', 'Student loan', 'Mortgage', 'Mortgage', 'Debt collection', 'Credit card or prepaid card', 'Vehicle loan or lease', 'Credit card or prepaid card', 'Credit card or prepaid card', 'Mortgage', 'Debt collection', 'Debt collection', 'Debt collection', 'Credit card or prepaid card', 'Debt collection', 'Debt collection', 'Mortgage', 'Student loan', 'Debt collection', 'Debt collection', 'Mortgage', 'Debt collection', 'Credit card or prepaid card', 'Debt collection', 'Student loan', 'Credit card or prepaid card', 'Debt collection', 'Debt collection', 'Debt collection', 'Mortgage', 'Checking or savings account', 'Checking or savings account', 'Debt collection', 'Checking or savings account', 'Credit card or prepaid card', 'Credit card or prepaid card', 'Debt collection', 'Debt collection', 'Debt collection', 'Debt collection', 'Mortgage', 'Credit card or prepaid card', 'Credit card or prepaid card', 'Mortgage', 'Credit card or prepaid card', 'Mortgage', 'Student loan', 'Debt collection', 'Debt collection', 'Debt collection', 'Debt collection', 'Debt collection', 'Credit card or prepaid card', 'Vehicle loan or lease', 'Debt collection', 'Debt collection', 'Credit card or prepaid card', 'Debt collection', 'Student loan', 'Debt collection', 'Debt collection', 'Debt collection', 'Credit card or prepaid card', 'Checking or savings account', 'Credit card or prepaid card', 'Debt collection', 'Student loan', 'Credit card or prepaid card', 'Credit card or prepaid card', 'Vehicle loan or lease', 'Checking or savings account', 'Credit card or prepaid card', 'Credit card or prepaid card', 'Debt collection', 'Debt collection', 'Checking or savings account', 'Debt collection', 'Student loan', 'Mortgage', 'Debt collection', 'Debt collection', 'Credit card or prepaid card', 'Checking or savings account', 'Credit card or prepaid card', 'Mortgage', 'Mortgage', 'Debt collection', 'Credit card or prepaid card', 'Checking or savings account', 'Debt collection', 'Student loan', 'Debt collection', 'Credit card or prepaid card', 'Checking or savings account', 'Debt collection', 'Checking or savings account', 'Student loan', 'Mortgage', 'Credit card or prepaid card', 'Vehicle loan or lease', 'Mortgage', 'Debt collection', 'Credit card or prepaid card', 'Credit card or prepaid card', 'Credit card or prepaid card', 'Debt collection', 'Checking or savings account', 'Mortgage', 'Vehicle loan or lease', 'Debt collection', 'Debt collection', 'Credit card or prepaid card', 'Debt collection', 'Vehicle loan or lease', 'Debt collection', 'Credit card or prepaid card', 'Student loan', 'Credit card or prepaid card', 'Student loan', 'Mortgage', 'Checking or savings account', 'Mortgage', 'Credit card or prepaid card', 'Debt collection', 'Student loan', 'Credit card or prepaid card', 'Checking or savings account', 'Credit card or prepaid card', 'Debt collection', 'Debt collection', 'Credit card or prepaid card', 'Debt collection', 'Vehicle loan or lease', 'Mortgage', 'Debt collection', 'Debt collection', 'Mortgage', 'Student loan', 'Debt collection', 'Debt collection', 'Student loan', 'Credit card or prepaid card', 'Credit card or prepaid card', 'Debt collection', 'Debt collection', 'Checking or savings account', 'Debt collection', 'Credit card or prepaid card', 'Debt collection', 'Credit card or prepaid card', 'Debt collection', 'Debt collection', 'Checking or savings account', 'Debt collection', 'Credit card or prepaid card', 'Credit card or prepaid card', 'Vehicle loan or lease', 'Debt collection', 'Credit card or prepaid card', 'Debt collection', 'Vehicle loan or lease', 'Debt collection', 'Checking or savings account', 'Student loan', 'Debt collection', 'Mortgage', 'Debt collection', 'Checking or savings account', 'Debt collection', 'Debt collection', 'Debt collection', 'Debt collection', 'Mortgage', 'Credit card or prepaid card', 'Debt collection', 'Debt collection', 'Credit card or prepaid card', 'Debt collection', 'Mortgage', 'Credit card or prepaid card', 'Debt collection', 'Credit card or prepaid card', 'Mortgage', 'Debt collection', 'Student loan', 'Credit card or prepaid card', 'Mortgage', 'Debt collection', 'Debt collection', 'Vehicle loan or lease', 'Credit card or prepaid card', 'Debt collection', 'Checking or savings account', 'Checking or savings account', 'Debt collection', 'Credit card or prepaid card', 'Mortgage', 'Debt collection', 'Debt collection', 'Mortgage', 'Credit card or prepaid card', 'Debt collection', 'Debt collection', 'Debt collection', 'Student loan', 'Credit card or prepaid card', 'Mortgage', 'Debt collection', 'Debt collection', 'Mortgage', 'Credit card or prepaid card', 'Credit card or prepaid card', 'Credit card or prepaid card', 'Student loan', 'Debt collection', 'Checking or savings account', 'Student loan', 'Checking or savings account', 'Debt collection', 'Debt collection', 'Checking or savings account', 'Mortgage', 'Debt collection', 'Debt collection', 'Debt collection', 'Debt collection', 'Debt collection', 'Debt collection', 'Debt collection', 'Debt collection', 'Credit card or prepaid card', 'Credit card or prepaid card', 'Debt collection', 'Mortgage', 'Mortgage', 'Debt collection', 'Credit card or prepaid card', 'Checking or savings account', 'Mortgage', 'Debt collection', 'Credit card or prepaid card', 'Checking or savings account', 'Debt collection', 'Student loan', 'Debt collection', 'Debt collection', 'Vehicle loan or lease', 'Debt collection', 'Debt collection', 'Checking or savings account', 'Debt collection', 'Debt collection', 'Credit card or prepaid card', 'Mortgage', 'Mortgage', 'Checking or savings account', 'Vehicle loan or lease', 'Debt collection', 'Debt collection', 'Mortgage', 'Debt collection', 'Mortgage', 'Credit card or prepaid card', 'Debt collection', 'Checking or savings account', 'Credit card or prepaid card', 'Checking or savings account', 'Debt collection', 'Checking or savings account', 'Debt collection', 'Credit card or prepaid card', 'Mortgage', 'Credit card or prepaid card', 'Credit card or prepaid card', 'Checking or savings account', 'Debt collection', 'Checking or savings account', 'Mortgage', 'Credit card or prepaid card', 'Vehicle loan or lease', 'Debt collection', 'Mortgage', 'Debt collection', 'Debt collection', 'Debt collection', 'Credit card or prepaid card', 'Mortgage', 'Debt collection', 'Debt collection', 'Credit card or prepaid card', 'Debt collection', 'Mortgage', 'Mortgage', 'Debt collection', 'Checking or savings account', 'Mortgage', 'Student loan', 'Debt collection', 'Debt collection', 'Student loan', 'Debt collection', 'Mortgage', 'Debt collection', 'Debt collection', 'Checking or savings account', 'Debt collection', 'Debt collection', 'Debt collection', 'Debt collection', 'Checking or savings account', 'Vehicle loan or lease', 'Debt collection', 'Checking or savings account', 'Credit card or prepaid card', 'Credit card or prepaid card', 'Credit card or prepaid card', 'Student loan', 'Debt collection', 'Debt collection', 'Credit card or prepaid card', 'Student loan', 'Checking or savings account', 'Credit card or prepaid card', 'Debt collection', 'Vehicle loan or lease', 'Vehicle loan or lease', 'Student loan', 'Vehicle loan or lease', 'Debt collection', 'Debt collection', 'Credit card or prepaid card', 'Checking or savings account', 'Debt collection', 'Credit card or prepaid card', 'Debt collection', 'Debt collection', 'Checking or savings account', 'Debt collection', 'Debt collection', 'Debt collection', 'Credit card or prepaid card', 'Debt collection', 'Credit card or prepaid card', 'Mortgage', 'Debt collection', 'Mortgage', 'Credit card or prepaid card', 'Debt collection', 'Credit card or prepaid card', 'Student loan', 'Debt collection', 'Credit card or prepaid card', 'Debt collection', 'Mortgage', 'Checking or savings account', 'Student loan', 'Debt collection', 'Checking or savings account', 'Credit card or prepaid card', 'Credit card or prepaid card', 'Student loan', 'Checking or savings account', 'Debt collection', 'Checking or savings account', 'Debt collection', 'Vehicle loan or lease', 'Debt collection', 'Debt collection', 'Credit card or prepaid card', 'Debt collection', 'Debt collection', 'Debt collection', 'Debt collection', 'Credit card or prepaid card', 'Debt collection', 'Vehicle loan or lease', 'Credit card or prepaid card', 'Debt collection', 'Vehicle loan or lease', 'Checking or savings account', 'Debt collection', 'Debt collection', 'Debt collection', 'Vehicle loan or lease', 'Checking or savings account', 'Debt collection', 'Credit card or prepaid card', 'Credit card or prepaid card', 'Mortgage', 'Debt collection', 'Checking or savings account', 'Checking or savings account', 'Mortgage', 'Checking or savings account', 'Credit card or prepaid card', 'Credit card or prepaid card', 'Credit card or prepaid card', 'Vehicle loan or lease', 'Student loan', 'Vehicle loan or lease', 'Credit card or prepaid card', 'Debt collection', 'Mortgage', 'Credit card or prepaid card', 'Debt collection', 'Debt collection', 'Credit card or prepaid card', 'Mortgage', 'Mortgage', 'Credit card or prepaid card', 'Checking or savings account', 'Debt collection', 'Checking or savings account', 'Mortgage', 'Checking or savings account', 'Checking or savings account', 'Debt collection', 'Checking or savings account', 'Debt collection', 'Mortgage', 'Debt collection', 'Student loan', 'Vehicle loan or lease', 'Debt collection', 'Vehicle loan or lease', 'Credit card or prepaid card', 'Credit card or prepaid card', 'Credit card or prepaid card', 'Mortgage', 'Credit card or prepaid card', 'Debt collection', 'Debt collection', 'Credit card or prepaid card', 'Checking or savings account', 'Student loan', 'Debt collection', 'Debt collection', 'Student loan', 'Credit card or prepaid card', 'Credit card or prepaid card', 'Checking or savings account', 'Debt collection', 'Mortgage', 'Student loan', 'Credit card or prepaid card', 'Debt collection', 'Debt collection', 'Checking or savings account', 'Debt collection', 'Mortgage', 'Mortgage', 'Vehicle loan or lease', 'Debt collection', 'Checking or savings account', 'Checking or savings account', 'Credit card or prepaid card', 'Mortgage', 'Debt collection', 'Debt collection', 'Credit card or prepaid card', 'Credit card or prepaid card', 'Debt collection', 'Debt collection', 'Mortgage', 'Credit card or prepaid card', 'Debt collection', 'Credit card or prepaid card', 'Debt collection', 'Debt collection', 'Checking or savings account', 'Credit card or prepaid card', 'Debt collection', 'Debt collection', 'Vehicle loan or lease', 'Mortgage', 'Checking or savings account', 'Debt collection', 'Mortgage', 'Debt collection', 'Debt collection', 'Mortgage', 'Credit card or prepaid card', 'Credit card or prepaid card', 'Mortgage', 'Credit card or prepaid card', 'Debt collection', 'Debt collection', 'Credit card or prepaid card', 'Checking or savings account', 'Student loan', 'Debt collection', 'Mortgage', 'Credit card or prepaid card', 'Debt collection', 'Debt collection', 'Debt collection', 'Credit card or prepaid card', 'Debt collection', 'Vehicle loan or lease', 'Debt collection', 'Checking or savings account', 'Debt collection', 'Debt collection', 'Debt collection', 'Credit card or prepaid card', 'Vehicle loan or lease', 'Debt collection', 'Mortgage', 'Debt collection', 'Debt collection', 'Mortgage', 'Credit card or prepaid card', 'Student loan', 'Mortgage', 'Debt collection', 'Vehicle loan or lease', 'Debt collection', 'Debt collection', 'Checking or savings account', 'Debt collection', 'Checking or savings account', 'Mortgage', 'Credit card or prepaid card', 'Checking or savings account', 'Mortgage', 'Debt collection', 'Checking or savings account', 'Mortgage', 'Credit card or prepaid card', 'Debt collection', 'Checking or savings account', 'Debt collection', 'Credit card or prepaid card', 'Credit card or prepaid card', 'Credit card or prepaid card', 'Debt collection', 'Debt collection', 'Debt collection', 'Debt collection', 'Debt collection', 'Debt collection', 'Student loan', 'Credit card or prepaid card', 'Debt collection', 'Credit card or prepaid card', 'Credit card or prepaid card', 'Debt collection', 'Mortgage', 'Mortgage', 'Credit card or prepaid card', 'Mortgage', 'Mortgage', 'Mortgage', 'Mortgage', 'Debt collection', 'Vehicle loan or lease', 'Debt collection', 'Credit card or prepaid card', 'Debt collection', 'Debt collection', 'Checking or savings account', 'Credit card or prepaid card', 'Credit card or prepaid card', 'Credit card or prepaid card', 'Checking or savings account', 'Mortgage', 'Credit card or prepaid card', 'Credit card or prepaid card', 'Vehicle loan or lease', 'Checking or savings account', 'Credit card or prepaid card', 'Debt collection', 'Checking or savings account', 'Debt collection', 'Student loan', 'Debt collection', 'Credit card or prepaid card', 'Credit card or prepaid card', 'Debt collection', 'Checking or savings account', 'Credit card or prepaid card', 'Credit card or prepaid card', 'Debt collection', 'Credit card or prepaid card', 'Checking or savings account', 'Debt collection', 'Credit card or prepaid card', 'Mortgage', 'Credit card or prepaid card', 'Debt collection', 'Vehicle loan or lease', 'Credit card or prepaid card', 'Mortgage', 'Mortgage', 'Checking or savings account', 'Debt collection', 'Credit card or prepaid card', 'Credit card or prepaid card', 'Debt collection', 'Debt collection', 'Debt collection', 'Student loan', 'Debt collection', 'Debt collection', 'Debt collection', 'Credit card or prepaid card', 'Mortgage', 'Debt collection', 'Student loan', 'Debt collection', 'Credit card or prepaid card', 'Debt collection', 'Checking or savings account', 'Credit card or prepaid card', 'Debt collection', 'Debt collection', 'Credit card or prepaid card', 'Credit card or prepaid card', 'Debt collection', 'Mortgage', 'Debt collection', 'Checking or savings account', 'Checking or savings account', 'Debt collection', 'Checking or savings account', 'Student loan', 'Debt collection', 'Mortgage', 'Mortgage', 'Mortgage', 'Checking or savings account', 'Debt collection', 'Debt collection', 'Debt collection', 'Mortgage', 'Student loan', 'Credit card or prepaid card', 'Vehicle loan or lease', 'Debt collection', 'Credit card or prepaid card', 'Checking or savings account', 'Credit card or prepaid card', 'Credit card or prepaid card', 'Student loan', 'Credit card or prepaid card', 'Debt collection', 'Debt collection', 'Debt collection', 'Student loan', 'Credit card or prepaid card', 'Checking or savings account', 'Mortgage', 'Credit card or prepaid card', 'Debt collection', 'Mortgage', 'Credit card or prepaid card', 'Vehicle loan or lease', 'Credit card or prepaid card', 'Checking or savings account', 'Student loan', 'Debt collection', 'Debt collection', 'Debt collection', 'Debt collection', 'Vehicle loan or lease', 'Debt collection', 'Credit card or prepaid card', 'Credit card or prepaid card', 'Student loan', 'Vehicle loan or lease', 'Credit card or prepaid card', 'Debt collection', 'Credit card or prepaid card', 'Debt collection', 'Vehicle loan or lease', 'Debt collection', 'Debt collection', 'Checking or savings account', 'Debt collection', 'Mortgage', 'Debt collection', 'Checking or savings account', 'Mortgage', 'Checking or savings account', 'Checking or savings account', 'Debt collection', 'Mortgage', 'Checking or savings account', 'Debt collection', 'Checking or savings account', 'Credit card or prepaid card', 'Mortgage', 'Mortgage', 'Vehicle loan or lease', 'Debt collection', 'Student loan', 'Credit card or prepaid card', 'Credit card or prepaid card', 'Vehicle loan or lease', 'Credit card or prepaid card', 'Credit card or prepaid card', 'Debt collection', 'Checking or savings account', 'Mortgage', 'Checking or savings account', 'Mortgage', 'Credit card or prepaid card', 'Debt collection', 'Debt collection', 'Mortgage', 'Debt collection', 'Checking or savings account', 'Mortgage', 'Mortgage', 'Student loan', 'Debt collection', 'Debt collection', 'Debt collection', 'Vehicle loan or lease', 'Debt collection', 'Mortgage', 'Mortgage', 'Mortgage', 'Credit card or prepaid card', 'Debt collection', 'Debt collection', 'Debt collection', 'Debt collection', 'Vehicle loan or lease', 'Debt collection', 'Credit card or prepaid card', 'Checking or savings account', 'Debt collection', 'Vehicle loan or lease', 'Mortgage', 'Debt collection', 'Mortgage', 'Checking or savings account', 'Checking or savings account', 'Credit card or prepaid card', 'Student loan', 'Debt collection', 'Debt collection', 'Checking or savings account', 'Mortgage', 'Credit card or prepaid card', 'Credit card or prepaid card', 'Mortgage', 'Debt collection', 'Mortgage', 'Debt collection', 'Debt collection', 'Debt collection', 'Student loan', 'Mortgage', 'Debt collection', 'Credit card or prepaid card', 'Debt collection', 'Debt collection', 'Student loan', 'Credit card or prepaid card', 'Debt collection', 'Checking or savings account', 'Checking or savings account', 'Debt collection', 'Vehicle loan or lease', 'Debt collection', 'Mortgage', 'Debt collection', 'Debt collection', 'Debt collection', 'Student loan', 'Debt collection', 'Debt collection', 'Debt collection', 'Mortgage', 'Mortgage', 'Checking or savings account', 'Credit card or prepaid card', 'Mortgage', 'Mortgage', 'Debt collection', 'Checking or savings account', 'Credit card or prepaid card', 'Mortgage', 'Checking or savings account', 'Debt collection', 'Credit card or prepaid card', 'Debt collection', 'Mortgage', 'Mortgage', 'Debt collection', 'Debt collection', 'Mortgage', 'Credit card or prepaid card', 'Credit card or prepaid card', 'Debt collection', 'Checking or savings account', 'Credit card or prepaid card', 'Checking or savings account', 'Debt collection', 'Debt collection', 'Debt collection', 'Mortgage', 'Debt collection', 'Checking or savings account', 'Mortgage', 'Debt collection', 'Debt collection', 'Debt collection', 'Student loan', 'Debt collection', 'Credit card or prepaid card', 'Mortgage', 'Credit card or prepaid card', 'Mortgage', 'Checking or savings account', 'Vehicle loan or lease', 'Debt collection', 'Debt collection', 'Mortgage', 'Debt collection', 'Debt collection', 'Credit card or prepaid card', 'Credit card or prepaid card', 'Debt collection', 'Debt collection', 'Checking or savings account', 'Credit card or prepaid card', 'Credit card or prepaid card', 'Debt collection', 'Credit card or prepaid card', 'Mortgage', 'Credit card or prepaid card', 'Credit card or prepaid card', 'Credit card or prepaid card', 'Debt collection', 'Checking or savings account', 'Debt collection', 'Student loan', 'Debt collection', 'Debt collection', 'Credit card or prepaid card', 'Mortgage', 'Debt collection', 'Checking or savings account', 'Credit card or prepaid card', 'Checking or savings account', 'Checking or savings account', 'Mortgage', 'Credit card or prepaid card', 'Debt collection', 'Vehicle loan or lease', 'Debt collection', 'Credit card or prepaid card', 'Checking or savings account', 'Debt collection', 'Credit card or prepaid card', 'Credit card or prepaid card', 'Debt collection', 'Mortgage', 'Student loan', 'Debt collection', 'Mortgage', 'Mortgage', 'Credit card or prepaid card', 'Checking or savings account', 'Debt collection', 'Credit card or prepaid card', 'Debt collection', 'Checking or savings account', 'Mortgage', 'Mortgage', 'Mortgage', 'Debt collection', 'Debt collection', 'Credit card or prepaid card', 'Vehicle loan or lease', 'Credit card or prepaid card', 'Mortgage', 'Credit card or prepaid card', 'Mortgage', 'Debt collection', 'Mortgage', 'Credit card or prepaid card', 'Credit card or prepaid card', 'Credit card or prepaid card', 'Debt collection', 'Debt collection', 'Checking or savings account', 'Credit card or prepaid card', 'Checking or savings account', 'Vehicle loan or lease', 'Debt collection', 'Debt collection', 'Debt collection', 'Mortgage', 'Debt collection', 'Debt collection', 'Checking or savings account', 'Debt collection', 'Mortgage', 'Credit card or prepaid card', 'Vehicle loan or lease', 'Checking or savings account', 'Debt collection', 'Credit card or prepaid card', 'Debt collection', 'Student loan', 'Student loan', 'Debt collection', 'Debt collection', 'Debt collection', 'Debt collection', 'Credit card or prepaid card', 'Credit card or prepaid card', 'Debt collection', 'Mortgage', 'Debt collection', 'Mortgage', 'Debt collection', 'Credit card or prepaid card', 'Mortgage', 'Debt collection', 'Mortgage', 'Checking or savings account', 'Credit card or prepaid card', 'Credit card or prepaid card', 'Checking or savings account', 'Credit card or prepaid card', 'Debt collection', 'Credit card or prepaid card', 'Credit card or prepaid card', 'Debt collection', 'Checking or savings account', 'Student loan', 'Credit card or prepaid card', 'Mortgage', 'Debt collection', 'Student loan', 'Mortgage', 'Credit card or prepaid card', 'Mortgage', 'Debt collection', 'Debt collection', 'Checking or savings account', 'Checking or savings account', 'Credit card or prepaid card', 'Debt collection', 'Mortgage', 'Credit card or prepaid card', 'Debt collection', 'Mortgage', 'Checking or savings account', 'Credit card or prepaid card', 'Credit card or prepaid card', 'Debt collection', 'Debt collection', 'Student loan', 'Mortgage', 'Vehicle loan or lease', 'Debt collection', 'Vehicle loan or lease', 'Debt collection', 'Debt collection', 'Debt collection', 'Credit card or prepaid card', 'Credit card or prepaid card', 'Mortgage', 'Credit card or prepaid card', 'Debt collection', 'Student loan', 'Credit card or prepaid card', 'Credit card or prepaid card', 'Debt collection', 'Debt collection', 'Mortgage', 'Checking or savings account', 'Debt collection', 'Credit card or prepaid card', 'Debt collection', 'Debt collection', 'Credit card or prepaid card', 'Mortgage', 'Debt collection', 'Credit card or prepaid card', 'Debt collection', 'Debt collection', 'Checking or savings account', 'Debt collection', 'Debt collection', 'Mortgage', 'Debt collection', 'Debt collection', 'Vehicle loan or lease', 'Debt collection', 'Vehicle loan or lease', 'Debt collection', 'Debt collection', 'Checking or savings account', 'Mortgage', 'Debt collection', 'Mortgage', 'Debt collection', 'Debt collection', 'Debt collection', 'Credit card or prepaid card', 'Debt collection', 'Debt collection', 'Debt collection', 'Credit card or prepaid card', 'Student loan', 'Credit card or prepaid card', 'Checking or savings account', 'Debt collection', 'Credit card or prepaid card', 'Debt collection', 'Mortgage', 'Student loan', 'Debt collection', 'Credit card or prepaid card', 'Mortgage', 'Debt collection', 'Debt collection', 'Vehicle loan or lease', 'Credit card or prepaid card', 'Debt collection', 'Vehicle loan or lease', 'Vehicle loan or lease', 'Mortgage', 'Credit card or prepaid card', 'Debt collection', 'Credit card or prepaid card', 'Debt collection', 'Mortgage', 'Debt collection', 'Credit card or prepaid card', 'Debt collection', 'Credit card or prepaid card', 'Student loan', 'Debt collection', 'Credit card or prepaid card', 'Debt collection', 'Credit card or prepaid card', 'Credit card or prepaid card', 'Credit card or prepaid card', 'Debt collection', 'Debt collection', 'Checking or savings account', 'Debt collection', 'Debt collection', 'Debt collection', 'Debt collection', 'Debt collection', 'Credit card or prepaid card', 'Checking or savings account', 'Debt collection', 'Mortgage', 'Debt collection', 'Debt collection', 'Checking or savings account', 'Debt collection', 'Credit card or prepaid card', 'Checking or savings account', 'Debt collection', 'Checking or savings account', 'Credit card or prepaid card', 'Credit card or prepaid card', 'Debt collection', 'Checking or savings account', 'Debt collection', 'Debt collection', 'Mortgage', 'Debt collection', 'Student loan', 'Credit card or prepaid card', 'Mortgage', 'Debt collection', 'Debt collection', 'Student loan', 'Debt collection', 'Vehicle loan or lease', 'Credit card or prepaid card', 'Debt collection', 'Mortgage', 'Vehicle loan or lease', 'Debt collection', 'Debt collection', 'Vehicle loan or lease', 'Debt collection', 'Credit card or prepaid card', 'Credit card or prepaid card', 'Mortgage', 'Debt collection', 'Debt collection', 'Mortgage', 'Credit card or prepaid card', 'Credit card or prepaid card', 'Credit card or prepaid card', 'Debt collection', 'Vehicle loan or lease', 'Checking or savings account', 'Debt collection', 'Debt collection', 'Credit card or prepaid card', 'Debt collection', 'Checking or savings account', 'Mortgage', 'Credit card or prepaid card', 'Checking or savings account', 'Debt collection', 'Credit card or prepaid card', 'Mortgage', 'Debt collection', 'Student loan', 'Credit card or prepaid card', 'Credit card or prepaid card', 'Debt collection', 'Student loan', 'Credit card or prepaid card', 'Student loan', 'Checking or savings account', 'Debt collection', 'Credit card or prepaid card', 'Debt collection', 'Debt collection', 'Credit card or prepaid card', 'Debt collection', 'Checking or savings account', 'Credit card or prepaid card', 'Debt collection', 'Debt collection', 'Debt collection', 'Debt collection', 'Credit card or prepaid card', 'Student loan', 'Debt collection', 'Mortgage', 'Debt collection', 'Student loan', 'Student loan', 'Credit card or prepaid card', 'Credit card or prepaid card', 'Debt collection', 'Debt collection', 'Debt collection', 'Mortgage', 'Checking or savings account', 'Credit card or prepaid card', 'Vehicle loan or lease', 'Debt collection', 'Student loan', 'Credit card or prepaid card', 'Checking or savings account', 'Checking or savings account', 'Credit card or prepaid card', 'Mortgage', 'Vehicle loan or lease', 'Debt collection', 'Mortgage', 'Credit card or prepaid card', 'Mortgage', 'Debt collection', 'Credit card or prepaid card', 'Checking or savings account', 'Credit card or prepaid card', 'Debt collection', 'Vehicle loan or lease', 'Student loan', 'Credit card or prepaid card', 'Debt collection', 'Checking or savings account', 'Credit card or prepaid card', 'Credit card or prepaid card', 'Checking or savings account', 'Student loan', 'Student loan', 'Debt collection', 'Vehicle loan or lease', 'Student loan', 'Credit card or prepaid card', 'Debt collection', 'Credit card or prepaid card', 'Debt collection', 'Debt collection', 'Credit card or prepaid card', 'Debt collection', 'Credit card or prepaid card', 'Mortgage', 'Credit card or prepaid card', 'Credit card or prepaid card', 'Checking or savings account', 'Mortgage', 'Credit card or prepaid card', 'Debt collection', 'Debt collection', 'Debt collection', 'Mortgage', 'Debt collection', 'Credit card or prepaid card', 'Credit card or prepaid card', 'Credit card or prepaid card', 'Mortgage', 'Mortgage', 'Checking or savings account', 'Mortgage', 'Debt collection', 'Debt collection', 'Mortgage', 'Credit card or prepaid card', 'Mortgage', 'Checking or savings account', 'Credit card or prepaid card', 'Mortgage', 'Vehicle loan or lease', 'Mortgage', 'Student loan', 'Credit card or prepaid card', 'Debt collection', 'Debt collection', 'Debt collection', 'Vehicle loan or lease', 'Checking or savings account', 'Debt collection', 'Debt collection', 'Debt collection', 'Mortgage', 'Credit card or prepaid card', 'Mortgage', 'Debt collection', 'Credit card or prepaid card', 'Credit card or prepaid card', 'Checking or savings account', 'Debt collection', 'Mortgage', 'Mortgage', 'Debt collection', 'Credit card or prepaid card', 'Checking or savings account', 'Debt collection', 'Mortgage', 'Mortgage', 'Checking or savings account', 'Credit card or prepaid card', 'Debt collection', 'Mortgage', 'Vehicle loan or lease', 'Credit card or prepaid card', 'Credit card or prepaid card', 'Debt collection', 'Credit card or prepaid card', 'Credit card or prepaid card', 'Student loan', 'Checking or savings account', 'Credit card or prepaid card', 'Mortgage', 'Credit card or prepaid card', 'Debt collection', 'Credit card or prepaid card', 'Vehicle loan or lease', 'Debt collection', 'Debt collection', 'Debt collection', 'Debt collection', 'Credit card or prepaid card', 'Debt collection', 'Credit card or prepaid card', 'Debt collection', 'Credit card or prepaid card', 'Mortgage', 'Debt collection', 'Credit card or prepaid card', 'Debt collection', 'Mortgage', 'Credit card or prepaid card', 'Mortgage', 'Credit card or prepaid card', 'Credit card or prepaid card', 'Mortgage', 'Credit card or prepaid card', 'Checking or savings account', 'Debt collection', 'Debt collection', 'Credit card or prepaid card', 'Credit card or prepaid card', 'Credit card or prepaid card', 'Debt collection', 'Debt collection', 'Debt collection', 'Debt collection', 'Debt collection', 'Mortgage', 'Student loan', 'Credit card or prepaid card', 'Checking or savings account', 'Debt collection', 'Checking or savings account', 'Mortgage', 'Credit card or prepaid card', 'Mortgage', 'Debt collection', 'Credit card or prepaid card', 'Mortgage', 'Debt collection', 'Checking or savings account', 'Debt collection', 'Credit card or prepaid card', 'Credit card or prepaid card', 'Checking or savings account', 'Mortgage', 'Debt collection', 'Debt collection', 'Mortgage', 'Debt collection', 'Debt collection', 'Checking or savings account', 'Checking or savings account', 'Debt collection', 'Debt collection', 'Debt collection', 'Credit card or prepaid card', 'Debt collection', 'Mortgage', 'Mortgage', 'Debt collection', 'Mortgage', 'Mortgage', 'Debt collection', 'Student loan', 'Checking or savings account', 'Checking or savings account', 'Debt collection', 'Debt collection', 'Debt collection', 'Credit card or prepaid card', 'Credit card or prepaid card', 'Checking or savings account', 'Credit card or prepaid card', 'Debt collection', 'Mortgage', 'Mortgage', 'Credit card or prepaid card', 'Checking or savings account', 'Mortgage', 'Debt collection', 'Credit card or prepaid card', 'Credit card or prepaid card', 'Debt collection', 'Credit card or prepaid card', 'Credit card or prepaid card', 'Debt collection', 'Mortgage', 'Debt collection', 'Debt collection', 'Student loan', 'Debt collection', 'Checking or savings account', 'Credit card or prepaid card', 'Debt collection', 'Mortgage', 'Debt collection', 'Checking or savings account', 'Debt collection', 'Checking or savings account', 'Checking or savings account', 'Debt collection', 'Debt collection', 'Checking or savings account', 'Checking or savings account', 'Student loan', 'Credit card or prepaid card', 'Credit card or prepaid card', 'Mortgage', 'Mortgage', 'Credit card or prepaid card', 'Credit card or prepaid card', 'Debt collection', 'Debt collection', 'Credit card or prepaid card', 'Mortgage', 'Debt collection', 'Mortgage', 'Debt collection', 'Checking or savings account', 'Checking or savings account', 'Checking or savings account', 'Debt collection', 'Checking or savings account', 'Debt collection', 'Debt collection', 'Debt collection', 'Debt collection', 'Debt collection', 'Checking or savings account', 'Mortgage', 'Credit card or prepaid card', 'Credit card or prepaid card', 'Credit card or prepaid card', 'Mortgage', 'Mortgage', 'Checking or savings account', 'Mortgage', 'Debt collection', 'Debt collection', 'Credit card or prepaid card', 'Credit card or prepaid card', 'Debt collection', 'Mortgage', 'Debt collection', 'Checking or savings account', 'Credit card or prepaid card', 'Vehicle loan or lease', 'Debt collection', 'Debt collection', 'Debt collection', 'Mortgage', 'Vehicle loan or lease', 'Credit card or prepaid card', 'Mortgage', 'Debt collection', 'Debt collection', 'Debt collection', 'Debt collection', 'Credit card or prepaid card', 'Debt collection', 'Mortgage', 'Mortgage', 'Debt collection', 'Debt collection', 'Credit card or prepaid card', 'Checking or savings account', 'Vehicle loan or lease', 'Debt collection', 'Credit card or prepaid card', 'Credit card or prepaid card', 'Mortgage', 'Debt collection', 'Checking or savings account', 'Debt collection', 'Debt collection', 'Debt collection', 'Vehicle loan or lease', 'Checking or savings account', 'Debt collection', 'Debt collection', 'Debt collection', 'Mortgage', 'Credit card or prepaid card', 'Debt collection', 'Mortgage', 'Credit card or prepaid card', 'Credit card or prepaid card', 'Debt collection', 'Checking or savings account', 'Debt collection', 'Student loan', 'Credit card or prepaid card', 'Debt collection', 'Debt collection', 'Credit card or prepaid card', 'Vehicle loan or lease', 'Student loan', 'Debt collection', 'Mortgage', 'Credit card or prepaid card', 'Debt collection', 'Mortgage', 'Credit card or prepaid card', 'Credit card or prepaid card', 'Credit card or prepaid card', 'Mortgage', 'Mortgage', 'Credit card or prepaid card', 'Credit card or prepaid card', 'Debt collection', 'Debt collection', 'Credit card or prepaid card', 'Debt collection', 'Mortgage', 'Vehicle loan or lease', 'Debt collection', 'Credit card or prepaid card', 'Checking or savings account', 'Checking or savings account', 'Debt collection', 'Debt collection', 'Debt collection', 'Mortgage', 'Credit card or prepaid card', 'Debt collection', 'Debt collection', 'Debt collection', 'Mortgage', 'Credit card or prepaid card', 'Checking or savings account', 'Mortgage', 'Mortgage', 'Debt collection', 'Checking or savings account', 'Debt collection', 'Debt collection', 'Credit card or prepaid card', 'Debt collection', 'Mortgage', 'Debt collection', 'Debt collection', 'Credit card or prepaid card', 'Mortgage', 'Debt collection', 'Mortgage', 'Debt collection', 'Mortgage', 'Credit card or prepaid card', 'Credit card or prepaid card', 'Checking or savings account', 'Mortgage', 'Credit card or prepaid card', 'Student loan', 'Debt collection', 'Credit card or prepaid card', 'Debt collection', 'Debt collection', 'Student loan', 'Checking or savings account', 'Debt collection', 'Credit card or prepaid card', 'Credit card or prepaid card', 'Mortgage', 'Student loan', 'Debt collection', 'Debt collection', 'Debt collection', 'Checking or savings account', 'Checking or savings account', 'Debt collection', 'Debt collection', 'Student loan', 'Mortgage', 'Mortgage', 'Debt collection', 'Mortgage', 'Credit card or prepaid card', 'Credit card or prepaid card', 'Mortgage', 'Debt collection', 'Credit card or prepaid card', 'Student loan', 'Credit card or prepaid card', 'Credit card or prepaid card', 'Credit card or prepaid card', 'Debt collection', 'Mortgage', 'Credit card or prepaid card', 'Debt collection', 'Student loan', 'Credit card or prepaid card', 'Vehicle loan or lease', 'Credit card or prepaid card', 'Debt collection', 'Student loan', 'Vehicle loan or lease', 'Debt collection', 'Mortgage', 'Debt collection', 'Credit card or prepaid card', 'Checking or savings account', 'Vehicle loan or lease', 'Debt collection', 'Checking or savings account', 'Credit card or prepaid card', 'Debt collection', 'Credit card or prepaid card', 'Debt collection', 'Debt collection', 'Mortgage', 'Debt collection', 'Mortgage', 'Debt collection', 'Credit card or prepaid card', 'Student loan', 'Debt collection', 'Credit card or prepaid card', 'Debt collection', 'Debt collection', 'Credit card or prepaid card', 'Credit card or prepaid card', 'Mortgage', 'Credit card or prepaid card', 'Checking or savings account', 'Debt collection', 'Debt collection', 'Mortgage', 'Credit card or prepaid card', 'Credit card or prepaid card', 'Debt collection', 'Credit card or prepaid card', 'Debt collection', 'Checking or savings account', 'Debt collection', 'Debt collection', 'Credit card or prepaid card', 'Mortgage', 'Checking or savings account', 'Checking or savings account', 'Checking or savings account', 'Debt collection', 'Mortgage', 'Checking or savings account', 'Debt collection', 'Vehicle loan or lease', 'Debt collection', 'Debt collection', 'Vehicle loan or lease', 'Debt collection', 'Mortgage', 'Credit card or prepaid card', 'Credit card or prepaid card', 'Credit card or prepaid card', 'Credit card or prepaid card', 'Debt collection', 'Debt collection', 'Credit card or prepaid card', 'Debt collection', 'Student loan', 'Debt collection', 'Debt collection', 'Credit card or prepaid card', 'Credit card or prepaid card', 'Mortgage', 'Debt collection', 'Debt collection', 'Mortgage', 'Mortgage', 'Mortgage', 'Mortgage', 'Mortgage', 'Debt collection', 'Debt collection', 'Debt collection', 'Mortgage', 'Credit card or prepaid card', 'Mortgage', 'Credit card or prepaid card', 'Mortgage', 'Mortgage', 'Credit card or prepaid card', 'Debt collection', 'Credit card or prepaid card', 'Checking or savings account', 'Debt collection', 'Credit card or prepaid card', 'Checking or savings account', 'Debt collection', 'Credit card or prepaid card', 'Credit card or prepaid card', 'Credit card or prepaid card', 'Checking or savings account', 'Credit card or prepaid card', 'Credit card or prepaid card', 'Checking or savings account', 'Debt collection', 'Debt collection', 'Debt collection', 'Checking or savings account', 'Vehicle loan or lease', 'Mortgage', 'Mortgage', 'Student loan', 'Credit card or prepaid card', 'Student loan', 'Debt collection', 'Debt collection', 'Debt collection', 'Debt collection', 'Debt collection', 'Mortgage', 'Credit card or prepaid card', 'Checking or savings account', 'Checking or savings account', 'Debt collection', 'Debt collection', 'Checking or savings account', 'Checking or savings account', 'Debt collection', 'Checking or savings account', 'Debt collection', 'Debt collection', 'Mortgage', 'Checking or savings account', 'Credit card or prepaid card', 'Debt collection', 'Student loan', 'Debt collection', 'Checking or savings account', 'Vehicle loan or lease', 'Debt collection', 'Debt collection', 'Debt collection', 'Checking or savings account', 'Mortgage', 'Credit card or prepaid card', 'Checking or savings account', 'Debt collection', 'Debt collection', 'Debt collection', 'Mortgage', 'Debt collection', 'Debt collection', 'Mortgage', 'Checking or savings account', 'Mortgage', 'Mortgage', 'Credit card or prepaid card', 'Debt collection', 'Credit card or prepaid card', 'Debt collection', 'Debt collection', 'Checking or savings account', 'Credit card or prepaid card', 'Debt collection', 'Debt collection', 'Credit card or prepaid card', 'Debt collection', 'Checking or savings account', 'Student loan', 'Credit card or prepaid card', 'Credit card or prepaid card', 'Checking or savings account', 'Mortgage', 'Debt collection', 'Checking or savings account', 'Debt collection', 'Credit card or prepaid card', 'Debt collection', 'Credit card or prepaid card', 'Mortgage', 'Debt collection', 'Credit card or prepaid card', 'Debt collection', 'Mortgage', 'Debt collection', 'Credit card or prepaid card', 'Debt collection', 'Mortgage', 'Debt collection', 'Credit card or prepaid card', 'Credit card or prepaid card', 'Vehicle loan or lease', 'Checking or savings account', 'Checking or savings account', 'Mortgage', 'Debt collection', 'Debt collection', 'Checking or savings account', 'Vehicle loan or lease', 'Checking or savings account', 'Vehicle loan or lease', 'Debt collection', 'Debt collection', 'Credit card or prepaid card', 'Checking or savings account', 'Debt collection', 'Mortgage', 'Debt collection', 'Student loan', 'Mortgage', 'Credit card or prepaid card', 'Mortgage', 'Debt collection', 'Debt collection', 'Credit card or prepaid card', 'Debt collection', 'Debt collection', 'Debt collection', 'Mortgage', 'Debt collection', 'Debt collection', 'Checking or savings account', 'Debt collection', 'Debt collection', 'Credit card or prepaid card', 'Debt collection', 'Debt collection', 'Debt collection', 'Debt collection', 'Credit card or prepaid card', 'Debt collection', 'Credit card or prepaid card', 'Debt collection', 'Debt collection', 'Debt collection', 'Debt collection', 'Debt collection', 'Checking or savings account', 'Debt collection', 'Debt collection', 'Vehicle loan or lease', 'Debt collection', 'Checking or savings account', 'Mortgage', 'Vehicle loan or lease', 'Checking or savings account', 'Mortgage', 'Mortgage', 'Credit card or prepaid card', 'Debt collection', 'Debt collection', 'Debt collection', 'Debt collection', 'Vehicle loan or lease', 'Vehicle loan or lease', 'Debt collection', 'Credit card or prepaid card', 'Debt collection', 'Student loan', 'Credit card or prepaid card', 'Credit card or prepaid card', 'Student loan', 'Student loan', 'Debt collection', 'Credit card or prepaid card', 'Debt collection', 'Checking or savings account', 'Debt collection', 'Debt collection', 'Debt collection', 'Credit card or prepaid card', 'Debt collection', 'Mortgage', 'Mortgage', 'Debt collection', 'Debt collection', 'Mortgage', 'Debt collection', 'Credit card or prepaid card', 'Checking or savings account', 'Debt collection', 'Mortgage', 'Mortgage', 'Debt collection', 'Debt collection', 'Debt collection', 'Debt collection', 'Debt collection', 'Credit card or prepaid card', 'Debt collection', 'Credit card or prepaid card', 'Debt collection', 'Mortgage', 'Debt collection', 'Checking or savings account', 'Debt collection', 'Credit card or prepaid card', 'Mortgage', 'Mortgage', 'Mortgage', 'Debt collection', 'Checking or savings account', 'Debt collection', 'Debt collection', 'Mortgage', 'Checking or savings account', 'Debt collection', 'Debt collection', 'Debt collection', 'Checking or savings account', 'Debt collection', 'Checking or savings account', 'Debt collection', 'Debt collection', 'Debt collection', 'Vehicle loan or lease', 'Mortgage', 'Debt collection', 'Credit card or prepaid card', 'Checking or savings account', 'Debt collection', 'Mortgage', 'Debt collection', 'Debt collection', 'Credit card or prepaid card', 'Debt collection', 'Credit card or prepaid card', 'Checking or savings account', 'Debt collection', 'Credit card or prepaid card', 'Debt collection', 'Debt collection', 'Debt collection', 'Debt collection', 'Mortgage', 'Mortgage', 'Checking or savings account', 'Debt collection', 'Debt collection', 'Debt collection', 'Debt collection', 'Checking or savings account', 'Credit card or prepaid card', 'Debt collection', 'Debt collection', 'Debt collection', 'Checking or savings account', 'Mortgage', 'Debt collection', 'Debt collection', 'Credit card or prepaid card', 'Checking or savings account', 'Debt collection']\n"
          ]
        }
      ],
      "source": [
        "# Print the product groups in the dataset\n",
        "print(list(mydata_train.Product))"
      ]
    },
    {
      "cell_type": "code",
      "execution_count": null,
      "metadata": {
        "id": "JvQb2r0aDR_J",
        "colab": {
          "base_uri": "https://localhost:8080/"
        },
        "outputId": "311b2ff9-a276-4edd-8e56-7a5136e61460"
      },
      "outputs": [
        {
          "output_type": "stream",
          "name": "stdout",
          "text": [
            "<class 'pandas.core.frame.DataFrame'>\n"
          ]
        }
      ],
      "source": [
        "# What is the type of 'mydata_train'\n",
        "print(type(mydata_train))"
      ]
    },
    {
      "cell_type": "code",
      "execution_count": null,
      "metadata": {
        "id": "ozzwyREhDaMK",
        "colab": {
          "base_uri": "https://localhost:8080/"
        },
        "outputId": "410a7ea2-bb2f-4ef0-a92c-4a4eb2808504"
      },
      "outputs": [
        {
          "output_type": "stream",
          "name": "stdout",
          "text": [
            "5000\n",
            "5000\n"
          ]
        }
      ],
      "source": [
        "# Check the length of the data\n",
        "print(len(mydata_train.Product))\n",
        "print(len(mydata_train.Consumer_complaint_narrative))\n"
      ]
    },
    {
      "cell_type": "markdown",
      "metadata": {
        "id": "BlipMuEpDz-K"
      },
      "source": [
        "### Expected Output: \n",
        "5000\n",
        "\n",
        "5000\n"
      ]
    },
    {
      "cell_type": "markdown",
      "metadata": {
        "id": "55FKOBBuEDI2"
      },
      "source": [
        "## Extracting Features from the Dataset                        (20 Points)"
      ]
    },
    {
      "cell_type": "markdown",
      "metadata": {
        "id": "u4GDENzmEEkG"
      },
      "source": [
        "In order to perform machine learning on text documents, we first need to turn the text content into numerical feature vectors."
      ]
    },
    {
      "cell_type": "markdown",
      "metadata": {
        "id": "OgxfDXmxEHid"
      },
      "source": [
        "### TF-IDF Vectorization"
      ]
    },
    {
      "cell_type": "markdown",
      "metadata": {
        "id": "Q8qNFFYyEKsa"
      },
      "source": [
        "Our model cannot simply read the text data so we convert it into numerical format. In order to convert the data into numerical format we create vectors from text.\n",
        "\n",
        "For this particular purpose we could either employ Bag of Words or TF-IDF Vectorization\n",
        "\n",
        "Bag of Words just creates a set of vectors containing the count of word occurrences in the document (reviews), while the TF-IDF model contains information on the more important words and the less important ones as well.\n",
        "\n",
        "TF-IDF stands for Term Frequency-Inverse Document Frequency, which instead of giving more weight to words that occur more frequently, it gives a higher weight to words that occur less frequently.\n",
        "\n",
        "Ref: 6.5 TF-IDF: Weighing terms in the vector section of Dan Jurafsky book\n",
        "https://web.stanford.edu/~jurafsky/slp3/6.pdf"
      ]
    },
    {
      "cell_type": "markdown",
      "metadata": {
        "id": "dLzgRJRZEP3k"
      },
      "source": [
        "TF-IDF = Term Frequency (TF) * Inverse Document Frequency (IDF)"
      ]
    },
    {
      "cell_type": "markdown",
      "metadata": {
        "id": "xe5lHi3NE1QJ"
      },
      "source": [
        "Term Frequency is the measure of the frequency of words in a document. It is the ratio of the number of times the word appears in a document compared to the total number of words in that document.\n",
        "\n",
        "The words that occur rarely in the corpus have a high IDF score. It is the log of the ratio of the number of documents to the number of documents containing the word."
      ]
    },
    {
      "cell_type": "markdown",
      "metadata": {
        "id": "HXotAER_EQ8T"
      },
      "source": [
        "idf(t) = log(N/(df + 1))"
      ]
    },
    {
      "cell_type": "code",
      "execution_count": null,
      "metadata": {
        "id": "2vzVI8ylFAEl"
      },
      "outputs": [],
      "source": [
        "text = mydata_train.Consumer_complaint_narrative\n"
      ]
    },
    {
      "cell_type": "code",
      "source": [
        "mydata_train"
      ],
      "metadata": {
        "colab": {
          "base_uri": "https://localhost:8080/",
          "height": 424
        },
        "id": "YdKE3iujFusw",
        "outputId": "b8fd0ba9-be0a-40aa-816c-0e7b5bb3e371"
      },
      "execution_count": null,
      "outputs": [
        {
          "output_type": "execute_result",
          "data": {
            "text/plain": [
              "                          Product  \\\n",
              "0     Credit card or prepaid card   \n",
              "1                        Mortgage   \n",
              "2                 Debt collection   \n",
              "3                 Debt collection   \n",
              "4     Credit card or prepaid card   \n",
              "...                           ...   \n",
              "4995              Debt collection   \n",
              "4996              Debt collection   \n",
              "4997  Credit card or prepaid card   \n",
              "4998  Checking or savings account   \n",
              "4999              Debt collection   \n",
              "\n",
              "                           Consumer_complaint_narrative  \n",
              "0     I lost my credit card ( a Chase Sapphire Reser...  \n",
              "1     Having problems finding out LTV from mortgage ...  \n",
              "2     I am a victim of identity theft and this debt ...  \n",
              "3     Yesterday evening I spoke to a rep in regards ...  \n",
              "4     I opened a prepaid bank account with REVOLUT i...  \n",
              "...                                                 ...  \n",
              "4995  In XX/XX/XXXX, I received a collection letter ...  \n",
              "4996  debt incurred with this vehicle is not mine, a...  \n",
              "4997  i made was in line at home depot on XXXX in XX...  \n",
              "4998  I opened a Bank of America bank account of XX/...  \n",
              "4999  In the beginning of XXXX I ordered my credit r...  \n",
              "\n",
              "[5000 rows x 2 columns]"
            ],
            "text/html": [
              "\n",
              "  <div id=\"df-faffdc00-94ea-4e13-a5c2-05d6dc50f6b6\">\n",
              "    <div class=\"colab-df-container\">\n",
              "      <div>\n",
              "<style scoped>\n",
              "    .dataframe tbody tr th:only-of-type {\n",
              "        vertical-align: middle;\n",
              "    }\n",
              "\n",
              "    .dataframe tbody tr th {\n",
              "        vertical-align: top;\n",
              "    }\n",
              "\n",
              "    .dataframe thead th {\n",
              "        text-align: right;\n",
              "    }\n",
              "</style>\n",
              "<table border=\"1\" class=\"dataframe\">\n",
              "  <thead>\n",
              "    <tr style=\"text-align: right;\">\n",
              "      <th></th>\n",
              "      <th>Product</th>\n",
              "      <th>Consumer_complaint_narrative</th>\n",
              "    </tr>\n",
              "  </thead>\n",
              "  <tbody>\n",
              "    <tr>\n",
              "      <th>0</th>\n",
              "      <td>Credit card or prepaid card</td>\n",
              "      <td>I lost my credit card ( a Chase Sapphire Reser...</td>\n",
              "    </tr>\n",
              "    <tr>\n",
              "      <th>1</th>\n",
              "      <td>Mortgage</td>\n",
              "      <td>Having problems finding out LTV from mortgage ...</td>\n",
              "    </tr>\n",
              "    <tr>\n",
              "      <th>2</th>\n",
              "      <td>Debt collection</td>\n",
              "      <td>I am a victim of identity theft and this debt ...</td>\n",
              "    </tr>\n",
              "    <tr>\n",
              "      <th>3</th>\n",
              "      <td>Debt collection</td>\n",
              "      <td>Yesterday evening I spoke to a rep in regards ...</td>\n",
              "    </tr>\n",
              "    <tr>\n",
              "      <th>4</th>\n",
              "      <td>Credit card or prepaid card</td>\n",
              "      <td>I opened a prepaid bank account with REVOLUT i...</td>\n",
              "    </tr>\n",
              "    <tr>\n",
              "      <th>...</th>\n",
              "      <td>...</td>\n",
              "      <td>...</td>\n",
              "    </tr>\n",
              "    <tr>\n",
              "      <th>4995</th>\n",
              "      <td>Debt collection</td>\n",
              "      <td>In XX/XX/XXXX, I received a collection letter ...</td>\n",
              "    </tr>\n",
              "    <tr>\n",
              "      <th>4996</th>\n",
              "      <td>Debt collection</td>\n",
              "      <td>debt incurred with this vehicle is not mine, a...</td>\n",
              "    </tr>\n",
              "    <tr>\n",
              "      <th>4997</th>\n",
              "      <td>Credit card or prepaid card</td>\n",
              "      <td>i made was in line at home depot on XXXX in XX...</td>\n",
              "    </tr>\n",
              "    <tr>\n",
              "      <th>4998</th>\n",
              "      <td>Checking or savings account</td>\n",
              "      <td>I opened a Bank of America bank account of XX/...</td>\n",
              "    </tr>\n",
              "    <tr>\n",
              "      <th>4999</th>\n",
              "      <td>Debt collection</td>\n",
              "      <td>In the beginning of XXXX I ordered my credit r...</td>\n",
              "    </tr>\n",
              "  </tbody>\n",
              "</table>\n",
              "<p>5000 rows × 2 columns</p>\n",
              "</div>\n",
              "      <button class=\"colab-df-convert\" onclick=\"convertToInteractive('df-faffdc00-94ea-4e13-a5c2-05d6dc50f6b6')\"\n",
              "              title=\"Convert this dataframe to an interactive table.\"\n",
              "              style=\"display:none;\">\n",
              "        \n",
              "  <svg xmlns=\"http://www.w3.org/2000/svg\" height=\"24px\"viewBox=\"0 0 24 24\"\n",
              "       width=\"24px\">\n",
              "    <path d=\"M0 0h24v24H0V0z\" fill=\"none\"/>\n",
              "    <path d=\"M18.56 5.44l.94 2.06.94-2.06 2.06-.94-2.06-.94-.94-2.06-.94 2.06-2.06.94zm-11 1L8.5 8.5l.94-2.06 2.06-.94-2.06-.94L8.5 2.5l-.94 2.06-2.06.94zm10 10l.94 2.06.94-2.06 2.06-.94-2.06-.94-.94-2.06-.94 2.06-2.06.94z\"/><path d=\"M17.41 7.96l-1.37-1.37c-.4-.4-.92-.59-1.43-.59-.52 0-1.04.2-1.43.59L10.3 9.45l-7.72 7.72c-.78.78-.78 2.05 0 2.83L4 21.41c.39.39.9.59 1.41.59.51 0 1.02-.2 1.41-.59l7.78-7.78 2.81-2.81c.8-.78.8-2.07 0-2.86zM5.41 20L4 18.59l7.72-7.72 1.47 1.35L5.41 20z\"/>\n",
              "  </svg>\n",
              "      </button>\n",
              "      \n",
              "  <style>\n",
              "    .colab-df-container {\n",
              "      display:flex;\n",
              "      flex-wrap:wrap;\n",
              "      gap: 12px;\n",
              "    }\n",
              "\n",
              "    .colab-df-convert {\n",
              "      background-color: #E8F0FE;\n",
              "      border: none;\n",
              "      border-radius: 50%;\n",
              "      cursor: pointer;\n",
              "      display: none;\n",
              "      fill: #1967D2;\n",
              "      height: 32px;\n",
              "      padding: 0 0 0 0;\n",
              "      width: 32px;\n",
              "    }\n",
              "\n",
              "    .colab-df-convert:hover {\n",
              "      background-color: #E2EBFA;\n",
              "      box-shadow: 0px 1px 2px rgba(60, 64, 67, 0.3), 0px 1px 3px 1px rgba(60, 64, 67, 0.15);\n",
              "      fill: #174EA6;\n",
              "    }\n",
              "\n",
              "    [theme=dark] .colab-df-convert {\n",
              "      background-color: #3B4455;\n",
              "      fill: #D2E3FC;\n",
              "    }\n",
              "\n",
              "    [theme=dark] .colab-df-convert:hover {\n",
              "      background-color: #434B5C;\n",
              "      box-shadow: 0px 1px 3px 1px rgba(0, 0, 0, 0.15);\n",
              "      filter: drop-shadow(0px 1px 2px rgba(0, 0, 0, 0.3));\n",
              "      fill: #FFFFFF;\n",
              "    }\n",
              "  </style>\n",
              "\n",
              "      <script>\n",
              "        const buttonEl =\n",
              "          document.querySelector('#df-faffdc00-94ea-4e13-a5c2-05d6dc50f6b6 button.colab-df-convert');\n",
              "        buttonEl.style.display =\n",
              "          google.colab.kernel.accessAllowed ? 'block' : 'none';\n",
              "\n",
              "        async function convertToInteractive(key) {\n",
              "          const element = document.querySelector('#df-faffdc00-94ea-4e13-a5c2-05d6dc50f6b6');\n",
              "          const dataTable =\n",
              "            await google.colab.kernel.invokeFunction('convertToInteractive',\n",
              "                                                     [key], {});\n",
              "          if (!dataTable) return;\n",
              "\n",
              "          const docLinkHtml = 'Like what you see? Visit the ' +\n",
              "            '<a target=\"_blank\" href=https://colab.research.google.com/notebooks/data_table.ipynb>data table notebook</a>'\n",
              "            + ' to learn more about interactive tables.';\n",
              "          element.innerHTML = '';\n",
              "          dataTable['output_type'] = 'display_data';\n",
              "          await google.colab.output.renderOutput(dataTable, element);\n",
              "          const docLink = document.createElement('div');\n",
              "          docLink.innerHTML = docLinkHtml;\n",
              "          element.appendChild(docLink);\n",
              "        }\n",
              "      </script>\n",
              "    </div>\n",
              "  </div>\n",
              "  "
            ]
          },
          "metadata": {},
          "execution_count": 7
        }
      ]
    },
    {
      "cell_type": "code",
      "source": [
        "text"
      ],
      "metadata": {
        "colab": {
          "base_uri": "https://localhost:8080/"
        },
        "id": "Q_NKzU24F0cJ",
        "outputId": "4db23233-6148-4fc6-d72d-221594459c27"
      },
      "execution_count": null,
      "outputs": [
        {
          "output_type": "execute_result",
          "data": {
            "text/plain": [
              "0       I lost my credit card ( a Chase Sapphire Reser...\n",
              "1       Having problems finding out LTV from mortgage ...\n",
              "2       I am a victim of identity theft and this debt ...\n",
              "3       Yesterday evening I spoke to a rep in regards ...\n",
              "4       I opened a prepaid bank account with REVOLUT i...\n",
              "                              ...                        \n",
              "4995    In XX/XX/XXXX, I received a collection letter ...\n",
              "4996    debt incurred with this vehicle is not mine, a...\n",
              "4997    i made was in line at home depot on XXXX in XX...\n",
              "4998    I opened a Bank of America bank account of XX/...\n",
              "4999    In the beginning of XXXX I ordered my credit r...\n",
              "Name: Consumer_complaint_narrative, Length: 5000, dtype: object"
            ]
          },
          "metadata": {},
          "execution_count": 8
        }
      ]
    },
    {
      "cell_type": "code",
      "source": [
        "def clean_review(review):\n",
        "    '''\n",
        "    This function takes a review and eliminates unnecessary characters \n",
        "    from the review in the following order:\n",
        "    1. Links\n",
        "    2. Punctuations\n",
        "    3. Case sensitive words\n",
        "    4. Stopwords\n",
        "    5. Stemming\n",
        "    \n",
        "    Input:\n",
        "        review: a string containing a review.\n",
        "    Output:\n",
        "        review_cleaned: a processed review. \n",
        "\n",
        "    '''\n",
        "    \n",
        "  \n",
        "    review = re.sub(r'http\\S+', '', review)\n",
        "    review = re.sub(r'www.\\S+', '', review)\n",
        "   \n",
        "    review = review.translate(str.maketrans('', '', string.punctuation))\n",
        "   \n",
        "    review = review.lower()\n",
        "  \n",
        "    stopword = nltk.corpus.stopwords.words('english')\n",
        "    review = \" \".join([word for word in re.split('\\W+', review) if word not in stopword])\n",
        "   \n",
        "    wn = nltk.WordNetLemmatizer()\n",
        "    ps = nltk.PorterStemmer()\n",
        "    review_cleaned = \" \".join([ps.stem(word) for word in re.split('\\W+', review)])\n",
        "    review_cleaned = review_cleaned.split()\n",
        "    \n",
        "    return review_cleaned"
      ],
      "metadata": {
        "id": "6LBD6QfchEZK"
      },
      "execution_count": null,
      "outputs": []
    },
    {
      "cell_type": "code",
      "source": [],
      "metadata": {
        "id": "uadvoeldhEn-"
      },
      "execution_count": null,
      "outputs": []
    },
    {
      "cell_type": "markdown",
      "metadata": {
        "id": "HZ2AatmvFtE-"
      },
      "source": [
        "## Preprocessing the Corpus"
      ]
    },
    {
      "cell_type": "code",
      "execution_count": null,
      "metadata": {
        "id": "XyJbe42AFuHp"
      },
      "outputs": [],
      "source": [
        "lines = []\n",
        "\n",
        "for line in text:\n",
        "    #tokenize the text documents and update the lists word_list and lines\n",
        "    cleaned_list = clean_review(line)\n",
        "    lines.append(cleaned_list)\n",
        "\n",
        "# Calculate the total documents present in the corpus\n",
        "total_docs = len(text)\n",
        "\n",
        "# Flattening the 2D list\n",
        "# Possible other implem\n",
        "flattened_lines = list(chain.from_iterable(lines))\n",
        "\n",
        "# Make sure the word_list contains unique tokens\n",
        "word_list = list(set(flattened_lines))\n",
        "\n",
        "# Create a dictionary to keep track of index of each word\n",
        "dict_idx = {}\n",
        "for num, word in enumerate(word_list):\n",
        "    dict_idx[word] = num"
      ]
    },
    {
      "cell_type": "code",
      "source": [
        "len(lines)"
      ],
      "metadata": {
        "colab": {
          "base_uri": "https://localhost:8080/"
        },
        "id": "NAyiwu0Ek5az",
        "outputId": "ad0fd472-4403-43f7-b40c-777f5bd2731e"
      },
      "execution_count": null,
      "outputs": [
        {
          "output_type": "execute_result",
          "data": {
            "text/plain": [
              "5000"
            ]
          },
          "metadata": {},
          "execution_count": 11
        }
      ]
    },
    {
      "cell_type": "code",
      "execution_count": null,
      "metadata": {
        "id": "E6M_CoI9FxYb"
      },
      "outputs": [],
      "source": [
        "# Create a frequency dictionary\n",
        " \n",
        "def frequency_dict(lines):\n",
        "    '''\n",
        "    lines: list containing all the tokens\n",
        "    ---\n",
        "    freq_word: returns a dictionary which keeps the count of the number of documents containing the given word\n",
        "    '''\n",
        "    freq_word = {}\n",
        "    for word in flattened_lines:\n",
        "        try:\n",
        "            freq_word[word] += 1\n",
        "        except KeyError:\n",
        "            freq_word[word] = 1\n",
        "    \n",
        "    return freq_word"
      ]
    },
    {
      "cell_type": "code",
      "execution_count": null,
      "metadata": {
        "id": "qFkt9KBgFz43",
        "colab": {
          "base_uri": "https://localhost:8080/"
        },
        "outputId": "80b3ecc5-e4a7-46e0-b26d-1d66e681fa21"
      },
      "outputs": [
        {
          "output_type": "execute_result",
          "data": {
            "text/plain": [
              "11697"
            ]
          },
          "metadata": {},
          "execution_count": 13
        }
      ],
      "source": [
        "# Create a dictionary containing the frequency of words utilizing the 'frequency_dict' function\n",
        "\n",
        "\n",
        "\n",
        "freq_word = frequency_dict(lines)\n",
        "\n",
        "len(freq_word)"
      ]
    },
    {
      "cell_type": "code",
      "execution_count": null,
      "metadata": {
        "id": "vLvPijR_GKHn"
      },
      "outputs": [],
      "source": [
        "# Create a function to calculate the Term Frequency\n",
        "\n",
        "def term_frequency(document, word):\n",
        "    '''\n",
        "    document: list containing the entire corpus\n",
        "    word: word whose term frequency is to be calculated\n",
        "    ---\n",
        "    tf: returns term frequency value\n",
        "    '''\n",
        "    total_terms = len(document)\n",
        "    term_freq_in_document =len([token for token in document if token == word]) #document.count(word)\n",
        "    \n",
        "    tf = term_freq_in_document / total_terms\n",
        "    \n",
        "    return tf"
      ]
    },
    {
      "cell_type": "code",
      "execution_count": null,
      "metadata": {
        "id": "HA99G_yAGLCC"
      },
      "outputs": [],
      "source": [
        "# Create a function to calculate the Inverse Document Frequency\n",
        "import math\n",
        "def inverse_df(word):\n",
        "    '''\n",
        "    word: word whose inverse document frequency is to be calculated\n",
        "    ---\n",
        "    idf: return inverse document frequency value\n",
        "    '''\n",
        "\n",
        "    idf = math.log(len(lines)/freq_word[word]+1)\n",
        "    \n",
        "    return idf"
      ]
    },
    {
      "cell_type": "code",
      "execution_count": null,
      "metadata": {
        "id": "F0irgwv2GRfE"
      },
      "outputs": [],
      "source": [
        "#Create a function to combine the term frequencies (TF) and inverse document (IDF) frequencies calculated above to get TF-IDF\n",
        "\n",
        "def tfidf(sentence,dict_idx):\n",
        "    '''\n",
        "    sentence: list containing the entire corpus\n",
        "    dict: dictionary keeping track of index of each word\n",
        "    ---\n",
        "    tf_idf_vec: returns computed tf-idf\n",
        "    '''\n",
        "    tf_idf_vec = np.zeros((len(dict_idx),))\n",
        "    for word in sentence:\n",
        "        tf = term_frequency(sentence, word)\n",
        "        idf = inverse_df(word)\n",
        "        tf_idf = tf * idf\n",
        "        tf_idf_vec[dict_idx[word]] = tf_idf \n",
        "    return tf_idf_vec"
      ]
    },
    {
      "cell_type": "code",
      "execution_count": null,
      "metadata": {
        "id": "_VKJhqatGWpV",
        "colab": {
          "base_uri": "https://localhost:8080/"
        },
        "outputId": "3dd444dd-daee-4349-8844-6524b8cbadc2"
      },
      "outputs": [
        {
          "output_type": "execute_result",
          "data": {
            "text/plain": [
              "5000"
            ]
          },
          "metadata": {},
          "execution_count": 17
        }
      ],
      "source": [
        "#Compute the vectors utilizing the 'tfidf' function created above to obtain a TF-IDF Encoded text corpus\n",
        "tf_idf_table = []\n",
        "\n",
        "for i in lines:\n",
        "    tf_idf_table.append(tfidf(i, dict_idx))\n",
        "\n",
        "len(tf_idf_table)"
      ]
    },
    {
      "cell_type": "markdown",
      "metadata": {
        "id": "LE0UGUaSGb8I"
      },
      "source": [
        "## Multinomial Naive Bayes (10 Points)"
      ]
    },
    {
      "cell_type": "code",
      "source": [
        "mydata_train['Product']"
      ],
      "metadata": {
        "colab": {
          "base_uri": "https://localhost:8080/"
        },
        "id": "Cn1eLh3D5Ar6",
        "outputId": "d988549a-c522-4cf6-ca4d-6044a4c0f926"
      },
      "execution_count": null,
      "outputs": [
        {
          "output_type": "execute_result",
          "data": {
            "text/plain": [
              "0       Credit card or prepaid card\n",
              "1                          Mortgage\n",
              "2                   Debt collection\n",
              "3                   Debt collection\n",
              "4       Credit card or prepaid card\n",
              "                   ...             \n",
              "4995                Debt collection\n",
              "4996                Debt collection\n",
              "4997    Credit card or prepaid card\n",
              "4998    Checking or savings account\n",
              "4999                Debt collection\n",
              "Name: Product, Length: 5000, dtype: object"
            ]
          },
          "metadata": {},
          "execution_count": 18
        }
      ]
    },
    {
      "cell_type": "code",
      "source": [
        "# Importing LabelEncoder from Sklearn\n",
        "# library from preprocessing Module.\n",
        "from sklearn.preprocessing import LabelEncoder\n",
        " \n",
        "# Creating a instance of label Encoder.\n",
        "le = LabelEncoder()\n",
        " \n",
        "# Using .fit_transform function to fit label\n",
        "# encoder and return encoded label\n",
        "label = le.fit_transform(mydata_train['Product'])\n",
        "label"
      ],
      "metadata": {
        "colab": {
          "base_uri": "https://localhost:8080/"
        },
        "id": "wGLxsppDJxmq",
        "outputId": "cdbdf0ef-c414-4447-d8da-9b580b2d6fda"
      },
      "execution_count": null,
      "outputs": [
        {
          "output_type": "execute_result",
          "data": {
            "text/plain": [
              "array([1, 3, 2, ..., 1, 0, 2])"
            ]
          },
          "metadata": {},
          "execution_count": 19
        }
      ]
    },
    {
      "cell_type": "code",
      "source": [
        "minMaxScaler = preprocessing.MinMaxScaler()\n",
        "minMaxScaler.fit(tf_idf_table)\n",
        "X_train = minMaxScaler.transform(tf_idf_table)"
      ],
      "metadata": {
        "id": "6DWqtFbnbyHi"
      },
      "execution_count": null,
      "outputs": []
    },
    {
      "cell_type": "code",
      "source": [
        "#X_train = tf_idf_table\n",
        "y_train = label\n"
      ],
      "metadata": {
        "id": "28T2CJKcZHHl"
      },
      "execution_count": null,
      "outputs": []
    },
    {
      "cell_type": "code",
      "source": [
        "y_train"
      ],
      "metadata": {
        "colab": {
          "base_uri": "https://localhost:8080/"
        },
        "id": "fIJw65boblDi",
        "outputId": "c48801d6-6d08-43a6-8683-e4fffa0ea0ad"
      },
      "execution_count": null,
      "outputs": [
        {
          "output_type": "execute_result",
          "data": {
            "text/plain": [
              "array([1, 3, 2, ..., 1, 0, 2])"
            ]
          },
          "metadata": {},
          "execution_count": 22
        }
      ]
    },
    {
      "cell_type": "code",
      "execution_count": null,
      "metadata": {
        "id": "yWYcxrdJGfDC"
      },
      "outputs": [],
      "source": [
        "#Fit a Multinomial Naive Bayes Model on our dataset\n",
        "from sklearn.naive_bayes import MultinomialNB\n",
        "\n",
        "model = MultinomialNB()\n",
        "model.fit(X_train, y_train)\n",
        "\n",
        "\n",
        "pred =  model.predict(X_train)\n"
      ]
    },
    {
      "cell_type": "markdown",
      "source": [
        "#Fit a Multinomial Naive Bayes Model on our dataset\n"
      ],
      "metadata": {
        "id": "CFRr4qHZ2mdb"
      }
    },
    {
      "cell_type": "code",
      "execution_count": null,
      "metadata": {
        "id": "G6CiQB4qGfqH"
      },
      "outputs": [],
      "source": [
        "#Perform testing on the train dataset\n",
        "\n",
        "pred =  model.predict(X_train)"
      ]
    },
    {
      "cell_type": "code",
      "execution_count": null,
      "metadata": {
        "id": "yCLagGu6Gh6T",
        "colab": {
          "base_uri": "https://localhost:8080/"
        },
        "outputId": "7b6bb219-7cfd-4a89-fa21-0dc4b5324182"
      },
      "outputs": [
        {
          "output_type": "stream",
          "name": "stdout",
          "text": [
            "F1 Score:  0.8755999999999999\n",
            "Accuracy:  0.8756\n"
          ]
        }
      ],
      "source": [
        "#Calculate the F1 Score and the Accuracy\n",
        "\n",
        "from sklearn.metrics import accuracy_score, f1_score\n",
        "F1_score = f1_score(y_train, pred, average='micro')\n",
        "Accuracy = accuracy_score(y_train, pred)\n",
        "print(\"F1 Score: \", F1_score)\n",
        "print(\"Accuracy: \", Accuracy)"
      ]
    },
    {
      "cell_type": "markdown",
      "metadata": {
        "id": "bbMRqJv5Gl2F"
      },
      "source": [
        "### Expected Output:\n",
        "F1 Score: 0.8081311697005633\n",
        "\n",
        "Accuracy: 0.826"
      ]
    },
    {
      "cell_type": "markdown",
      "metadata": {
        "id": "AWRDuUqU-taV"
      },
      "source": [
        "Your accuracy does not have to be exactly the same. This is just to give you an estimate of what could you expect your accuracy to be around."
      ]
    },
    {
      "cell_type": "markdown",
      "metadata": {
        "id": "UfMc8cz93Cc0"
      },
      "source": [
        "## Question 2 Vector Visualization"
      ]
    },
    {
      "cell_type": "markdown",
      "metadata": {
        "id": "70iwEeL23F7K"
      },
      "source": [
        "In this unsupervised learning task we are going to cluster wikipedia articles into groups using T-SNE visualization after vectorization."
      ]
    },
    {
      "cell_type": "markdown",
      "metadata": {
        "id": "UHx4YuxW36oM"
      },
      "source": [
        "### Collect articles from Wikipedia (10 points)\n",
        "\n",
        "In this section we will download articles from wikipedia and then vectorize them in the next step. You can select somewhat related topics or fetch the articles randomly. \n",
        "(Use dir() and help() functions or refer wikipedia documentation)\n",
        "You may also pick any other data source of your choice instead of wikipedia."
      ]
    },
    {
      "cell_type": "code",
      "execution_count": null,
      "metadata": {
        "id": "jA419x6__mjg",
        "colab": {
          "base_uri": "https://localhost:8080/"
        },
        "outputId": "d4a84fb6-ee42-472f-a9e0-7710b6afe29e"
      },
      "outputs": [
        {
          "output_type": "stream",
          "name": "stdout",
          "text": [
            "Looking in indexes: https://pypi.org/simple, https://us-python.pkg.dev/colab-wheels/public/simple/\n",
            "Requirement already satisfied: wikipedia in /usr/local/lib/python3.7/dist-packages (1.4.0)\n",
            "Requirement already satisfied: beautifulsoup4 in /usr/local/lib/python3.7/dist-packages (from wikipedia) (4.6.3)\n",
            "Requirement already satisfied: requests<3.0.0,>=2.0.0 in /usr/local/lib/python3.7/dist-packages (from wikipedia) (2.23.0)\n",
            "Requirement already satisfied: idna<3,>=2.5 in /usr/local/lib/python3.7/dist-packages (from requests<3.0.0,>=2.0.0->wikipedia) (2.10)\n",
            "Requirement already satisfied: certifi>=2017.4.17 in /usr/local/lib/python3.7/dist-packages (from requests<3.0.0,>=2.0.0->wikipedia) (2022.9.24)\n",
            "Requirement already satisfied: chardet<4,>=3.0.2 in /usr/local/lib/python3.7/dist-packages (from requests<3.0.0,>=2.0.0->wikipedia) (3.0.4)\n",
            "Requirement already satisfied: urllib3!=1.25.0,!=1.25.1,<1.26,>=1.21.1 in /usr/local/lib/python3.7/dist-packages (from requests<3.0.0,>=2.0.0->wikipedia) (1.24.3)\n"
          ]
        }
      ],
      "source": [
        "#install libraries\n",
        "!pip install wikipedia"
      ]
    },
    {
      "cell_type": "code",
      "execution_count": null,
      "metadata": {
        "id": "vLMLk4K84Zbn"
      },
      "outputs": [],
      "source": [
        "import wikipedia\n",
        "from wikipedia.exceptions import WikipediaException\n",
        "\n",
        "'''\n",
        " Generate a list of wikipedia article to cluster \n",
        " You can maintain a static list of titles or generate them randomly using wikipedia library\n",
        " Some topics include:\n",
        " [\"Northeastern Unversity\", \"Natural language processing\", \"Machine learning\", \"Quantum machine learning\", \"Artificial intelligence\", \"Data science\", \"Master in Data Science\", \n",
        " \"Bank of America\", \"Visa Inc.\", \"European Central Bank\", \"Bank\", \"Financial technology\",\"International Monetary Fund\", \n",
        " \"Basketball\", \"Swimming\", \"Tennis\", \"Football\", \"College Football\", \"Association Football\"]\n",
        "\n",
        " You can add more topics from different categories so that we have a diverse dataset to work with. \n",
        " Ex- About 3+ categories(groups), 3+ topics in each category, 3+ articles in each topic\n",
        "'''\n",
        "\n",
        "# selected topics\n",
        "categories = {\n",
        "    \"Bank\": [\"European Central Bank\", \"Bank\", \"Financial technology\"],\n",
        "    \"Countries\": [\"Russia\",\"United States\",\"Ukraine\"],\n",
        "    \"sports\": [\"Swimming\", \"Tennis\", \"Football\"],\n",
        "    \"A.I\": [\"Natural language processing\", \"Machine learning\", \"Quantum machine learning\"]\n",
        "}\n",
        "\n",
        "topics = []\n",
        "for cat in categories:\n",
        "    topics.append([cat, categories[cat]])\n",
        "\n",
        "# selected topics\n",
        "#topics = [\"European Central Bank\", \"Bank\", \"Financial technology\",\"Swimming\", \"Tennis\", \"Football\", \"Russia\",\"United States\",\"kraine\"]\n",
        "\n",
        "# list of articles to be downloaded\n",
        "articles = []\n",
        "for i in topics:\n",
        "  articles.append(wikipedia.search(i)[:8])\n",
        "#customer_data[1].remove(customer_data[1][2])\n",
        "\n"
      ]
    },
    {
      "cell_type": "code",
      "source": [],
      "metadata": {
        "id": "Bv1hNAdyklTu"
      },
      "execution_count": null,
      "outputs": []
    },
    {
      "cell_type": "code",
      "source": [
        "# download and store articles (summaries) in this variable\n",
        "data = []\n",
        "counter = []\n",
        "count = 0\n",
        "for article in articles:\n",
        "    for i in article:\n",
        "      try:\n",
        "        data.append(wikipedia.summary(i))\n",
        "        counter.append(count)\n",
        "      except WikipediaException:\n",
        "        continue\n",
        "     \n",
        "    count += 1\n",
        "print(counter)"
      ],
      "metadata": {
        "colab": {
          "base_uri": "https://localhost:8080/"
        },
        "id": "lC83Wf99Jzm-",
        "outputId": "d60914fb-d641-4902-8a6e-8c13184bbb4e"
      },
      "execution_count": null,
      "outputs": [
        {
          "output_type": "stream",
          "name": "stderr",
          "text": [
            "/usr/local/lib/python3.7/dist-packages/wikipedia/wikipedia.py:389: UserWarning: No parser was explicitly specified, so I'm using the best available HTML parser for this system (\"lxml\"). This usually isn't a problem, but if you run this code on another system, or in a different virtual environment, it may use a different parser and behave differently.\n",
            "\n",
            "The code that caused this warning is on line 389 of the file /usr/local/lib/python3.7/dist-packages/wikipedia/wikipedia.py. To get rid of this warning, pass the additional argument 'features=\"lxml\"' to the BeautifulSoup constructor.\n",
            "\n",
            "  lis = BeautifulSoup(html).find_all('li')\n"
          ]
        },
        {
          "output_type": "stream",
          "name": "stdout",
          "text": [
            "[0, 0, 0, 0, 0, 0, 0, 0, 1, 1, 1, 1, 1, 1, 2, 2, 2, 2, 2, 2, 2, 2, 3, 3, 3, 3, 3, 3, 3, 3]\n"
          ]
        }
      ]
    },
    {
      "cell_type": "markdown",
      "metadata": {
        "id": "IgpRv7wQ4Dpm"
      },
      "source": [
        "### Cleaning the Data (5 points)\n",
        "In this step you will decide whether to clean the data or not. If you choose to clean, you may utilize the clean function from assignment 1.\n",
        "\n",
        "**Question:** Why are you (not) choosing to clean the data? Think in terms of whether cleaning data will help in the clustering or not."
      ]
    },
    {
      "cell_type": "markdown",
      "metadata": {
        "id": "PnZpDKcaHTGq"
      },
      "source": [
        "**Answer(1-3 sentences):** As the data is raw text format we are choosing to clean data.By cleaning data we are getting better clustering of topics as it makes grouping easy for tsne technique."
      ]
    },
    {
      "cell_type": "code",
      "execution_count": null,
      "metadata": {
        "id": "lNj53Pxr963N",
        "colab": {
          "base_uri": "https://localhost:8080/"
        },
        "outputId": "cc802ae6-a103-4ba6-dfa0-6f38d055c923"
      },
      "outputs": [
        {
          "output_type": "stream",
          "name": "stderr",
          "text": [
            "[nltk_data] Downloading package punkt to /root/nltk_data...\n",
            "[nltk_data]   Package punkt is already up-to-date!\n",
            "[nltk_data] Downloading package stopwords to /root/nltk_data...\n",
            "[nltk_data]   Package stopwords is already up-to-date!\n",
            "[nltk_data] Downloading package wordnet to /root/nltk_data...\n",
            "[nltk_data]   Package wordnet is already up-to-date!\n",
            "[nltk_data] Downloading package omw-1.4 to /root/nltk_data...\n",
            "[nltk_data]   Package omw-1.4 is already up-to-date!\n"
          ]
        }
      ],
      "source": [
        "# You can use Assignment 1's clean message function\n",
        "\n",
        "import re\n",
        "import nltk\n",
        "import string\n",
        "nltk.download('punkt')\n",
        "nltk.download('stopwords')\n",
        "nltk.download('wordnet')\n",
        "from nltk.stem import WordNetLemmatizer\n",
        "lemmatizer = WordNetLemmatizer()\n",
        "from nltk.corpus import stopwords\n",
        "nltk.download('omw-1.4')\n",
        "\n",
        "def clean_message(message):\n",
        "    # first of all we will lower the text so that there is no discrepencay\n",
        "    lower_review = message.lower()\n",
        "    # removing the punctuation \n",
        "    lower_review_removed =\"\".join([temp for temp in lower_review if temp not in string.punctuation])\n",
        "    # splitting the cleaned\n",
        "    words_list = re.split(' ', lower_review_removed)\n",
        "    words = [lemmatizer.lemmatize(word) for word in words_list if word not in set(stopwords.words('english'))]\n",
        "    lower_review_removed_lem = ' '.join(words) \n",
        "\n",
        "    return lower_review_removed_lem\n",
        "\n"
      ]
    },
    {
      "cell_type": "code",
      "source": [
        "cleaned_data = []\n",
        "for i in data:\n",
        "    cleaned_data.append(clean_message(i))"
      ],
      "metadata": {
        "id": "cgABbwjPMRbz"
      },
      "execution_count": null,
      "outputs": []
    },
    {
      "cell_type": "markdown",
      "metadata": {
        "id": "bvRZUpmq-DmT"
      },
      "source": [
        "### Vectorize the articles (5 points)\n",
        "\n",
        "In this step, we will vectorize the text data. You can use TfidfVectorizer() or countVectorizer() from sklearn library."
      ]
    },
    {
      "cell_type": "code",
      "execution_count": null,
      "metadata": {
        "id": "gJk8YY89-OU4",
        "colab": {
          "base_uri": "https://localhost:8080/"
        },
        "outputId": "099ab168-933d-43c5-f90a-e94ddd8a6fcc"
      },
      "outputs": [
        {
          "output_type": "stream",
          "name": "stderr",
          "text": [
            "/usr/local/lib/python3.7/dist-packages/sklearn/utils/deprecation.py:87: FutureWarning: Function get_feature_names is deprecated; get_feature_names is deprecated in 1.0 and will be removed in 1.2. Please use get_feature_names_out instead.\n",
            "  warnings.warn(msg, category=FutureWarning)\n"
          ]
        }
      ],
      "source": [
        "from sklearn.feature_extraction.text import TfidfVectorizer,CountVectorizer\n",
        "import pandas as pd\n",
        "countvectorizer = CountVectorizer()\n",
        "tfidfvectorizer = TfidfVectorizer(analyzer='word',stop_words= 'english')\n",
        "count_wm = countvectorizer.fit_transform(cleaned_data)\n",
        "tfidf_wm = tfidfvectorizer.fit_transform(cleaned_data)\n",
        "count_tokens = countvectorizer.get_feature_names()\n",
        "tfidf_tokens = tfidfvectorizer.get_feature_names()\n",
        "df_countvect = pd.DataFrame(data = count_wm.toarray(), columns = count_tokens)\n",
        "df_tfidfvect = pd.DataFrame(data = tfidf_wm.toarray(), columns = tfidf_tokens)\n"
      ]
    },
    {
      "cell_type": "code",
      "execution_count": null,
      "metadata": {
        "id": "DAIGlqEuINWA",
        "colab": {
          "base_uri": "https://localhost:8080/"
        },
        "outputId": "9b173791-37c2-4950-a752-23893b844841"
      },
      "outputs": [
        {
          "output_type": "execute_result",
          "data": {
            "text/plain": [
              "((30, 1439), (30, 1523))"
            ]
          },
          "metadata": {},
          "execution_count": 32
        }
      ],
      "source": [
        "#print(X.shape)\n",
        "df_tfidfvect.shape, df_countvect.shape"
      ]
    },
    {
      "cell_type": "markdown",
      "metadata": {
        "id": "PKLvrKHRQaQq"
      },
      "source": [
        "### Sample Output:\n",
        "(36, 1552)"
      ]
    },
    {
      "cell_type": "markdown",
      "metadata": {
        "id": "M5ZrGrzD_G8d"
      },
      "source": [
        "### Plot Articles (10 points)\n",
        "Now we will try to verify the groups of articles using T-SNE from sklearn library."
      ]
    },
    {
      "cell_type": "code",
      "execution_count": null,
      "metadata": {
        "id": "SjcuZBOe-oZq",
        "colab": {
          "base_uri": "https://localhost:8080/"
        },
        "outputId": "8a6b13c3-7399-444f-f546-a80d45ecdac1"
      },
      "outputs": [
        {
          "output_type": "stream",
          "name": "stdout",
          "text": [
            "[t-SNE] Computing 29 nearest neighbors...\n",
            "[t-SNE] Indexed 30 samples in 0.000s...\n",
            "[t-SNE] Computed neighbors for 30 samples in 0.002s...\n",
            "[t-SNE] Computed conditional probabilities for sample 30 / 30\n",
            "[t-SNE] Mean sigma: 1125899906842624.000000\n",
            "[t-SNE] KL divergence after 250 iterations with early exaggeration: 44.382027\n",
            "[t-SNE] KL divergence after 300 iterations: 0.558270\n",
            "[[ -16.8748     -111.858406  ]\n",
            " [  26.75284    -122.51759   ]\n",
            " [ 121.22121     -29.560415  ]\n",
            " [  65.28616     -55.792255  ]\n",
            " [  17.968807    -61.985126  ]\n",
            " [ -21.891916    -69.67843   ]\n",
            " [   0.79922307  -22.212666  ]\n",
            " [ -81.1124      -43.268333  ]\n",
            " [ -27.198223     46.969353  ]\n",
            " [  42.639126    111.17477   ]\n",
            " [  59.362827    149.6509    ]\n",
            " [  58.802414     67.82025   ]\n",
            " [  45.83095      20.951735  ]\n",
            " [  30.050838   -179.04477   ]\n",
            " [  -2.8794165    90.53407   ]\n",
            " [ -46.36904     102.26781   ]\n",
            " [ -36.18632       4.4799457 ]\n",
            " [ -74.832436     18.934916  ]\n",
            " [  18.216934     56.072136  ]\n",
            " [ -73.0804       62.4949    ]\n",
            " [  81.086174    -22.294312  ]\n",
            " [  98.66241      53.680042  ]\n",
            " [  38.953705    -21.1577    ]\n",
            " [   6.0617957    16.829035  ]\n",
            " [-110.92103      -7.7577777 ]\n",
            " [-146.11263      99.78894   ]\n",
            " [  56.376774    -92.21613   ]\n",
            " [ -40.023888    -35.69166   ]\n",
            " [ -66.75193     -90.98516   ]\n",
            " [  88.293106     14.1575165 ]]\n"
          ]
        },
        {
          "output_type": "stream",
          "name": "stderr",
          "text": [
            "/usr/local/lib/python3.7/dist-packages/sklearn/manifold/_t_sne.py:783: FutureWarning: The default initialization in TSNE will change from 'random' to 'pca' in 1.2.\n",
            "  FutureWarning,\n",
            "/usr/local/lib/python3.7/dist-packages/sklearn/manifold/_t_sne.py:793: FutureWarning: The default learning rate in TSNE will change from 200.0 to 'auto' in 1.2.\n",
            "  FutureWarning,\n"
          ]
        }
      ],
      "source": [
        "from sklearn.manifold import TSNE\n",
        "\n",
        "# call TSNE() to fit the data\n",
        "tsne = TSNE(n_components=2, verbose=1, perplexity=40, n_iter=300)\n",
        "tsne_results = tsne.fit_transform(df_tfidfvect)\n",
        "\n",
        "print(tsne_results)\n"
      ]
    },
    {
      "cell_type": "markdown",
      "metadata": {
        "id": "iCY_blxjO1bs"
      },
      "source": [
        "Plot and annotate the points with different markers for different expected groups."
      ]
    },
    {
      "cell_type": "code",
      "execution_count": null,
      "metadata": {
        "colab": {
          "base_uri": "https://localhost:8080/",
          "height": 514
        },
        "id": "3ODUA1Vf-rRd",
        "outputId": "0d74507c-b487-4e06-d493-12e32547c3e7"
      },
      "outputs": [
        {
          "output_type": "execute_result",
          "data": {
            "text/plain": [
              "<matplotlib.axes._subplots.AxesSubplot at 0x7f59688a6890>"
            ]
          },
          "metadata": {},
          "execution_count": 34
        },
        {
          "output_type": "display_data",
          "data": {
            "text/plain": [
              "<Figure size 720x576 with 1 Axes>"
            ],
            "image/png": "[encoded data removed]"
          },
          "metadata": {
            "needs_background": "light"
          }
        }
      ],
      "source": [
        "import matplotlib.pyplot as plt\n",
        "import seaborn as sns\n",
        "# get a figure handle\n",
        "df_tfidfvect['tsne-2d-one'] = tsne_results[:,0]\n",
        "df_tfidfvect['tsne-2d-two'] = tsne_results[:,1]\n",
        "df_tfidfvect[\"y\"] = counter\n",
        "plt.subplots(figsize=(10,8))\n",
        "ax2 = plt.subplot(1, 2, 2)\n",
        "sns.scatterplot(\n",
        "    x=\"tsne-2d-one\", y=\"tsne-2d-two\",\n",
        "    hue=df_tfidfvect.y.tolist(),\n",
        "    palette=sns.color_palette(\"hls\", 4),\n",
        "    data=df_tfidfvect,\n",
        "    legend=\"full\",\n",
        "    alpha=0.6\n",
        ")\n"
      ]
    },
    {
      "cell_type": "markdown",
      "metadata": {
        "id": "dYcEi1EC_UGO"
      },
      "source": [
        "**Question:** Comment about the categorizion done by T-SNE. Do the articles of related topics cluster together? (5 points)"
      ]
    },
    {
      "cell_type": "markdown",
      "metadata": {
        "id": "tde1Wu5HI6AA"
      },
      "source": [
        "**Answer(1-3 sentences):** We can clearly see that there is good clustering of topics but the intra cluster relations are not very adhesive.This could be due to different topics being choosen in a category.There is a degree of randomness in our clustering.\n",
        "\n",
        "For example the category 3 points are well spread through out but they have small clusters present within that spread.\n",
        "  \n"
      ]
    },
    {
      "cell_type": "markdown",
      "metadata": {
        "id": "U2xrJddIpSsd"
      },
      "source": [
        "# Question 3. Building Multinomial Naive Bayes and Neural Networks on Countvectors\n",
        "\n",
        "### We are gonna use Disaster Tweets Datasset for this task. We need to Predict which Tweets are about real disasters and which ones are not.\n",
        "\n",
        "### We are providing data.csv file along with this notebook. "
      ]
    },
    {
      "cell_type": "markdown",
      "metadata": {
        "id": "NJYmVbkvphgX"
      },
      "source": [
        "### Library Imports and Utility functions"
      ]
    },
    {
      "cell_type": "code",
      "execution_count": null,
      "metadata": {
        "id": "BO-HU-7uorVX",
        "colab": {
          "base_uri": "https://localhost:8080/"
        },
        "outputId": "3e6507f3-5d67-4385-d397-ef8dc26436ac"
      },
      "outputs": [
        {
          "output_type": "stream",
          "name": "stderr",
          "text": [
            "[nltk_data] Downloading package stopwords to /root/nltk_data...\n",
            "[nltk_data]   Package stopwords is already up-to-date!\n",
            "[nltk_data] Downloading package wordnet to /root/nltk_data...\n",
            "[nltk_data]   Package wordnet is already up-to-date!\n",
            "[nltk_data] Downloading package words to /root/nltk_data...\n",
            "[nltk_data]   Package words is already up-to-date!\n",
            "[nltk_data] Downloading package omw-1.4 to /root/nltk_data...\n",
            "[nltk_data]   Package omw-1.4 is already up-to-date!\n"
          ]
        }
      ],
      "source": [
        "from sklearn.feature_extraction.text import CountVectorizer\n",
        "from sklearn.feature_extraction.text import TfidfVectorizer\n",
        "import nltk\n",
        "from nltk.corpus import stopwords\n",
        "from nltk.stem import PorterStemmer\n",
        "from nltk.tokenize import word_tokenize\n",
        "import string\n",
        "import pandas as pd\n",
        "import re\n",
        "#string.punctuation\n",
        "import nltk\n",
        "nltk.download('stopwords')\n",
        "nltk.download('wordnet')\n",
        "nltk.download('words')\n",
        "nltk.download('omw-1.4')\n",
        "\n",
        "stopword = nltk.corpus.stopwords.words('english')\n",
        "wn = nltk.WordNetLemmatizer()\n",
        "ps = nltk.PorterStemmer()\n",
        "words = set(nltk.corpus.words.words())\n",
        "\n",
        "\n",
        "def clean_text(text):\n",
        "  # From the last assignment\n",
        "    text = text.lower()\n",
        "    text = re.sub(r\"http\\S+\", \"\", text)\n",
        "    text = re.sub(r\"www.\\S+\", \"\", text)\n",
        "    text_links_removed = \"\".join([char for char in text if char not in string.punctuation])\n",
        "    text_cleaned = \" \".join([word for word in re.split('\\W+', text_links_removed)\n",
        "        if word not in stopword])\n",
        "    text = \" \".join([wn.lemmatize(word) for word in re.split('\\W+', text_cleaned)])\n",
        "    return text"
      ]
    },
    {
      "cell_type": "markdown",
      "metadata": {
        "id": "B0D5wVjZw7s0"
      },
      "source": [
        "### Q) Importing the datasets and do the necessary cleaning and convert the text into the vectors which are mentioned in the below code blocks. (10 points)"
      ]
    },
    {
      "cell_type": "code",
      "execution_count": null,
      "metadata": {
        "id": "MOMhmIlGprK9",
        "colab": {
          "base_uri": "https://localhost:8080/"
        },
        "outputId": "91db8d76-d08c-4471-b494-1653f27b6d64"
      },
      "outputs": [
        {
          "output_type": "execute_result",
          "data": {
            "text/plain": [
              "(7613, 2)"
            ]
          },
          "metadata": {},
          "execution_count": 36
        }
      ],
      "source": [
        "# Import the data.csv only use 'text' and 'target' columns\n",
        "data =pd.read_csv(\"data.csv\")\n",
        "data=data[[\"text\",\"target\"]]\n",
        "# data\n",
        "\n",
        "#data=pd.DataFrame(data)\n",
        "text=data.text\n",
        "target=data.target\n",
        "# and printout the train.shape and validation.shape \n",
        "\n",
        "# expected shape of dataset is (7613, 2)\n",
        "data.shape"
      ]
    },
    {
      "cell_type": "code",
      "execution_count": null,
      "metadata": {
        "id": "PS7K3p7AqAI8"
      },
      "outputs": [],
      "source": [
        "# clean the text in the dataframe using the clean_text function provided above\n",
        "\n",
        "lines = []\n",
        "for line in text:\n",
        "    \n",
        "    cleaned_list = clean_text(line)\n",
        "    lines.append(cleaned_list)"
      ]
    },
    {
      "cell_type": "code",
      "source": [],
      "metadata": {
        "id": "YMHQ8X1jgKEj"
      },
      "execution_count": null,
      "outputs": []
    },
    {
      "cell_type": "code",
      "execution_count": null,
      "metadata": {
        "id": "GxZC6RIjq3bu"
      },
      "outputs": [],
      "source": [
        "# initialise count vectorizer from sklearn module with default parameter\n",
        "from sklearn.feature_extraction.text import CountVectorizer\n",
        "count_vectorizer = CountVectorizer()\n",
        "\n",
        "# fit and transform on dataset\n",
        "count_wm = count_vectorizer.fit_transform(lines).toarray()\n"
      ]
    },
    {
      "cell_type": "code",
      "source": [
        "X=count_wm"
      ],
      "metadata": {
        "id": "3OU58mODqhuL"
      },
      "execution_count": null,
      "outputs": []
    },
    {
      "cell_type": "code",
      "execution_count": null,
      "metadata": {
        "id": "OPLJgROsP0Mj"
      },
      "outputs": [],
      "source": [
        "# get the values of target column\n",
        "\n",
        "y = target"
      ]
    },
    {
      "cell_type": "markdown",
      "metadata": {
        "id": "xjsiH8YOw-Da"
      },
      "source": [
        "### Q) Build the neural networks using tensorflow keras by following the below instructions. Evaluate the model on different metrics and comment your observations. (15 points)"
      ]
    },
    {
      "cell_type": "code",
      "execution_count": null,
      "metadata": {
        "id": "AQg14bkTq3KB"
      },
      "outputs": [],
      "source": [
        "import tensorflow as tf\n",
        "\n",
        "tf.random.set_seed(42)\n",
        "\n",
        "\n",
        "# complete this linear model in tensorflow\n",
        "def build_model(X):\n",
        "  model = tf.keras.models.Sequential()\n",
        "  # layer 1 : input layer\n",
        "  inp = tf.keras.Input((X.shape[1],))\n",
        "\n",
        "  # layer 2 : add the dense layer with 64 units and relu activation\n",
        "  model.add(tf.keras.layers.Dense(units=64, activation='relu'))\n",
        "\n",
        "  # layer 3 : add the dropout layer with dropout rate of 0.5\n",
        "  model.add(tf.keras.layers.Dropout(rate=0.5))\n",
        "  \n",
        "  # layer 4 : add the dense layer with 32 units with tanh activation and with l2 regularization\n",
        "  model.add(tf.keras.layers.Dense(units=32, activation='tanh', activity_regularizer=tf.keras.regularizers.L2()))\n",
        "\n",
        "  # layer 5 : add the dropout layer with dropout rate of 0.5\n",
        "  model.add(tf.keras.layers.Dropout(rate=0.5))\n",
        "\n",
        "  # layer 6 : add the dense layer with 16 units with tanh activation and with l2 regularization\n",
        "  model.add(tf.keras.layers.Dense(units=16, activation='tanh', activity_regularizer=tf.keras.regularizers.L2()))\n",
        "\n",
        "  # layer 7 : add the dropout layer with dropout rate of 0.5\n",
        "  model.add(tf.keras.layers.Dropout(rate=0.5))\n",
        "\n",
        "  # layer 8 : output layer with units equal to 1 and activation as sigmoid\n",
        "  model.add(tf.keras.layers.Dense(units=1, activation='sigmoid'))\n",
        "\n",
        "  # use loss as binary crossentropy, optimizer as rmsprop and evaluate model on auc \n",
        "  model.compile(loss='binary_crossentropy', optimizer='rmsprop', metrics=[tf.keras.metrics.AUC()])\n",
        "\n",
        "  return model\n",
        "\n"
      ]
    },
    {
      "cell_type": "code",
      "execution_count": null,
      "metadata": {
        "id": "Q71CC1pIsx0O",
        "colab": {
          "base_uri": "https://localhost:8080/",
          "height": 1000
        },
        "outputId": "710ae0b5-498e-4b1c-9444-0cc05f97f877"
      },
      "outputs": [
        {
          "output_type": "stream",
          "name": "stdout",
          "text": [
            "Epoch 1/5\n",
            "381/381 [==============================] - 9s 20ms/step - loss: 0.6097 - auc: 0.7375 - val_loss: 0.5995 - val_auc: 0.7313\n",
            "Epoch 2/5\n",
            "381/381 [==============================] - 7s 18ms/step - loss: 0.4677 - auc: 0.8730 - val_loss: 0.6191 - val_auc: 0.7278\n",
            "Epoch 3/5\n",
            "381/381 [==============================] - 7s 18ms/step - loss: 0.3984 - auc: 0.9115 - val_loss: 0.6374 - val_auc: 0.7229\n",
            "Epoch 4/5\n",
            "381/381 [==============================] - 6s 17ms/step - loss: 0.3527 - auc: 0.9344 - val_loss: 0.6725 - val_auc: 0.7112\n",
            "Epoch 5/5\n",
            "381/381 [==============================] - 6s 16ms/step - loss: 0.3146 - auc: 0.9480 - val_loss: 0.7024 - val_auc: 0.7001\n",
            "Epoch 1/5\n",
            "381/381 [==============================] - 10s 23ms/step - loss: 0.5851 - auc_1: 0.7720 - val_loss: 0.6360 - val_auc_1: 0.6957\n",
            "Epoch 2/5\n",
            "381/381 [==============================] - 6s 17ms/step - loss: 0.4308 - auc_1: 0.8944 - val_loss: 0.7244 - val_auc_1: 0.6744\n",
            "Epoch 3/5\n",
            "381/381 [==============================] - 6s 17ms/step - loss: 0.3700 - auc_1: 0.9240 - val_loss: 0.7972 - val_auc_1: 0.6611\n",
            "Epoch 4/5\n",
            "381/381 [==============================] - 6s 17ms/step - loss: 0.3254 - auc_1: 0.9434 - val_loss: 0.8648 - val_auc_1: 0.6369\n",
            "Epoch 5/5\n",
            "381/381 [==============================] - 6s 17ms/step - loss: 0.2821 - auc_1: 0.9580 - val_loss: 0.9491 - val_auc_1: 0.6308\n",
            "Epoch 1/5\n",
            "381/381 [==============================] - 8s 18ms/step - loss: 0.5855 - auc_2: 0.7633 - val_loss: 0.5988 - val_auc_2: 0.7480\n",
            "Epoch 2/5\n",
            "381/381 [==============================] - 6s 17ms/step - loss: 0.4361 - auc_2: 0.8858 - val_loss: 0.6393 - val_auc_2: 0.7396\n",
            "Epoch 3/5\n",
            "381/381 [==============================] - 6s 17ms/step - loss: 0.3773 - auc_2: 0.9184 - val_loss: 0.7106 - val_auc_2: 0.7306\n",
            "Epoch 4/5\n",
            "381/381 [==============================] - 6s 16ms/step - loss: 0.3317 - auc_2: 0.9387 - val_loss: 0.7409 - val_auc_2: 0.7220\n",
            "Epoch 5/5\n",
            "381/381 [==============================] - 6s 16ms/step - loss: 0.2911 - auc_2: 0.9526 - val_loss: 0.7860 - val_auc_2: 0.7098\n",
            "Epoch 1/5\n",
            "381/381 [==============================] - 8s 18ms/step - loss: 0.6041 - auc_3: 0.7341 - val_loss: 0.6244 - val_auc_3: 0.7126\n",
            "Epoch 2/5\n",
            "381/381 [==============================] - 6s 17ms/step - loss: 0.4475 - auc_3: 0.8834 - val_loss: 0.6667 - val_auc_3: 0.7154\n",
            "Epoch 3/5\n",
            "381/381 [==============================] - 6s 16ms/step - loss: 0.3847 - auc_3: 0.9190 - val_loss: 0.7000 - val_auc_3: 0.6974\n",
            "Epoch 4/5\n",
            "381/381 [==============================] - 6s 17ms/step - loss: 0.3370 - auc_3: 0.9402 - val_loss: 0.7408 - val_auc_3: 0.6875\n",
            "Epoch 5/5\n",
            "381/381 [==============================] - 6s 17ms/step - loss: 0.2872 - auc_3: 0.9573 - val_loss: 0.7921 - val_auc_3: 0.6820\n",
            "Epoch 1/5\n",
            "381/381 [==============================] - 9s 20ms/step - loss: 0.6163 - auc_4: 0.7223 - val_loss: 0.4954 - val_auc_4: 0.8481\n",
            "Epoch 2/5\n",
            "381/381 [==============================] - 7s 17ms/step - loss: 0.4649 - auc_4: 0.8726 - val_loss: 0.4918 - val_auc_4: 0.8464\n",
            "Epoch 3/5\n",
            "381/381 [==============================] - 7s 17ms/step - loss: 0.3978 - auc_4: 0.9126 - val_loss: 0.5203 - val_auc_4: 0.8418\n",
            "Epoch 4/5\n",
            "381/381 [==============================] - 6s 17ms/step - loss: 0.3569 - auc_4: 0.9314 - val_loss: 0.5422 - val_auc_4: 0.8278\n",
            "Epoch 5/5\n",
            "381/381 [==============================] - 6s 17ms/step - loss: 0.3111 - auc_4: 0.9472 - val_loss: 0.6033 - val_auc_4: 0.8206\n"
          ]
        },
        {
          "output_type": "display_data",
          "data": {
            "text/plain": [
              "<Figure size 432x288 with 1 Axes>"
            ],
            "image/png": "[encoded data removed]"
          },
          "metadata": {
            "needs_background": "light"
          }
        },
        {
          "output_type": "display_data",
          "data": {
            "text/plain": [
              "<Figure size 432x288 with 1 Axes>"
            ],
            "image/png": "[encoded data removed]"
          },
          "metadata": {
            "needs_background": "light"
          }
        },
        {
          "output_type": "display_data",
          "data": {
            "text/plain": [
              "<Figure size 432x288 with 1 Axes>"
            ],
            "image/png": "[encoded data removed]"
          },
          "metadata": {
            "needs_background": "light"
          }
        },
        {
          "output_type": "display_data",
          "data": {
            "text/plain": [
              "<Figure size 432x288 with 1 Axes>"
            ],
            "image/png": "[encoded data removed]"
          },
          "metadata": {
            "needs_background": "light"
          }
        },
        {
          "output_type": "display_data",
          "data": {
            "text/plain": [
              "<Figure size 432x288 with 1 Axes>"
            ],
            "image/png": "[encoded data removed]"
          },
          "metadata": {
            "needs_background": "light"
          }
        }
      ],
      "source": [
        "from sklearn.model_selection import StratifiedKFold\n",
        "import numpy as np\n",
        "\n",
        "# Now we will initialise the stratified K-Fold from sklearn with nsplits as 5\n",
        "\n",
        "skf = StratifiedKFold(n_splits=5)\n",
        "\n",
        "# Now Split the countvectors and target (y)\n",
        "splits = skf.split(X, y)\n",
        "\n",
        "# iterate through the train and valid index in splits for 5 folds\n",
        "for train_index, test_index in splits:                          #skf.split(df, target):\n",
        "  # Get X_train, X_valid, y_train, y_valid using indexes\n",
        "  X_train, X_valid = X[train_index], X[test_index]\n",
        "  y_train, y_valid = y[train_index], y[test_index]\n",
        "  \n",
        "  #call the build_model function and initialize the model\n",
        "  model = build_model(X_train)\n",
        "\n",
        "  # train and validate the model on the count vectors of text which we have created initially for 5 epochs, \n",
        "  # adjust batch size according to your computation power (suggestion use : 16)\n",
        "  history=model.fit(X_train,y_train,\n",
        "            validation_data=(X_valid,y_valid),\n",
        "            batch_size=16,\n",
        "            epochs=5\n",
        "            )\n",
        "\n",
        "\n",
        "# plot the graph between training auc and validation auc\n",
        "  para = pd.DataFrame(model.history.history)\n",
        "#auc_cols = [col for col in model_params.columns if 'auc' in col]\n",
        "  para.iloc[:, np.r_[1,3]].plot(ylim=[0,1.2]);\n",
        "\n"
      ]
    },
    {
      "cell_type": "markdown",
      "metadata": {
        "id": "7ZZKV7OTVKNG"
      },
      "source": [
        "### Q) Comment on the plots. How did it varied across different folds for neural networks?\n",
        "\n",
        "The auc of roc is increasing at every fold."
      ]
    },
    {
      "cell_type": "markdown",
      "metadata": {
        "id": "Z9NCC6iWVH3z"
      },
      "source": [
        "# Building Multinomial Navie Bayes on Countvectors"
      ]
    },
    {
      "cell_type": "code",
      "execution_count": null,
      "metadata": {
        "id": "KyAZNgsBsxwo"
      },
      "outputs": [],
      "source": [
        "\n",
        "from sklearn.naive_bayes import MultinomialNB\n",
        "from sklearn.metrics import roc_curve, auc\n",
        "import matplotlib.pyplot as plt\n",
        "\n",
        "# iterate through the train and valid index in splits for 5 folds. Use the splits created above.\n",
        "for train_index, test_index in splits:                         \n",
        "  # Get X_train, X_valid, y_train, y_valid using indexes\n",
        "  X_train, X_valid = X[train_index], X[test_index]\n",
        "  y_train, y_valid = y[train_index], y[test_index]\n",
        "  \n",
        "\n",
        "\n",
        "\n",
        "\n",
        "\n",
        "# intialise multinomial navie bayes with default parameters\n",
        "model = MultinomialNB()\n",
        " \n",
        "# fit the data\n",
        "model.fit(X_train, y_train)\n",
        "\n",
        "pred =  model.predict(X_valid)\n",
        "# plot AUC-ROC curve for validation data\n"
      ]
    },
    {
      "cell_type": "code",
      "source": [
        "from sklearn.metrics import roc_curve, auc\n",
        "import matplotlib.pyplot as plt\n",
        "\n",
        "fpr, tpr, threshold = roc_curve(y_valid, pred)\n",
        "auc_logistic = auc(fpr, tpr)\n",
        "\n",
        "\n",
        "\n",
        "plt.figure(figsize=(5, 5), dpi=100)\n",
        "\n",
        "plt.plot(fpr,tpr, marker='.', label='Logistic (auc = %0.3f)' % auc_logistic)\n",
        "\n",
        "plt.xlabel('False Positive Rate -->')\n",
        "plt.ylabel('True Positive Rate -->')\n",
        "\n",
        "plt.legend()\n",
        "\n",
        "plt.show()"
      ],
      "metadata": {
        "colab": {
          "base_uri": "https://localhost:8080/",
          "height": 457
        },
        "id": "4ngc_Vn0QcsD",
        "outputId": "489de852-d557-461a-f1bf-3bdb9a4aee05"
      },
      "execution_count": null,
      "outputs": [
        {
          "output_type": "display_data",
          "data": {
            "text/plain": [
              "<Figure size 500x500 with 1 Axes>"
            ],
            "image/png": "[encoded data removed]"
          },
          "metadata": {
            "needs_background": "light"
          }
        }
      ]
    },
    {
      "cell_type": "markdown",
      "metadata": {
        "id": "2eOdlcXOWRj6"
      },
      "source": [
        "### Q) Comment on the plots. How did it varied across different folds for Multinomial Naive Bayes?\n",
        "\n",
        "\n",
        "The auc for the curve is 0.753.It will more less renmain th same as we have used startified"
      ]
    },
    {
      "cell_type": "markdown",
      "metadata": {
        "id": "4adDDQWeQyGb"
      },
      "source": [
        "## Question 4 Theory Question  \n",
        "\n",
        "What is the difference between Count Vectorizer, TFIDF, Word2Vec and Glove? (5 points)"
      ]
    },
    {
      "cell_type": "markdown",
      "metadata": {
        "id": "cXTRkF6KRB_D"
      },
      "source": [
        "**Answer:**  Glove and word2vec are  models that depend on word vectors by using the information from the generated vaules of occurrence and co-occurrence.\n",
        "\n",
        "TF-IDF is used where we need to evaluate and decide on article topics. This is accomplished by the words that are used. Words are assigned weight by using the the context in which they are used.In TH-IDF the relevance is an important factor.\n",
        "\n",
        "Count vectorizer is just frequency of each word in given document. Therefore, this can only measure the occurrences of a given word and not the importance.\n",
        "Tf-idf generates a score, whereas Word2vec generates one vector for each word. Word2vec is excellent for digging deeper into our documents and aids in locating content and content subsets. Each word's context is represented by its vectors.\n",
        "\n",
        "Sparse matrix is generated by Count Vectorization and TF-IDF which can be hard/ redundant while training a model; whereas word2vec and Glove generates a specifc vector of a word which has a meaning and less sparse as well."
      ]
    },
    {
      "cell_type": "markdown",
      "metadata": {
        "id": "yQQsqcto79zE"
      },
      "source": [
        "What is the significant difference between the Niave Bayes Implementation using Bag of Words and TF-IDF? (5 points)"
      ]
    },
    {
      "cell_type": "markdown",
      "metadata": {
        "id": "JtiPCTZM8Aua"
      },
      "source": [
        "**Answer:**A probabilistic classifier , Naive Bayes, makes the assumption that every variable has the same distribution and is independent of every other variable. It is crucial to translate the words into a numerical representation before applying natural language processing techniques to a batch of data. The two feature extraction techniques are Bag of Words (BoW) and TF-IDF, and this procedure is known as feature extraction. The numerical vector's density or sparsity is the primary distinction between BoW and TF-IDF. For each news article in the BoW format, a vector is constructed, and if a word is present, a 1 is added to the vector; if not, a 0 is added. Considering that a binary representation is being used, this may result in a sparsely populated matrix."
      ]
    },
    {
      "cell_type": "code",
      "execution_count": null,
      "metadata": {
        "id": "OaXBo1Bw8C1K"
      },
      "outputs": [],
      "source": []
    }
  ],
  "metadata": {
    "colab": {
      "collapsed_sections": [],
      "provenance": [],
      "include_colab_link": true
    },
    "kernelspec": {
      "display_name": "Python 3",
      "language": "python",
      "name": "python3"
    },
    "language_info": {
      "codemirror_mode": {
        "name": "ipython",
        "version": 3
      },
      "file_extension": ".py",
      "mimetype": "text/x-python",
      "name": "python",
      "nbconvert_exporter": "python",
      "pygments_lexer": "ipython3",
      "version": "3.7.5"
    }
  },
  "nbformat": 4,
  "nbformat_minor": 0
}